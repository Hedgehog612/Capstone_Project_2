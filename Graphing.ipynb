{
 "cells": [
  {
   "cell_type": "code",
   "execution_count": 126,
   "metadata": {},
   "outputs": [],
   "source": [
    "import pandas as pd\n",
    "import matplotlib.pyplot as plt\n",
    "import matplotlib.patches as mpatches\n",
    "import random\n",
    "from progress.bar import Bar\n",
    "from matplotlib import cm"
   ]
  },
  {
   "cell_type": "code",
   "execution_count": 192,
   "metadata": {},
   "outputs": [
    {
     "name": "stderr",
     "output_type": "stream",
     "text": [
      "C:\\Users\\marcu\\Anaconda3\\lib\\site-packages\\IPython\\core\\interactiveshell.py:3058: DtypeWarning: Columns (13,22,24,50,51) have mixed types. Specify dtype option on import or set low_memory=False.\n",
      "  interactivity=interactivity, compiler=compiler, result=result)\n"
     ]
    }
   ],
   "source": [
    "propval = pd.read_csv('clean_propval_final.csv')"
   ]
  },
  {
   "cell_type": "code",
   "execution_count": 17,
   "metadata": {},
   "outputs": [
    {
     "data": {
      "text/html": [
       "<div>\n",
       "<style scoped>\n",
       "    .dataframe tbody tr th:only-of-type {\n",
       "        vertical-align: middle;\n",
       "    }\n",
       "\n",
       "    .dataframe tbody tr th {\n",
       "        vertical-align: top;\n",
       "    }\n",
       "\n",
       "    .dataframe thead th {\n",
       "        text-align: right;\n",
       "    }\n",
       "</style>\n",
       "<table border=\"1\" class=\"dataframe\">\n",
       "  <thead>\n",
       "    <tr style=\"text-align: right;\">\n",
       "      <th></th>\n",
       "      <th>Unnamed: 0</th>\n",
       "      <th>BORO</th>\n",
       "      <th>BLOCK</th>\n",
       "      <th>LOT</th>\n",
       "      <th>EASE</th>\n",
       "      <th>SECVOL</th>\n",
       "      <th>DISTRICT</th>\n",
       "      <th>YEAR4</th>\n",
       "      <th>CUR_FV_L</th>\n",
       "      <th>CUR_FV_T</th>\n",
       "      <th>...</th>\n",
       "      <th>REUC8</th>\n",
       "      <th>REUC9</th>\n",
       "      <th>REUC10</th>\n",
       "      <th>REUC11</th>\n",
       "      <th>REUC12</th>\n",
       "      <th>EX_INDS0</th>\n",
       "      <th>EX_INDS1</th>\n",
       "      <th>EX_INDS2</th>\n",
       "      <th>EX_INDS3</th>\n",
       "      <th>EX_INDS4</th>\n",
       "    </tr>\n",
       "  </thead>\n",
       "  <tbody>\n",
       "    <tr>\n",
       "      <td>0</td>\n",
       "      <td>0</td>\n",
       "      <td>1</td>\n",
       "      <td>75</td>\n",
       "      <td>43</td>\n",
       "      <td>O</td>\n",
       "      <td>102</td>\n",
       "      <td>M1</td>\n",
       "      <td>2010</td>\n",
       "      <td>5690000</td>\n",
       "      <td>9480000</td>\n",
       "      <td>...</td>\n",
       "      <td>False</td>\n",
       "      <td>False</td>\n",
       "      <td>False</td>\n",
       "      <td>False</td>\n",
       "      <td>False</td>\n",
       "      <td>True</td>\n",
       "      <td>False</td>\n",
       "      <td>False</td>\n",
       "      <td>False</td>\n",
       "      <td>False</td>\n",
       "    </tr>\n",
       "    <tr>\n",
       "      <td>1</td>\n",
       "      <td>1</td>\n",
       "      <td>1</td>\n",
       "      <td>78</td>\n",
       "      <td>40</td>\n",
       "      <td>O</td>\n",
       "      <td>102</td>\n",
       "      <td>M1</td>\n",
       "      <td>2010</td>\n",
       "      <td>4620000</td>\n",
       "      <td>6140000</td>\n",
       "      <td>...</td>\n",
       "      <td>False</td>\n",
       "      <td>False</td>\n",
       "      <td>False</td>\n",
       "      <td>False</td>\n",
       "      <td>False</td>\n",
       "      <td>True</td>\n",
       "      <td>False</td>\n",
       "      <td>False</td>\n",
       "      <td>False</td>\n",
       "      <td>False</td>\n",
       "    </tr>\n",
       "    <tr>\n",
       "      <td>2</td>\n",
       "      <td>2</td>\n",
       "      <td>1</td>\n",
       "      <td>97</td>\n",
       "      <td>17</td>\n",
       "      <td>O</td>\n",
       "      <td>103</td>\n",
       "      <td>M1</td>\n",
       "      <td>2010</td>\n",
       "      <td>2990000</td>\n",
       "      <td>4990000</td>\n",
       "      <td>...</td>\n",
       "      <td>False</td>\n",
       "      <td>False</td>\n",
       "      <td>False</td>\n",
       "      <td>False</td>\n",
       "      <td>False</td>\n",
       "      <td>True</td>\n",
       "      <td>False</td>\n",
       "      <td>False</td>\n",
       "      <td>False</td>\n",
       "      <td>False</td>\n",
       "    </tr>\n",
       "    <tr>\n",
       "      <td>3</td>\n",
       "      <td>3</td>\n",
       "      <td>1</td>\n",
       "      <td>97</td>\n",
       "      <td>36</td>\n",
       "      <td>O</td>\n",
       "      <td>103</td>\n",
       "      <td>M1</td>\n",
       "      <td>2010</td>\n",
       "      <td>3950000</td>\n",
       "      <td>6590000</td>\n",
       "      <td>...</td>\n",
       "      <td>False</td>\n",
       "      <td>False</td>\n",
       "      <td>False</td>\n",
       "      <td>False</td>\n",
       "      <td>False</td>\n",
       "      <td>False</td>\n",
       "      <td>False</td>\n",
       "      <td>False</td>\n",
       "      <td>False</td>\n",
       "      <td>True</td>\n",
       "    </tr>\n",
       "    <tr>\n",
       "      <td>4</td>\n",
       "      <td>4</td>\n",
       "      <td>1</td>\n",
       "      <td>97</td>\n",
       "      <td>44</td>\n",
       "      <td>O</td>\n",
       "      <td>103</td>\n",
       "      <td>M1</td>\n",
       "      <td>2010</td>\n",
       "      <td>1530000</td>\n",
       "      <td>2550000</td>\n",
       "      <td>...</td>\n",
       "      <td>False</td>\n",
       "      <td>False</td>\n",
       "      <td>False</td>\n",
       "      <td>False</td>\n",
       "      <td>False</td>\n",
       "      <td>True</td>\n",
       "      <td>False</td>\n",
       "      <td>False</td>\n",
       "      <td>False</td>\n",
       "      <td>False</td>\n",
       "    </tr>\n",
       "  </tbody>\n",
       "</table>\n",
       "<p>5 rows × 208 columns</p>\n",
       "</div>"
      ],
      "text/plain": [
       "   Unnamed: 0  BORO  BLOCK  LOT EASE  SECVOL DISTRICT  YEAR4  CUR_FV_L  \\\n",
       "0           0     1     75   43    O     102       M1   2010   5690000   \n",
       "1           1     1     78   40    O     102       M1   2010   4620000   \n",
       "2           2     1     97   17    O     103       M1   2010   2990000   \n",
       "3           3     1     97   36    O     103       M1   2010   3950000   \n",
       "4           4     1     97   44    O     103       M1   2010   1530000   \n",
       "\n",
       "   CUR_FV_T  ...  REUC8  REUC9 REUC10  REUC11  REUC12  EX_INDS0  EX_INDS1  \\\n",
       "0   9480000  ...  False  False  False   False   False      True     False   \n",
       "1   6140000  ...  False  False  False   False   False      True     False   \n",
       "2   4990000  ...  False  False  False   False   False      True     False   \n",
       "3   6590000  ...  False  False  False   False   False     False     False   \n",
       "4   2550000  ...  False  False  False   False   False      True     False   \n",
       "\n",
       "   EX_INDS2  EX_INDS3  EX_INDS4  \n",
       "0     False     False     False  \n",
       "1     False     False     False  \n",
       "2     False     False     False  \n",
       "3     False     False      True  \n",
       "4     False     False     False  \n",
       "\n",
       "[5 rows x 208 columns]"
      ]
     },
     "execution_count": 17,
     "metadata": {},
     "output_type": "execute_result"
    }
   ],
   "source": [
    "propval.head()"
   ]
  },
  {
   "cell_type": "code",
   "execution_count": 21,
   "metadata": {},
   "outputs": [
    {
     "data": {
      "text/plain": [
       "Index(['RES_UNIT', 'LFRT_DEC', 'LDEP_DEC', 'L_ACRE', 'IRREG', 'BFRT_DEC',\n",
       "       'BDEP_DEC', 'EXT', 'STORY', 'BLDGS', 'CORNER', 'LND_AREA', 'GR_SQFT',\n",
       "       'ZONING', 'YRB', 'YRB_FLAG', 'YRB_RNG', 'YRA1', 'YRA1_RNG', 'YRA2',\n",
       "       'YRA2_RNG', 'CP_BORO', 'CP_DIST', 'LIMIT', 'O_LIMIT'],\n",
       "      dtype='object')"
      ]
     },
     "execution_count": 21,
     "metadata": {},
     "output_type": "execute_result"
    }
   ],
   "source": [
    "propval.columns[50:75]"
   ]
  },
  {
   "cell_type": "code",
   "execution_count": 19,
   "metadata": {
    "scrolled": true
   },
   "outputs": [
    {
     "data": {
      "text/plain": [
       "0          1974\n",
       "1          1910\n",
       "2          1900\n",
       "3          1901\n",
       "4          1998\n",
       "           ... \n",
       "5738470    1925\n",
       "5738471    1915\n",
       "5738472    1915\n",
       "5738473    1950\n",
       "5738474    1945\n",
       "Name: YRB, Length: 5738475, dtype: int64"
      ]
     },
     "execution_count": 19,
     "metadata": {},
     "output_type": "execute_result"
    }
   ],
   "source": [
    "propval.YRB"
   ]
  },
  {
   "cell_type": "code",
   "execution_count": 20,
   "metadata": {},
   "outputs": [
    {
     "data": {
      "text/plain": [
       "Text(0.5, 1.0, 'Property date rounding, 1900-2000')"
      ]
     },
     "execution_count": 20,
     "metadata": {},
     "output_type": "execute_result"
    },
    {
     "data": {
      "image/png": "[encoded data removed]",
      "text/plain": [
       "<Figure size 432x288 with 1 Axes>"
      ]
     },
     "metadata": {
      "needs_background": "light"
     },
     "output_type": "display_data"
    }
   ],
   "source": [
    "plt.hist(propval.YRB, bins = range(1900, 2000))\n",
    "plt.xlabel('Year built')\n",
    "plt.ylabel('Number of properties')\n",
    "plt.title('Property date rounding, 1900-2000')"
   ]
  },
  {
   "cell_type": "code",
   "execution_count": 9,
   "metadata": {},
   "outputs": [],
   "source": [
    "#Modify final actual assessed total value to remove property date rounding"
   ]
  },
  {
   "cell_type": "code",
   "execution_count": null,
   "metadata": {},
   "outputs": [],
   "source": []
  },
  {
   "cell_type": "code",
   "execution_count": 2,
   "metadata": {},
   "outputs": [],
   "source": [
    "example = [[1, 1, 1, 0.5, 0, 0, 0],\n",
    "           [1, 0.5, 0, 0, 0, 0, 0], \n",
    "           [1, 1, 1, 1, 1, 1, 1],\n",
    "           [1, 1, 1, 1, 0.5, 0, 0],\n",
    "           [1, 1, 1, 0.5, 0, 0, 0],\n",
    "           [1, 1, 0.5, 0, 0, 0, 0],\n",
    "           [1, 1, 0.5, 0, 0, 0, 0]]"
   ]
  },
  {
   "cell_type": "code",
   "execution_count": 44,
   "metadata": {},
   "outputs": [],
   "source": [
    "xrun = [1, 2, 3, 4, 5, 6, 7]\n",
    "ex0 = [-3, 0, -3, -3, -3, -3, -3]\n",
    "ex1 = [-1, -3, 2, 3, -2, -1, 2]\n",
    "ex2 = [0, 0, 1, 2, 0, 0, 1]\n",
    "white = [0, -2, 0, 0, -1, 0, 0]"
   ]
  },
  {
   "cell_type": "code",
   "execution_count": 52,
   "metadata": {},
   "outputs": [
    {
     "data": {
      "text/plain": [
       "<matplotlib.legend.Legend at 0x1b6cae621c8>"
      ]
     },
     "execution_count": 52,
     "metadata": {},
     "output_type": "execute_result"
    },
    {
     "data": {
      "image/png": "[encoded data removed]",
      "text/plain": [
       "<Figure size 432x288 with 1 Axes>"
      ]
     },
     "metadata": {
      "needs_background": "light"
     },
     "output_type": "display_data"
    }
   ],
   "source": [
    "plt.bar(x = xrun, height = ex0, color = 'blue')\n",
    "plt.bar(x = xrun, height = ex1, color = 'lightblue')\n",
    "plt.bar(x = xrun, height = ex2, color = 'blue')\n",
    "plt.bar(x = xrun, height = white, color = 'white')\n",
    "#plt.axhline(y = -3, ls = ':', color = 'black')\n",
    "#plt.axhline(y = -2, ls = ':', color = 'black')\n",
    "#plt.axhline(y = -1, ls = ':', color = 'black')\n",
    "#plt.axhline(y = 0, ls = '--', color = 'red')\n",
    "#plt.axhline(y = 1, ls = ':', color = 'black')\n",
    "#plt.axhline(y = 2, ls = ':', color = 'black')\n",
    "#plt.axhline(y = 3, ls = ':', color = 'black')\n",
    "plt.title('Example Random Forest Composite')\n",
    "plt.xlabel('Houses')\n",
    "plt.ylabel('Standard deviations')\n",
    "plt.legend(['Known valuation', 'Valuation bracket'], loc = 'upper right')"
   ]
  },
  {
   "cell_type": "code",
   "execution_count": 180,
   "metadata": {},
   "outputs": [],
   "source": [
    "ex1 = [2, 4, 5, 3, 2, 5, 1]"
   ]
  },
  {
   "cell_type": "code",
   "execution_count": 181,
   "metadata": {},
   "outputs": [],
   "source": [
    "data = [[], [], [], [], [], [], []]\n",
    "for x in range(len(ex1)):\n",
    "    remainder = ex1[x]\n",
    "    for y in range(7):\n",
    "        if y < ex1[x]:\n",
    "            data[x].append(1)\n",
    "        else:\n",
    "            data[x].append(0)"
   ]
  },
  {
   "cell_type": "code",
   "execution_count": 182,
   "metadata": {},
   "outputs": [],
   "source": [
    "data = [1, 0, 1, 0, 1, 0, 1, 0, 1, 0, 1, 0, 1, 0]"
   ]
  },
  {
   "cell_type": "code",
   "execution_count": 183,
   "metadata": {
    "scrolled": true
   },
   "outputs": [],
   "source": [
    "bruteforce = [0, 0, 1, 1, 2, 2, 3, 3, 4, 4, 5, 5, 6, 6]"
   ]
  },
  {
   "cell_type": "code",
   "execution_count": 187,
   "metadata": {},
   "outputs": [],
   "source": [
    "b2 = [-.33, 0, 0, .33, .33, .66, -.33, 0, -.66, -.33, -.33, 0, -1, -.66]"
   ]
  },
  {
   "cell_type": "code",
   "execution_count": 189,
   "metadata": {
    "scrolled": true
   },
   "outputs": [
    {
     "data": {
      "text/plain": [
       "([<matplotlib.axis.YTick at 0x1b6d11deb88>,\n",
       "  <matplotlib.axis.YTick at 0x1b6d11de248>,\n",
       "  <matplotlib.axis.YTick at 0x1b6d11ebb88>,\n",
       "  <matplotlib.axis.YTick at 0x1b6d12328c8>,\n",
       "  <matplotlib.axis.YTick at 0x1b6d1232e88>,\n",
       "  <matplotlib.axis.YTick at 0x1b6d1235588>],\n",
       " <a list of 6 Text yticklabel objects>)"
      ]
     },
     "execution_count": 189,
     "metadata": {},
     "output_type": "execute_result"
    },
    {
     "data": {
      "image/png": "[encoded data removed]",
      "text/plain": [
       "<Figure size 432x288 with 1 Axes>"
      ]
     },
     "metadata": {
      "needs_background": "light"
     },
     "output_type": "display_data"
    }
   ],
   "source": [
    "viridis = cm.get_cmap('prism')\n",
    "plt.scatter(x = bruteforce, y = b2, c = data, cmap = viridis)\n",
    "plt.xlabel('House')\n",
    "plt.ylabel('Standard deviation')\n",
    "plt.axvline(x = 0, ymin = 0.42, ymax = 0.58, c = 'blue')\n",
    "plt.axvline(x = 1, ymin = 0.60, ymax = 0.76, c = 'blue')\n",
    "plt.axvline(x = 2, ymin = 0.78, ymax = 0.95, c = 'blue')\n",
    "plt.axvline(x = 3, ymin = 0.42, ymax = 0.58, c = 'blue')\n",
    "plt.axvline(x = 4, ymin = 0.23, ymax = 0.40, c = 'blue')\n",
    "plt.axvline(x = 5, ymin = 0.42, ymax = 0.58, c = 'blue')\n",
    "plt.axvline(x = 6, ymin = 0.05, ymax = 0.22, c = 'blue')\n",
    "plt.axhline(0, c = 'black', ls = ':')\n",
    "red_dot = mpatches.Patch(color = 'red', label = 'Negative result')\n",
    "green_dot = mpatches.Patch(color = 'lime', label = 'Positive result')\n",
    "blue_line = mpatches.Patch(color = 'blue', label = 'Valuation range')\n",
    "black_line = mpatches.Patch(color = 'black', label = 'Mean valuation')\n",
    "plt.legend(handles = [red_dot, green_dot, blue_line, black_line], loc = 'upper right')\n",
    "plt.title('Composite random forest example')\n",
    "plt.xticks([])\n",
    "plt.yticks([.66, .33, 0, -.33, -.66, -1])"
   ]
  },
  {
   "cell_type": "code",
   "execution_count": 70,
   "metadata": {},
   "outputs": [
    {
     "data": {
      "text/plain": [
       "range(0, 7)"
      ]
     },
     "execution_count": 70,
     "metadata": {},
     "output_type": "execute_result"
    }
   ],
   "source": [
    "range(0, 7)"
   ]
  },
  {
   "cell_type": "code",
   "execution_count": null,
   "metadata": {},
   "outputs": [],
   "source": []
  },
  {
   "cell_type": "code",
   "execution_count": 193,
   "metadata": {},
   "outputs": [],
   "source": [
    "man_data = propval[propval.BORO == 1]"
   ]
  },
  {
   "cell_type": "code",
   "execution_count": 200,
   "metadata": {},
   "outputs": [],
   "source": [
    "blocks = man_data.groupby(['BLOCK']).mean()"
   ]
  },
  {
   "cell_type": "code",
   "execution_count": 204,
   "metadata": {},
   "outputs": [
    {
     "data": {
      "text/plain": [
       "Text(0, 0.5, 'Mean valuation')"
      ]
     },
     "execution_count": 204,
     "metadata": {},
     "output_type": "execute_result"
    },
    {
     "data": {
      "image/png": "[encoded data removed]",
      "text/plain": [
       "<Figure size 432x288 with 1 Axes>"
      ]
     },
     "metadata": {
      "needs_background": "light"
     },
     "output_type": "display_data"
    }
   ],
   "source": [
    "plt.scatter(x = blocks.index, y = blocks.FN_AVT_A)\n",
    "plt.title('Manhattan mean valuation per block')\n",
    "plt.xlabel('Block #')\n",
    "plt.ylabel('Mean valuation')"
   ]
  },
  {
   "cell_type": "code",
   "execution_count": null,
   "metadata": {},
   "outputs": [],
   "source": []
  }
 ],
 "metadata": {
  "kernelspec": {
   "display_name": "Python 3",
   "language": "python",
   "name": "python3"
  },
  "language_info": {
   "codemirror_mode": {
    "name": "ipython",
    "version": 3
   },
   "file_extension": ".py",
   "mimetype": "text/x-python",
   "name": "python",
   "nbconvert_exporter": "python",
   "pygments_lexer": "ipython3",
   "version": "3.7.4"
  }
 },
 "nbformat": 4,
 "nbformat_minor": 2
}
