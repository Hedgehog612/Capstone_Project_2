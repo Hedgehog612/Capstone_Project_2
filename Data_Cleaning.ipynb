{
 "cells": [
  {
   "cell_type": "code",
   "execution_count": null,
   "metadata": {},
   "outputs": [],
   "source": [
    "#This notebook is for cleaning the NYC valuation data."
   ]
  },
  {
   "cell_type": "code",
   "execution_count": null,
   "metadata": {},
   "outputs": [],
   "source": [
    "import pandas as pd\n",
    "import matplotlib.pyplot as plt\n",
    "import matplotlib.patches as mpatches\n",
    "import datetime as dt\n",
    "import numpy as np\n",
    "import re"
   ]
  },
  {
   "cell_type": "code",
   "execution_count": null,
   "metadata": {
    "scrolled": true
   },
   "outputs": [],
   "source": [
    "propval = pd.read_csv('property_valuation_data.csv')"
   ]
  },
  {
   "cell_type": "code",
   "execution_count": null,
   "metadata": {},
   "outputs": [],
   "source": []
  },
  {
   "cell_type": "code",
   "execution_count": null,
   "metadata": {},
   "outputs": [],
   "source": [
    "#From Data_visualization, we have several columns we can immediately cut"
   ]
  },
  {
   "cell_type": "code",
   "execution_count": null,
   "metadata": {},
   "outputs": [],
   "source": [
    "propval.drop(axis=1, labels = ['DELCHG', 'CORCHG', 'NODESC', 'MBLDG', 'CONDO_S3', 'CONDO_A'], inplace=True)"
   ]
  },
  {
   "cell_type": "code",
   "execution_count": null,
   "metadata": {},
   "outputs": [],
   "source": [
    "propval.drop(axis = 1, labels = 'BBLE', inplace = True)"
   ]
  },
  {
   "cell_type": "code",
   "execution_count": null,
   "metadata": {},
   "outputs": [],
   "source": []
  },
  {
   "cell_type": "code",
   "execution_count": null,
   "metadata": {},
   "outputs": [],
   "source": [
    "#Propval's EASE column indicates presence of easement"
   ]
  },
  {
   "cell_type": "code",
   "execution_count": null,
   "metadata": {},
   "outputs": [],
   "source": [
    "propval.EASE.unique()"
   ]
  },
  {
   "cell_type": "code",
   "execution_count": null,
   "metadata": {},
   "outputs": [],
   "source": [
    "#Air easement\n",
    "propval['EASEA'] = [ease == 'A' for ease in propval['EASE']]\n",
    "#Non-air easement\n",
    "propval['EASEB'] = [ease == 'B' for ease in propval['EASE']]\n",
    "#Land easement\n",
    "propval['EASEE'] = [ease in ['E', 'F', 'G', 'H'] for ease in propval['EASE']]\n",
    "#Non-transit easement\n",
    "propval['EASEN'] = [ease == 'N' for ease in propval['EASE']]\n",
    "#No easement\n",
    "propval['EASEO'] = [ease == 'O' for ease in propval['EASE']]"
   ]
  },
  {
   "cell_type": "code",
   "execution_count": null,
   "metadata": {},
   "outputs": [],
   "source": [
    "propval.drop(axis = 1, labels = 'EASE', inplace = True)"
   ]
  },
  {
   "cell_type": "code",
   "execution_count": null,
   "metadata": {},
   "outputs": [],
   "source": [
    "#TXCL needs normalization"
   ]
  },
  {
   "cell_type": "code",
   "execution_count": null,
   "metadata": {},
   "outputs": [],
   "source": [
    "#1-3 unit residences\n",
    "propval['TXCL1'] = [ease == '1' for ease in propval['TXCL']]\n",
    "#1-3 story condominiums\n",
    "propval['TXCL1A'] = [ease == '1A' for ease in propval['TXCL']]\n",
    "#Residential vacant land\n",
    "propval['TXCL1B'] = [ease == '1B' for ease in propval['TXCL']]\n",
    "#1-3 unit condominiums\n",
    "propval['TXCL1C'] = [ease == '1C' for ease in propval['TXCL']]\n",
    "#'Select bungalow colonies'\n",
    "propval['TXCL1D'] = [ease == '1D' for ease in propval['TXCL']]"
   ]
  },
  {
   "cell_type": "code",
   "execution_count": null,
   "metadata": {},
   "outputs": [],
   "source": [
    "propval.drop(axis = 1, labels = 'TXCL', inplace = True)"
   ]
  },
  {
   "cell_type": "code",
   "execution_count": null,
   "metadata": {},
   "outputs": [],
   "source": []
  },
  {
   "cell_type": "code",
   "execution_count": null,
   "metadata": {},
   "outputs": [],
   "source": [
    "#L_ACRE indicates if the lot is an acre in size"
   ]
  },
  {
   "cell_type": "code",
   "execution_count": null,
   "metadata": {},
   "outputs": [],
   "source": [
    "#Replacing with Bool\n",
    "propval.L_ACRE.fillna(False, inplace = True)\n",
    "propval.L_ACRE.replace(to_replace = 'A', value = True, inplace = True)"
   ]
  },
  {
   "cell_type": "code",
   "execution_count": null,
   "metadata": {},
   "outputs": [],
   "source": []
  },
  {
   "cell_type": "code",
   "execution_count": null,
   "metadata": {},
   "outputs": [],
   "source": [
    "#IRREG indicates if the lot is irregularly shaped"
   ]
  },
  {
   "cell_type": "code",
   "execution_count": null,
   "metadata": {},
   "outputs": [],
   "source": [
    "#Replacing with Bool\n",
    "propval.IRREG.fillna(False, inplace = True)\n",
    "propval.IRREG.replace(to_replace = 'I', value = True, inplace = True)\n",
    "propval.IRREG.replace(to_replace = 'R', value = False, inplace = True)"
   ]
  },
  {
   "cell_type": "code",
   "execution_count": null,
   "metadata": {},
   "outputs": [],
   "source": []
  },
  {
   "cell_type": "code",
   "execution_count": null,
   "metadata": {},
   "outputs": [],
   "source": [
    "#BLD_VAR indicates if the building is irregularly shaped. it is always nan and can be dropped\n",
    "#as it contributes nothing."
   ]
  },
  {
   "cell_type": "code",
   "execution_count": null,
   "metadata": {},
   "outputs": [],
   "source": [
    "propval.drop(axis = 1, labels = 'BLD_VAR', inplace = True)"
   ]
  },
  {
   "cell_type": "code",
   "execution_count": null,
   "metadata": {},
   "outputs": [],
   "source": []
  },
  {
   "cell_type": "code",
   "execution_count": null,
   "metadata": {},
   "outputs": [],
   "source": [
    "#EXT indicates if the property has an extension."
   ]
  },
  {
   "cell_type": "code",
   "execution_count": null,
   "metadata": {},
   "outputs": [],
   "source": [
    "#Has none\n",
    "propval.EXT.fillna('O', inplace = True)\n",
    "propval['EXTO'] = [ease == 'O' for ease in propval['EXT']]\n",
    "#Has extension\n",
    "propval['EXTE'] = [ease == 'E' for ease in propval['EXT']]\n",
    "#Has garage\n",
    "propval['EXTG'] = [ease == 'G' for ease in propval['EXT']]\n",
    "#Has both\n",
    "propval['EXTEG'] = [ease == 'EG' for ease in propval['EXT']]"
   ]
  },
  {
   "cell_type": "code",
   "execution_count": null,
   "metadata": {},
   "outputs": [],
   "source": [
    "propval.drop(axis = 1, labels = 'EXT', inplace = True)"
   ]
  },
  {
   "cell_type": "code",
   "execution_count": null,
   "metadata": {},
   "outputs": [],
   "source": []
  },
  {
   "cell_type": "code",
   "execution_count": null,
   "metadata": {},
   "outputs": [],
   "source": [
    "#YRB_FLAG indicates the year built is an estimate"
   ]
  },
  {
   "cell_type": "code",
   "execution_count": null,
   "metadata": {},
   "outputs": [],
   "source": [
    "#Replace with Bool\n",
    "propval.YRB_FLAG.fillna(False, inplace = True)\n",
    "propval.YRB_FLAG.replace(to_replace = 'E', value = True, inplace = True)"
   ]
  },
  {
   "cell_type": "code",
   "execution_count": null,
   "metadata": {},
   "outputs": [],
   "source": []
  },
  {
   "cell_type": "code",
   "execution_count": null,
   "metadata": {},
   "outputs": [],
   "source": [
    "#Limit indicates if AV of property is capped 'due to state'"
   ]
  },
  {
   "cell_type": "code",
   "execution_count": null,
   "metadata": {},
   "outputs": [],
   "source": [
    "#Replacing with Bool\n",
    "propval.LIMIT.fillna(False, inplace = True)\n",
    "propval.LIMIT.replace(to_replace = 1, value = True, inplace = True)"
   ]
  },
  {
   "cell_type": "code",
   "execution_count": null,
   "metadata": {},
   "outputs": [],
   "source": []
  },
  {
   "cell_type": "code",
   "execution_count": null,
   "metadata": {},
   "outputs": [],
   "source": [
    "#O_LIMIT for limitation flag from prior year"
   ]
  },
  {
   "cell_type": "code",
   "execution_count": null,
   "metadata": {},
   "outputs": [],
   "source": [
    "#Replacing with Bool\n",
    "propval.O_LIMIT.fillna(False, inplace = True)\n",
    "propval.O_LIMIT.replace(to_replace = 1, value = True, inplace = True)"
   ]
  },
  {
   "cell_type": "code",
   "execution_count": null,
   "metadata": {},
   "outputs": [],
   "source": []
  },
  {
   "cell_type": "code",
   "execution_count": null,
   "metadata": {},
   "outputs": [],
   "source": [
    "#Valref indicates if the parcel's values are reflected in another lot. Contains na."
   ]
  },
  {
   "cell_type": "code",
   "execution_count": null,
   "metadata": {
    "scrolled": true
   },
   "outputs": [],
   "source": [
    "propval.VALREF.unique()"
   ]
  },
  {
   "cell_type": "code",
   "execution_count": null,
   "metadata": {},
   "outputs": [],
   "source": [
    "propval['VALREF'].fillna(-1, inplace = True)\n",
    "propval['VALFEFNA'] = [ease == -1 for ease in propval['VALREF']]\n",
    "propval['VALFEF0'] = [ease == 0 for ease in propval['VALREF']]\n",
    "propval['VALFEF1'] = [ease == 1 for ease in propval['VALREF']]\n",
    "propval['VALFEF2'] = [ease == 2 for ease in propval['VALREF']]\n",
    "propval['VALFEF3'] = [ease == 3 for ease in propval['VALREF']]\n",
    "propval['VALFEF4'] = [ease == 4 for ease in propval['VALREF']]\n",
    "propval['VALFEF5'] = [ease == 5 for ease in propval['VALREF']]\n",
    "propval['VALFEF6'] = [ease == 6 for ease in propval['VALREF']]\n",
    "propval['VALFEF7'] = [ease == 7 for ease in propval['VALREF']]"
   ]
  },
  {
   "cell_type": "code",
   "execution_count": null,
   "metadata": {},
   "outputs": [],
   "source": [
    "propval.drop(axis = 1, labels = 'VALREF', inplace = True)"
   ]
  },
  {
   "cell_type": "code",
   "execution_count": null,
   "metadata": {},
   "outputs": [],
   "source": []
  },
  {
   "cell_type": "code",
   "execution_count": null,
   "metadata": {},
   "outputs": [],
   "source": [
    "#CONDO_S1 indicates condo type"
   ]
  },
  {
   "cell_type": "code",
   "execution_count": null,
   "metadata": {},
   "outputs": [],
   "source": [
    "propval.CONDO_S1.unique()"
   ]
  },
  {
   "cell_type": "code",
   "execution_count": null,
   "metadata": {},
   "outputs": [],
   "source": [
    "#0 indicates entire condo is of one type\n",
    "propval.CONDO_S1.fillna('O', inplace = True)\n",
    "propval['CONDO_S1_O'] = [ease == 'O' for ease in propval['CONDO_S1']]\n",
    "#R indicates residential unit\n",
    "propval['CONDO_S1_R'] = [ease == 'R' for ease in propval['CONDO_S1']]\n",
    "#2 indicates commercial unit\n",
    "propval['CONDO_S1_C'] = [ease == 'C' for ease in propval['CONDO_S1']]\n",
    "propval.drop(axis = 1, labels = 'CONDO_S1', inplace = True)"
   ]
  },
  {
   "cell_type": "code",
   "execution_count": null,
   "metadata": {},
   "outputs": [],
   "source": []
  },
  {
   "cell_type": "code",
   "execution_count": null,
   "metadata": {},
   "outputs": [],
   "source": [
    "#CONDO_S2 contains nan"
   ]
  },
  {
   "cell_type": "code",
   "execution_count": null,
   "metadata": {},
   "outputs": [],
   "source": [
    "propval.CONDO_S2.unique()"
   ]
  },
  {
   "cell_type": "code",
   "execution_count": null,
   "metadata": {},
   "outputs": [],
   "source": [
    "propval['CONDO_S2'].fillna(0, inplace = True)\n",
    "propval['CONDO_S2_0'] = [ease == 0 for ease in propval['CONDO_S2']]\n",
    "propval['CONDO_S2_1'] = [ease == 1 for ease in propval['CONDO_S2']]\n",
    "propval['CONDO_S2_2'] = [ease == 2 for ease in propval['CONDO_S2']]\n",
    "propval['CONDO_S2_3'] = [ease == 3 for ease in propval['CONDO_S2']]\n",
    "propval['CONDO_S2_4'] = [ease == 4 for ease in propval['CONDO_S2']]\n",
    "propval['CONDO_S2_5'] = [ease == 5 for ease in propval['CONDO_S2']]\n",
    "propval['CONDO_S2_6'] = [ease == 6 for ease in propval['CONDO_S2']]\n",
    "propval['CONDO_S2_7'] = [ease == 7 for ease in propval['CONDO_S2']]\n",
    "propval['CONDO_S2_8'] = [ease == 8 for ease in propval['CONDO_S2']]\n",
    "propval.drop(axis = 1, labels = 'CONDO_S2', inplace = True)"
   ]
  },
  {
   "cell_type": "code",
   "execution_count": null,
   "metadata": {},
   "outputs": [],
   "source": []
  },
  {
   "cell_type": "code",
   "execution_count": null,
   "metadata": {},
   "outputs": [],
   "source": [
    "#PROTEST indicates if the assessment was protested"
   ]
  },
  {
   "cell_type": "code",
   "execution_count": null,
   "metadata": {},
   "outputs": [],
   "source": [
    "propval.PROTEST.unique()"
   ]
  },
  {
   "cell_type": "code",
   "execution_count": null,
   "metadata": {},
   "outputs": [],
   "source": [
    "propval.PROTEST.fillna(0, inplace = True)\n",
    "propval['PROTEST0'] = [ease == 0 for ease in propval['PROTEST']]\n",
    "propval['PROTEST1'] = [ease in [1, '1'] for ease in propval['PROTEST']]\n",
    "propval['PROTEST1L'] = [ease == '1 L' for ease in propval['PROTEST']]\n",
    "propval['PROTEST5'] = [ease in [5, '5'] for ease in propval['PROTEST']]\n",
    "propval['PROTEST6'] = [ease in [6, '6'] for ease in propval['PROTEST']]\n",
    "propval['PROTEST6L'] = [ease == '6 L' for ease in propval['PROTEST']]\n",
    "propval['PROTEST6NL'] = [ease == '6NL' for ease in propval['PROTEST']]\n",
    "propval['PROTEST6E'] = [ease == '6E' for ease in propval['PROTEST']]\n",
    "propval['PROTEST6EL'] = [ease == '6EL' for ease in propval['PROTEST']]\n",
    "propval['PROTEST8'] = [ease in [8, '8'] for ease in propval['PROTEST']]\n",
    "propval['PROTEST8L'] = [ease == '8 L' for ease in propval['PROTEST']]\n",
    "propval['PROTEST9'] = [ease in [9, '9'] for ease in propval['PROTEST']]\n",
    "propval.drop(axis = 1, labels = 'PROTEST', inplace = True)"
   ]
  },
  {
   "cell_type": "code",
   "execution_count": null,
   "metadata": {},
   "outputs": [],
   "source": []
  },
  {
   "cell_type": "code",
   "execution_count": null,
   "metadata": {},
   "outputs": [],
   "source": [
    "#PROTEST2 same as protest"
   ]
  },
  {
   "cell_type": "code",
   "execution_count": null,
   "metadata": {},
   "outputs": [],
   "source": [
    "propval.PROTEST2.fillna(0, inplace = True)\n",
    "propval['2PROTEST0'] = [ease == 0 for ease in propval['PROTEST2']]\n",
    "propval['2PROTEST1'] = [ease in [1, '1'] for ease in propval['PROTEST2']]\n",
    "propval['2PROTEST1L'] = [ease == '1 L' for ease in propval['PROTEST2']]\n",
    "propval['2PROTEST5'] = [ease in [5, '5'] for ease in propval['PROTEST2']]\n",
    "propval['2PROTEST6'] = [ease in [6, '6'] for ease in propval['PROTEST2']]\n",
    "propval['2PROTEST6L'] = [ease == '6 L' for ease in propval['PROTEST2']]\n",
    "propval['2PROTEST6NL'] = [ease == '6NL' for ease in propval['PROTEST2']]\n",
    "propval['2PROTEST6E'] = [ease == '6E' for ease in propval['PROTEST2']]\n",
    "propval['2PROTEST6EL'] = [ease == '6EL' for ease in propval['PROTEST2']]\n",
    "propval['2PROTEST8'] = [ease in [8, '8'] for ease in propval['PROTEST2']]\n",
    "propval['2PROTEST8L'] = [ease == '8 L' for ease in propval['PROTEST2']]\n",
    "propval['2PROTEST9'] = [ease in [9, '9'] for ease in propval['PROTEST2']]"
   ]
  },
  {
   "cell_type": "code",
   "execution_count": null,
   "metadata": {},
   "outputs": [],
   "source": [
    "propval.drop(axis = 1, labels = 'PROTEST2', inplace = True)"
   ]
  },
  {
   "cell_type": "code",
   "execution_count": null,
   "metadata": {},
   "outputs": [],
   "source": []
  },
  {
   "cell_type": "code",
   "execution_count": null,
   "metadata": {},
   "outputs": [],
   "source": [
    "propval['APPLIC'].fillna(-1, inplace = True)\n",
    "propval['APPLICNA'] = [ease == -1 for ease in propval['APPLIC']]\n",
    "propval['APPLIC0'] = [ease == 0 for ease in propval['APPLIC']]\n",
    "propval['APPLIC1'] = [ease == 1 for ease in propval['APPLIC']]\n",
    "propval['APPLIC2'] = [ease == 2 for ease in propval['APPLIC']]\n",
    "propval['APPLIC3'] = [ease == 3 for ease in propval['APPLIC']]\n",
    "propval['APPLIC4'] = [ease == 4 for ease in propval['APPLIC']]\n",
    "propval['APPLIC5'] = [ease == 5 for ease in propval['APPLIC']]\n",
    "propval['APPLIC6'] = [ease == 6 for ease in propval['APPLIC']]\n",
    "propval['APPLIC7'] = [ease == 7 for ease in propval['APPLIC']]\n",
    "propval['APPLIC8'] = [ease == 8 for ease in propval['APPLIC']]\n",
    "propval['APPLIC9'] = [ease == 9 for ease in propval['APPLIC']]\n",
    "propval.drop(axis = 1, labels = 'APPLIC', inplace = True)"
   ]
  },
  {
   "cell_type": "code",
   "execution_count": null,
   "metadata": {},
   "outputs": [],
   "source": []
  },
  {
   "cell_type": "code",
   "execution_count": null,
   "metadata": {},
   "outputs": [],
   "source": [
    "propval['APPLIC2'].fillna(-1, inplace = True)\n",
    "propval['2APPLICNA'] = [ease == -1 for ease in propval['APPLIC2']]\n",
    "propval['2APPLIC1'] = [ease == 1 for ease in propval['APPLIC2']]\n",
    "propval['2APPLIC4'] = [ease == 4 for ease in propval['APPLIC2']]\n",
    "propval['2APPLIC7'] = [ease == 7 for ease in propval['APPLIC2']]\n",
    "propval['2APPLIC9'] = [ease == 9 for ease in propval['APPLIC2']]\n",
    "propval.drop(axis = 1, labels = 'APPLIC2', inplace = True)"
   ]
  },
  {
   "cell_type": "code",
   "execution_count": null,
   "metadata": {},
   "outputs": [],
   "source": []
  },
  {
   "cell_type": "code",
   "execution_count": null,
   "metadata": {},
   "outputs": [],
   "source": [
    "propval['O_APPLIC'].fillna(-1, inplace = True)\n",
    "propval['OAPPLICNA'] = [ease == -1 for ease in propval['O_APPLIC']]\n",
    "propval['OAPPLIC0'] = [ease == 0 for ease in propval['O_APPLIC']]\n",
    "propval['OAPPLIC1'] = [ease == 1 for ease in propval['O_APPLIC']]\n",
    "propval['OAPPLIC2'] = [ease == 2 for ease in propval['O_APPLIC']]\n",
    "propval['OAPPLIC3'] = [ease == 3 for ease in propval['O_APPLIC']]\n",
    "propval['OAPPLIC4'] = [ease == 4 for ease in propval['O_APPLIC']]\n",
    "propval['OAPPLIC5'] = [ease == 5 for ease in propval['O_APPLIC']]\n",
    "propval['OAPPLIC6'] = [ease == 6 for ease in propval['O_APPLIC']]\n",
    "propval['OAPPLIC7'] = [ease == 7 for ease in propval['O_APPLIC']]\n",
    "propval['OAPPLIC8'] = [ease == 8 for ease in propval['O_APPLIC']]\n",
    "propval['OAPPLIC9'] = [ease == 9 for ease in propval['O_APPLIC']]\n",
    "propval.drop(axis = 1, labels = 'O_APPLIC', inplace = True)"
   ]
  },
  {
   "cell_type": "code",
   "execution_count": null,
   "metadata": {},
   "outputs": [],
   "source": []
  },
  {
   "cell_type": "code",
   "execution_count": null,
   "metadata": {},
   "outputs": [],
   "source": [
    "propval['REUC'].fillna(0, inplace = True)\n",
    "propval['REUCNA'] = [ease == 0 for ease in propval['REUC']]\n",
    "propval['REUC1'] = [ease == 'A356-12' for ease in propval['REUC']]\n",
    "propval['REUC2'] = [ease == 'A141-426.1' for ease in propval['REUC']]\n",
    "propval['REUC3'] = [ease == 'A211-38' for ease in propval['REUC']]\n",
    "propval['REUC4'] = [ease == '1605-G' for ease in propval['REUC']]\n",
    "propval['REUC5'] = [ease == 'A1810' for ease in propval['REUC']]\n",
    "propval['REUC6'] = [ease == '(1605-N)' for ease in propval['REUC']]\n",
    "propval['REUC7'] = [ease == 'MA219' for ease in propval['REUC']]\n",
    "propval['REUC8'] = [ease == 'A1437-36' for ease in propval['REUC']]\n",
    "propval['REUC9'] = [ease == 'A211-41' for ease in propval['REUC']]\n",
    "propval['REUC10'] = [ease == 'A22-12' for ease in propval['REUC']]\n",
    "propval['REUC11'] = [ease == 'A1437-44' for ease in propval['REUC']]\n",
    "propval['REUC12'] = [ease == 'TAT141' for ease in propval['REUC']]\n",
    "propval.drop(axis = 1, labels = 'REUC', inplace = True)"
   ]
  },
  {
   "cell_type": "code",
   "execution_count": null,
   "metadata": {},
   "outputs": [],
   "source": []
  },
  {
   "cell_type": "code",
   "execution_count": null,
   "metadata": {},
   "outputs": [],
   "source": [
    "propval['EX_INDS'].fillna('0', inplace = True)\n",
    "propval['EX_INDS0'] = [ease == '0' for ease in propval['EX_INDS']]\n",
    "propval['EX_INDS1'] = [ease == 'E' for ease in propval['EX_INDS']]\n",
    "propval['EX_INDS2'] = [ease in ['EE', 'E E', 'E  E'] for ease in propval['EX_INDS']]\n",
    "propval['EX_INDS3'] = [ease in ['EEE', 'E EE', 'EE E'] for ease in propval['EX_INDS']]\n",
    "propval['EX_INDS4'] = [ease == 'EEEE' for ease in propval['EX_INDS']]\n",
    "propval.drop(axis = 1, labels = 'EX_INDS', inplace = True)"
   ]
  },
  {
   "cell_type": "code",
   "execution_count": null,
   "metadata": {},
   "outputs": [],
   "source": []
  },
  {
   "cell_type": "code",
   "execution_count": null,
   "metadata": {},
   "outputs": [],
   "source": [
    "statenstreets = ['71 AVENUE', 'WHITSON STREET', 'GREENWAY NORTH', 'POINT CRESCENT', 'SHORE ROAD', \n",
    "                'CONTINENTAL AVENUE', 'SLOCUM CRESCENT', 'WARWICK AVENUE', 'CHERRY STREET',\n",
    "                'FLEET STREET', 'DARTMOUTH STREET', 'EXETER STREET', 'EXETER STREET',\n",
    "                'CONTINENTAL AVENUE', 'FLEET STREET', 'SHORTHILL ROAD', '8 AVENUE MALBA',\n",
    "                'EXETER STREET', 'PURITAN AVENUE']\n",
    "statennumbers = ['000000000097', '000000000100', '000000000147', '000000000001', '000000000604',\n",
    "                '000000000097', '000000000169', '000000000022', '000000000022', '000000070-39',\n",
    "                 '000000000045', '000000000060', '000000000027', '000000000087', '000000000044', \n",
    "                '000000000050', '000000000012', '000000000035', '000000000170']"
   ]
  },
  {
   "cell_type": "code",
   "execution_count": null,
   "metadata": {},
   "outputs": [],
   "source": [
    "distreplace = {'M1':1, 'B1':1, 'K5':5, 'K1':1, 'K2':2, 'K4':4, 'K6':6, 'K3':3, 'K7':7, 'K8':8,\n",
    "              'K9':9, 'Q1':1, 'Q2':2, 'Q3':3, 'Q4':4, 'Q5':5, 'Q6':6, 'Q7':7, 'S1':1, 'S2':2,\n",
    "              'S3':3, 'S4':4}"
   ]
  },
  {
   "cell_type": "code",
   "execution_count": null,
   "metadata": {},
   "outputs": [],
   "source": [
    "propval.DISTRICT.fillna(0, inplace=True)"
   ]
  },
  {
   "cell_type": "code",
   "execution_count": null,
   "metadata": {},
   "outputs": [],
   "source": []
  },
  {
   "cell_type": "code",
   "execution_count": null,
   "metadata": {},
   "outputs": [],
   "source": [
    "def convert_datetime(df, column_name):\n",
    "    return pd.to_datetime(df[column_name], format = '%m/%d/%Y')"
   ]
  },
  {
   "cell_type": "code",
   "execution_count": null,
   "metadata": {},
   "outputs": [],
   "source": []
  },
  {
   "cell_type": "code",
   "execution_count": null,
   "metadata": {},
   "outputs": [],
   "source": [
    "def convert_district(dist):\n",
    "    if dist in distreplace:\n",
    "        return distreplace[dist]\n",
    "    else:\n",
    "        return dist"
   ]
  },
  {
   "cell_type": "code",
   "execution_count": null,
   "metadata": {},
   "outputs": [],
   "source": [
    "propval = pd.read_csv('clean_propval.csv')"
   ]
  },
  {
   "cell_type": "code",
   "execution_count": null,
   "metadata": {},
   "outputs": [],
   "source": [
    "dist_series = []\n",
    "for index, row in propval.iterrows():\n",
    "    dist_series.append(convert_district(row['DISTRICT']))\n",
    "propval['DISTRICT'] = dist_series"
   ]
  },
  {
   "cell_type": "code",
   "execution_count": null,
   "metadata": {},
   "outputs": [],
   "source": [
    "propval['DISTRICT'] = pd.to_numeric(propval['DISTRICT'])"
   ]
  },
  {
   "cell_type": "code",
   "execution_count": null,
   "metadata": {},
   "outputs": [],
   "source": [
    "propval.head()"
   ]
  },
  {
   "cell_type": "code",
   "execution_count": null,
   "metadata": {},
   "outputs": [],
   "source": [
    "#TODO: run this\n",
    "#TODO: How much time did I save?\n",
    "#C6\n",
    "lastint = 0\n",
    "for x in range(len(interval)):\n",
    "    for y in range(lastint, interval[x]):\n",
    "        dist = propval.DISTRICT[y]\n",
    "        if dist in distreplace:\n",
    "            propval.DISTRICT[y] = distreplace[dist]\n",
    "        else:\n",
    "            propval.DISTRICT[y] = int(propval.DISTRICT[y])\n",
    "    lastint = interval[x]\n",
    "    print(x,'% done! at ', dt.datetime.now())"
   ]
  },
  {
   "cell_type": "code",
   "execution_count": null,
   "metadata": {},
   "outputs": [],
   "source": [
    "#C12\n",
    "starttime = dt.datetime.now()\n",
    "propval.FV_CHGDT = convert_datetime(propval, 'FV_CHGDT')\n",
    "print('operation finished in', dt.datetime.now()-starttime)"
   ]
  },
  {
   "cell_type": "code",
   "execution_count": null,
   "metadata": {},
   "outputs": [],
   "source": [
    "#C21\n",
    "propval.CHGDT = convert_datetime(propval, 'CHGDT')"
   ]
  },
  {
   "cell_type": "code",
   "execution_count": null,
   "metadata": {},
   "outputs": [],
   "source": [
    "#C30\n",
    "#Fill nans with series mode\n",
    "propval.FCHGDT.fillna('05/31/2013 12:00:00 AM', inplace = True)\n",
    "propval.FCHGDT = propval.FCHGDT.str[6:10]"
   ]
  },
  {
   "cell_type": "code",
   "execution_count": null,
   "metadata": {},
   "outputs": [],
   "source": [
    "#C41\n",
    "#An incomplete copy of TXCL\n",
    "propval.drop('CBN_TXCL', axis = 1, inplace = True)"
   ]
  },
  {
   "cell_type": "code",
   "execution_count": null,
   "metadata": {},
   "outputs": [],
   "source": [
    "#C43\n",
    "propval['EXMTCL'].fillna('0', inplace = True)\n",
    "propval['EXMTCL0'] = [exempt == '0' for exempt in propval['EXMTCL']]\n",
    "propval['EXMTCL1'] = [exempt == 'X1' for exempt in propval['EXMTCL']]\n",
    "propval['EXMTCL2'] = [exempt == 'X2' for exempt in propval['EXMTCL']]\n",
    "propval['EXMTCL3'] = [exempt == 'X3' for exempt in propval['EXMTCL']]\n",
    "propval['EXMTCL4'] = [exempt == 'X4' for exempt in propval['EXMTCL']]\n",
    "propval['EXMTCL5'] = [exempt == 'X5' for exempt in propval['EXMTCL']]\n",
    "propval['EXMTCL5B'] = [exempt == '5' for exempt in propval['EXMTCL']]\n",
    "propval['EXMTCL6'] = [exempt == 'X6' for exempt in propval['EXMTCL']]\n",
    "propval['EXMTCL7'] = [exempt == 'X7' for exempt in propval['EXMTCL']]\n",
    "propval['EXMTCL8'] = [exempt == 'X8' for exempt in propval['EXMTCL']]\n",
    "propval['EXMTCL9'] = [exempt == 'X9' for exempt in propval['EXMTCL']]\n",
    "propval['EXMTCL9B'] = [exempt == 'A9' for exempt in propval['EXMTCL']]\n",
    "#Cut original column, no longer needed\n",
    "propval.drop('EXMTCL', axis = 1, inplace = True)"
   ]
  },
  {
   "cell_type": "code",
   "execution_count": null,
   "metadata": {},
   "outputs": [],
   "source": [
    "#C45\n",
    "#We don't need this and HNUM_HI\n",
    "propval.drop('HNUM_LO', axis = 1, inplace = True)"
   ]
  },
  {
   "cell_type": "code",
   "execution_count": null,
   "metadata": {},
   "outputs": [],
   "source": []
  },
  {
   "cell_type": "code",
   "execution_count": null,
   "metadata": {},
   "outputs": [],
   "source": [
    "def remove_letters(hnum):\n",
    "    return int(re.search('[ 0-9]+', hnum).group(0))"
   ]
  },
  {
   "cell_type": "code",
   "execution_count": null,
   "metadata": {},
   "outputs": [],
   "source": [
    "#C46\n",
    "#TODO: Fix this\n",
    "starttime = dt.datetime.now()\n",
    "hnum_series = []\n",
    "for index, row in propval.iterrows():\n",
    "    hnum_series.append(remove_letters(row['HNUM_HI']))\n",
    "propval['HNUM_HI'] = hnum_series\n",
    "print('operation completed in', dt.datetime.now()-starttime)"
   ]
  },
  {
   "cell_type": "code",
   "execution_count": null,
   "metadata": {},
   "outputs": [],
   "source": [
    "#C86\n",
    "#TODO: Fix this\n",
    "#Sidebar: I'm cutting out the letters in order to trim down dimensionality here.\n",
    "propval.APTNO.fillna(0, inplace = True)\n",
    "starttime = dt.datetime.now()\n",
    "aptno_series = []\n",
    "for index, row in propval.iterrows():\n",
    "    aptno_series.append(remove_letters(row['APTNO']))\n",
    "propval['APTNO'] = aptno_series\n",
    "print('operation completed in', dt.datetime.now()-starttime)"
   ]
  },
  {
   "cell_type": "code",
   "execution_count": null,
   "metadata": {},
   "outputs": [],
   "source": [
    "#C90\n",
    "propval['AP_EASE'].fillna('0', inplace = True)\n",
    "propval['AP_EASE0'] = [ease == '0' for ease in propval['AP_EASE']]\n",
    "propval['AP_EASEE'] = [ease == 'E' for ease in propval['AP_EASE']]\n",
    "propval['AP_EASEC'] = [ease == 'C' for ease in propval['AP_EASE']]\n",
    "propval['AP_EASEA'] = [ease == 'A' for ease in propval['AP_EASE']]\n",
    "propval.drop('AP_EASE', axis = 1, inplace = True)"
   ]
  },
  {
   "cell_type": "code",
   "execution_count": null,
   "metadata": {},
   "outputs": [],
   "source": [
    "#Current progress\n",
    "propval.to_csv('clean_propval_progress.csv')"
   ]
  },
  {
   "cell_type": "code",
   "execution_count": null,
   "metadata": {
    "scrolled": true
   },
   "outputs": [],
   "source": [
    "propval = pd.read_csv('clean_propval_progress.csv')"
   ]
  },
  {
   "cell_type": "code",
   "execution_count": null,
   "metadata": {},
   "outputs": [],
   "source": []
  },
  {
   "cell_type": "code",
   "execution_count": null,
   "metadata": {},
   "outputs": [],
   "source": [
    "propval.STR_NAME.fillna('NO NAME GIVEN', inplace = True)"
   ]
  },
  {
   "cell_type": "code",
   "execution_count": null,
   "metadata": {},
   "outputs": [],
   "source": [
    "propval.STR_NAME = propval.STR_NAME.str"
   ]
  },
  {
   "cell_type": "code",
   "execution_count": null,
   "metadata": {},
   "outputs": [],
   "source": [
    "#C91\n",
    "#Not enough non-na entries to keep\n",
    "propval.drop('AP_DATE', axis = 1, inplace = True)"
   ]
  },
  {
   "cell_type": "code",
   "execution_count": null,
   "metadata": {},
   "outputs": [],
   "source": [
    "#C99\n",
    "propval.O_PROTST.fillna(0, inplace = True)\n",
    "propval['O_PROTST0'] = [ease == 0 for ease in propval['O_PROTST']]\n",
    "propval['O_PROTST1'] = [ease in [1, '1'] for ease in propval['O_PROTST']]\n",
    "propval['O_PROTST1L'] = [ease == '1 L' for ease in propval['O_PROTST']]\n",
    "propval['O_PROTST5'] = [ease in [5, '5'] for ease in propval['O_PROTST']]\n",
    "propval['O_PROTST6'] = [ease in [6, '6'] for ease in propval['O_PROTST']]\n",
    "propval['O_PROTST6L'] = [ease == '6 L' for ease in propval['O_PROTST']]\n",
    "propval['O_PROTST6NL'] = [ease == '6NL' for ease in propval['O_PROTST']]\n",
    "propval['O_PROTST6E'] = [ease == '6E' for ease in propval['O_PROTST']]\n",
    "propval['O_PROTST6EL'] = [ease == '6EL' for ease in propval['O_PROTST']]\n",
    "propval['O_PROTST8'] = [ease in [8, '8'] for ease in propval['O_PROTST']]\n",
    "propval['O_PROTST8L'] = [ease == '8 L' for ease in propval['O_PROTST']]\n",
    "propval['O_PROTST9'] = [ease in [9, '9'] for ease in propval['O_PROTST']]\n",
    "propval.drop('O_PROTST', axis = 1, inplace = True)"
   ]
  },
  {
   "cell_type": "code",
   "execution_count": null,
   "metadata": {},
   "outputs": [],
   "source": [
    "#C107\n",
    "propval.EX_CHGDT = convert_datetime(propval, 'EX_CHGDT')"
   ]
  },
  {
   "cell_type": "code",
   "execution_count": null,
   "metadata": {},
   "outputs": [],
   "source": [
    "#C108\n",
    "propval.DCHGDT = convert_datetime(propval, 'DCHGDT')"
   ]
  },
  {
   "cell_type": "code",
   "execution_count": null,
   "metadata": {},
   "outputs": [],
   "source": [
    "#C109\n",
    "propval.SM_CHGDT = convert_datetime(propval, 'SM_CHGDT')"
   ]
  },
  {
   "cell_type": "code",
   "execution_count": null,
   "metadata": {},
   "outputs": [],
   "source": []
  },
  {
   "cell_type": "code",
   "execution_count": null,
   "metadata": {},
   "outputs": [],
   "source": [
    "def fix_year(yearin, boroin):\n",
    "    if yearin == 0:\n",
    "        return meanyears[boroin]\n",
    "    else:\n",
    "        return yearin"
   ]
  },
  {
   "cell_type": "code",
   "execution_count": null,
   "metadata": {},
   "outputs": [],
   "source": [
    "#Fix yrb zeroes\n",
    "YRB1 = np.mean(propval[propval.BORO == 1].YRB)\n",
    "YRB2 = np.mean(propval[propval.BORO == 2].YRB)\n",
    "YRB3 = np.mean(propval[propval.BORO == 3].YRB)\n",
    "YRB4 = np.mean(propval[propval.BORO == 4].YRB)\n",
    "YRB5 = np.mean(propval[propval.BORO == 5].YRB)\n",
    "meanyears = {1:YRB1, 2:YRB2, 3:YRB3, 4:YRB4, 5:YRB5}"
   ]
  },
  {
   "cell_type": "code",
   "execution_count": null,
   "metadata": {},
   "outputs": [],
   "source": [
    "year_series = []\n",
    "for index, row in propval.iterrows():\n",
    "    year_series.append(fix_year(row['YRB'], row['BORO']))\n",
    "propval['YRB'] = year_series"
   ]
  },
  {
   "cell_type": "code",
   "execution_count": null,
   "metadata": {},
   "outputs": [],
   "source": [
    "propval.to_csv('clean_propval.csv')"
   ]
  },
  {
   "cell_type": "code",
   "execution_count": null,
   "metadata": {},
   "outputs": [],
   "source": [
    "propval = pd.read_csv('clean_propval.csv')"
   ]
  },
  {
   "cell_type": "code",
   "execution_count": null,
   "metadata": {},
   "outputs": [],
   "source": []
  },
  {
   "cell_type": "code",
   "execution_count": null,
   "metadata": {},
   "outputs": [],
   "source": [
    "#Cut tentative valuations"
   ]
  },
  {
   "cell_type": "code",
   "execution_count": null,
   "metadata": {},
   "outputs": [],
   "source": [
    "propval.drop(axis = 1, labels = ['CURAVL', 'CURAVT', 'CUREXL', 'CUREXT'], inplace = True)"
   ]
  },
  {
   "cell_type": "code",
   "execution_count": null,
   "metadata": {
    "scrolled": true
   },
   "outputs": [],
   "source": [
    "propval.drop(axis = 1, labels = ['TN_AVL', 'TN_AVT', 'TN_EXL', 'TN_EXT'], inplace = True)"
   ]
  },
  {
   "cell_type": "code",
   "execution_count": null,
   "metadata": {},
   "outputs": [],
   "source": []
  },
  {
   "cell_type": "code",
   "execution_count": null,
   "metadata": {},
   "outputs": [],
   "source": [
    "#Cut minimal-variable columns"
   ]
  },
  {
   "cell_type": "code",
   "execution_count": null,
   "metadata": {},
   "outputs": [],
   "source": [
    "propval.to_csv('clean_propval_progress.csv')"
   ]
  },
  {
   "cell_type": "code",
   "execution_count": null,
   "metadata": {},
   "outputs": [],
   "source": [
    "propval = pd.read_csv('clean_propval_progress.csv')"
   ]
  },
  {
   "cell_type": "code",
   "execution_count": null,
   "metadata": {},
   "outputs": [],
   "source": []
  },
  {
   "cell_type": "code",
   "execution_count": null,
   "metadata": {},
   "outputs": [],
   "source": [
    "propval.drop(axis = 1, labels = ['CP_BORO', 'CP_DIST', 'STATUS2', 'NEWLOT'], inplace = True)"
   ]
  },
  {
   "cell_type": "code",
   "execution_count": null,
   "metadata": {},
   "outputs": [],
   "source": [
    "propval.drop(axis = 1, labels = ['DROPLOT', 'NOAV', 'CONDO_NM', 'COMINT_L'], inplace = True)"
   ]
  },
  {
   "cell_type": "code",
   "execution_count": null,
   "metadata": {},
   "outputs": [],
   "source": [
    "propval.drop(axis = 1, labels = ['COMINT_B', 'AP_BORO', 'AP_BLOCK'], inplace = True)"
   ]
  },
  {
   "cell_type": "code",
   "execution_count": null,
   "metadata": {},
   "outputs": [],
   "source": []
  },
  {
   "cell_type": "code",
   "execution_count": null,
   "metadata": {},
   "outputs": [],
   "source": [
    "propval.to_csv('clean_propval.csv')"
   ]
  },
  {
   "cell_type": "code",
   "execution_count": null,
   "metadata": {},
   "outputs": [],
   "source": [
    "propval = pd.read_csv('clean_propval.csv')"
   ]
  },
  {
   "cell_type": "code",
   "execution_count": null,
   "metadata": {},
   "outputs": [],
   "source": [
    "cols = [0, 1, 2, 3]\n",
    "propval.drop(propval.columns[cols], axis = 1, inplace = True)"
   ]
  },
  {
   "cell_type": "code",
   "execution_count": null,
   "metadata": {},
   "outputs": [],
   "source": [
    "propval.drop(axis = 1, labels = ['YRA1', 'YRA1_RNG', 'YRA2', 'YRA2_RNG', 'AP_LOT'], inplace = True)"
   ]
  },
  {
   "cell_type": "code",
   "execution_count": null,
   "metadata": {},
   "outputs": [],
   "source": [
    "propval.drop(axis = 1, labels = ['AP_TIME', 'AT_GRP', 'AT_GRP2', 'O_AT_GRP', 'COOP_NUM'], inplace = True)"
   ]
  },
  {
   "cell_type": "code",
   "execution_count": null,
   "metadata": {},
   "outputs": [],
   "source": [
    "propval.drop(axis = 1, labels = ['EASEA', 'EASEB', 'EASEE', 'EASEN', 'EASEO'], inplace = True)"
   ]
  },
  {
   "cell_type": "code",
   "execution_count": null,
   "metadata": {},
   "outputs": [],
   "source": [
    "propval.drop(axis = 1, labels = ['TXCL1C', 'TXCL1D', 'VALFEFNA', 'VALFEF1'], inplace = True)"
   ]
  },
  {
   "cell_type": "code",
   "execution_count": null,
   "metadata": {},
   "outputs": [],
   "source": []
  },
  {
   "cell_type": "code",
   "execution_count": null,
   "metadata": {},
   "outputs": [],
   "source": [
    "propval.to_csv('clean_propval_progress.csv')"
   ]
  },
  {
   "cell_type": "code",
   "execution_count": null,
   "metadata": {},
   "outputs": [],
   "source": [
    "propval = pd.read_csv('clean_propval_progress.csv')"
   ]
  },
  {
   "cell_type": "code",
   "execution_count": null,
   "metadata": {},
   "outputs": [],
   "source": []
  },
  {
   "cell_type": "code",
   "execution_count": null,
   "metadata": {},
   "outputs": [],
   "source": [
    "propval.columns[70:100]"
   ]
  },
  {
   "cell_type": "code",
   "execution_count": null,
   "metadata": {},
   "outputs": [],
   "source": [
    "propval['2PROTEST1'].value_counts()"
   ]
  },
  {
   "cell_type": "code",
   "execution_count": null,
   "metadata": {},
   "outputs": [],
   "source": []
  },
  {
   "cell_type": "code",
   "execution_count": null,
   "metadata": {},
   "outputs": [],
   "source": [
    "propval.drop(axis = 1, labels = ['VALFEF2', 'VALFEF3', 'VALFEF4', 'VALFEF5'], inplace = True)"
   ]
  },
  {
   "cell_type": "code",
   "execution_count": null,
   "metadata": {},
   "outputs": [],
   "source": [
    "propval.drop(axis = 1, labels = ['VALFEF6', 'VALFEF7', 'CONDO_S1_C', 'CONDO_S2_2'], inplace = True)"
   ]
  },
  {
   "cell_type": "code",
   "execution_count": null,
   "metadata": {},
   "outputs": [],
   "source": [
    "propval.drop(axis = 1, labels = ['CONDO_S2_3', 'CONDO_S2_4', 'CONDO_S2_5', 'CONDO_S2_6'], inplace = True)"
   ]
  },
  {
   "cell_type": "code",
   "execution_count": null,
   "metadata": {},
   "outputs": [],
   "source": [
    "propval.drop(axis = 1, labels = ['CONDO_S2_7', 'CONDO_S2_8', 'PROTEST0', 'PROTEST1'], inplace = True)"
   ]
  },
  {
   "cell_type": "code",
   "execution_count": null,
   "metadata": {},
   "outputs": [],
   "source": [
    "propval.drop(axis = 1, labels = ['PROTEST1L', 'PROTEST5', 'PROTEST6', 'PROTEST6L'], inplace = True)"
   ]
  },
  {
   "cell_type": "code",
   "execution_count": null,
   "metadata": {},
   "outputs": [],
   "source": [
    "propval.drop(axis = 1, labels = ['PROTEST6NL', 'PROTEST6E', 'PROTEST6EL', 'PROTEST8L'], inplace = True)"
   ]
  },
  {
   "cell_type": "code",
   "execution_count": null,
   "metadata": {},
   "outputs": [],
   "source": [
    "propval.drop(axis = 1, labels = ['PROTEST8', 'PROTEST9', '2PROTEST0', '2PROTEST1'], inplace = True)"
   ]
  },
  {
   "cell_type": "code",
   "execution_count": null,
   "metadata": {},
   "outputs": [],
   "source": [
    "propval.to_csv('clean_propval.csv')"
   ]
  },
  {
   "cell_type": "code",
   "execution_count": null,
   "metadata": {},
   "outputs": [],
   "source": []
  }
 ],
 "metadata": {
  "kernelspec": {
   "display_name": "Python 3",
   "language": "python",
   "name": "python3"
  },
  "language_info": {
   "codemirror_mode": {
    "name": "ipython",
    "version": 3
   },
   "file_extension": ".py",
   "mimetype": "text/x-python",
   "name": "python",
   "nbconvert_exporter": "python",
   "pygments_lexer": "ipython3",
   "version": "3.7.4"
  }
 },
 "nbformat": 4,
 "nbformat_minor": 2
}
