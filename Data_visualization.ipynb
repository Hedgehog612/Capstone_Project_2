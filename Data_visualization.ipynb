{
 "cells": [
  {
   "cell_type": "code",
   "execution_count": 1,
   "metadata": {},
   "outputs": [],
   "source": [
    "import pandas as pd\n",
    "import matplotlib.pyplot as plt\n",
    "import statistics\n",
    "import numpy as np"
   ]
  },
  {
   "cell_type": "code",
   "execution_count": 2,
   "metadata": {},
   "outputs": [],
   "source": [
    "import matplotlib.patches as mpatches"
   ]
  },
  {
   "cell_type": "code",
   "execution_count": 3,
   "metadata": {},
   "outputs": [],
   "source": [
    "#This notebook is for initial assessment of NYC valuation data"
   ]
  },
  {
   "cell_type": "code",
   "execution_count": 4,
   "metadata": {
    "scrolled": true
   },
   "outputs": [
    {
     "name": "stderr",
     "output_type": "stream",
     "text": [
      "C:\\Users\\marcu\\Anaconda3\\lib\\site-packages\\IPython\\core\\interactiveshell.py:3058: DtypeWarning: Columns (13,18,35,58,61,62,63) have mixed types. Specify dtype option on import or set low_memory=False.\n",
      "  interactivity=interactivity, compiler=compiler, result=result)\n"
     ]
    }
   ],
   "source": [
    "propval = pd.read_csv('clean_propval.csv')"
   ]
  },
  {
   "cell_type": "code",
   "execution_count": null,
   "metadata": {},
   "outputs": [],
   "source": [
    "datadict = pd.read_excel('property_valuation_dictionary.xlsx')"
   ]
  },
  {
   "cell_type": "code",
   "execution_count": null,
   "metadata": {
    "scrolled": true
   },
   "outputs": [],
   "source": [
    "len(propval)"
   ]
  },
  {
   "cell_type": "code",
   "execution_count": null,
   "metadata": {
    "scrolled": true
   },
   "outputs": [],
   "source": [
    "propval.columns[110:117]"
   ]
  },
  {
   "cell_type": "code",
   "execution_count": null,
   "metadata": {},
   "outputs": [],
   "source": [
    "#Location data:\n",
    "#BBLE, BORO, BLOCK, LOT, EASE, SECVOL, DISTRICT\n",
    "#HNUM_LO, HNUM_HI, STR_NAME, ZIP\n",
    "#CP_BORO, CP_DIST, LIMIT, O_LIMIT"
   ]
  },
  {
   "cell_type": "code",
   "execution_count": null,
   "metadata": {},
   "outputs": [],
   "source": [
    "#Time data:\n",
    "#YEAR4, FV_CHGDT, CHGDT, FCHGDT\n",
    "#YRB, YRB_FLAG, YRB_RNG, YRA1, YRA1_RNG, YRA2, YRA2_RNG"
   ]
  },
  {
   "cell_type": "code",
   "execution_count": null,
   "metadata": {},
   "outputs": [],
   "source": [
    "#Financial data:\n",
    "#CUR_FV_L, CUR_FV_T, NEW_FV_L, NEW_FV_T\n",
    "#CURAVL, CURAVT, CUREXL, CUREXT, CURAVL_A, CURAVT_A, CUREXL_A, CUREXT_A\n",
    "#TN_AVL, TN_AVT, TN_EXL, TN_EXT, TN_AVL_A, TN_AVT_A, TN_EXL_A, TN_EXT_A\n",
    "#FN_AVL, FN_AVT, FN_EXL, FN_EXT, FN_AVL_A, FN_AVT_A, FN_EXL_A, FN_EXT_A\n",
    "#VALREF"
   ]
  },
  {
   "cell_type": "code",
   "execution_count": null,
   "metadata": {},
   "outputs": [],
   "source": [
    "#Tax data:\n",
    "#TXCL, O_TXCL, CBN_TXCL\n",
    "#APPLIC, APPLIC2, O_APPLIC"
   ]
  },
  {
   "cell_type": "code",
   "execution_count": null,
   "metadata": {},
   "outputs": [],
   "source": [
    "#Property data\n",
    "#BLDGCL, XCMTCL, OWNER, TOT_UNIT, RES_UNIT\n",
    "#LFRT_DEC, LDEP_DEC, L_ACRE_, IRREG, BFRT_DEC, BDEP_DEC, BLD_VAR, EXT, STORY,\n",
    "#BLDGS, CORNER, LND_AREA, GR_SQFT, ZONING, \n",
    "#STATUS1, STATUS2, NEWLOT, DROPLOT, NOAV\n",
    "#CONDO_NM, CONDO_S1, CONDO_S2\n",
    "#CONMINT_L, CONMINT_B, APTNO, AP_BORO, AP_BLOCK, AP_LOT, AP_EASE, AP_DATE, AP_TIME\n",
    "#PROTEST, AT_GRP, PROTEST2, AT_GRP2, O_PROTEST, O_AT_GRP, REUC\n",
    "#GEO_RC, COOP_NUM, EX_INDS, EX_COUNT, EX_CHDT, DCHGDT, SM_CHGDT"
   ]
  },
  {
   "cell_type": "code",
   "execution_count": null,
   "metadata": {},
   "outputs": [],
   "source": [
    "#Expected superfluous but need investigation:\n",
    "#FV_CHGDT, date of last on-line change to CUR_FV_L/CUR_FV_T. Needs investigation.\n",
    "#CHGDT, date of last money change occuring during Tentative Period/Change by notice period\n",
    "#FCHDTD, date of last money change occuring during final\n",
    "#Can safely cut:\n",
    "#DELCHG, CORCHG, NODESC, MBLDG, CONDO_S3, CONDO_A: Not used\n",
    "#BBLE is a concatenation of four other terms and not very machine-readable."
   ]
  },
  {
   "cell_type": "code",
   "execution_count": null,
   "metadata": {},
   "outputs": [],
   "source": [
    "#In total: 118 columns. Can safely cut seven."
   ]
  },
  {
   "cell_type": "code",
   "execution_count": null,
   "metadata": {},
   "outputs": [],
   "source": [
    "#What are we predicting? Current thoughts: \n",
    "#CUR_FV_L, CUR_FV_T, NEW_FV_L and NEW_FV_T.\n",
    "#Current and new market value of land and total.\n",
    "#FN_AVL_A, FN_AVT_A, FN_EXL_A, FN_EXT_A\n",
    "#Final actual assessed and exempt land and total value"
   ]
  },
  {
   "cell_type": "code",
   "execution_count": null,
   "metadata": {},
   "outputs": [],
   "source": [
    "#Expected key variables:\n",
    "#BORO: Manhattan? Queens? Bronx?\n",
    "#BLOCK: Block #. Will need to normalize the Bronx data.\n",
    "#EASE: Type of easement, if any.\n",
    "#YEAR: Housing data. 2010-2017, so will not include 2008 crash, but that's so extraordinary\n",
    "#it may be for the best.\n",
    "#TN_ codes indicate tentative assessment valuations. Likely to be close to final data, but\n",
    "#not sure how close. Want to build models with and without, if they are good predictors.\n",
    "#TXCL: Tax class.\n",
    "#BLDGCL\": Direct corellation between this and TXCL\n",
    "#YRB: Year building was built. May not have full story: Check YRB_FLAG, YRB_RNG"
   ]
  },
  {
   "cell_type": "code",
   "execution_count": null,
   "metadata": {},
   "outputs": [],
   "source": [
    "#TODO: Determine relationship between assessed value and exempt value: May be fixed amount.\n",
    "#Determine relationship between market value and assessed value.\n",
    "#Determine relationship between land price and total price.\n",
    "#Normalize Bronx BLOCK data.\n",
    "#Normalize EASE data.\n",
    "#Determine TXCL/BLDCL relationship."
   ]
  },
  {
   "cell_type": "code",
   "execution_count": null,
   "metadata": {},
   "outputs": [],
   "source": [
    "#How technical I get is somewhat personal preference\n",
    "#Value in domain expertese\n",
    "#Make sure I understand more than I say, but don't lead with the technical"
   ]
  },
  {
   "cell_type": "code",
   "execution_count": null,
   "metadata": {},
   "outputs": [],
   "source": [
    "boro_relation = propval.groupby('BORO').mean()"
   ]
  },
  {
   "cell_type": "code",
   "execution_count": null,
   "metadata": {},
   "outputs": [],
   "source": [
    "boro_std = propval.groupby('BORO').std()"
   ]
  },
  {
   "cell_type": "code",
   "execution_count": null,
   "metadata": {},
   "outputs": [],
   "source": [
    "boro_std['CUR_FV_L']"
   ]
  },
  {
   "cell_type": "code",
   "execution_count": null,
   "metadata": {},
   "outputs": [],
   "source": [
    "boro = ['MANHATTAN', '   BRONX   ', 'BROOKLYN', '  QUEENS  ', 'STATEN ISLAND']"
   ]
  },
  {
   "cell_type": "code",
   "execution_count": null,
   "metadata": {},
   "outputs": [],
   "source": [
    "fig, axs = plt.subplots(2, 2)\n",
    "axs[0, 0].bar(x = boro, height = boro_relation['CUR_FV_L'], yerr = boro_std['CUR_FV_L'])\n",
    "axs[0, 0].set_title('Mean current land value')\n",
    "axs[0, 1].bar(x = boro, height = boro_relation['CUR_FV_T'], yerr = boro_std['CUR_FV_T'])\n",
    "axs[0, 1].set_title('Mean current total value')\n",
    "axs[1, 0].bar(x = boro, height = boro_relation['FN_AVL_A'], yerr = boro_std['FN_AVL_A'])\n",
    "axs[1, 0].set_title('Mean final assessed land value')\n",
    "axs[1, 1].bar(x = boro, height = boro_relation['FN_AVT_A'], yerr = boro_std['FN_AVT_A'])\n",
    "axs[1, 1].set_title('Mean final assessed total value')\n",
    "plt.sca(axs[1,0])\n",
    "plt.xticks(rotation=75)\n",
    "plt.sca(axs[1,1])\n",
    "plt.xticks(rotation=75)\n",
    "for ax in axs.flat:\n",
    "    ax.label_outer()"
   ]
  },
  {
   "cell_type": "code",
   "execution_count": null,
   "metadata": {},
   "outputs": [],
   "source": [
    "manhattan_block = propval[propval['BORO'] == 1].groupby('BLOCK').mean()"
   ]
  },
  {
   "cell_type": "code",
   "execution_count": null,
   "metadata": {},
   "outputs": [],
   "source": [
    "#Try as one model, split out more if needed"
   ]
  },
  {
   "cell_type": "code",
   "execution_count": null,
   "metadata": {},
   "outputs": [],
   "source": [
    "plt.scatter(x=manhattan_block.index, y=manhattan_block['CUR_FV_T'])\n",
    "plt.title('Mean CUR_FV_T per manhattan block')"
   ]
  },
  {
   "cell_type": "code",
   "execution_count": null,
   "metadata": {},
   "outputs": [],
   "source": [
    "has_easement = propval.EASE.dropna()"
   ]
  },
  {
   "cell_type": "code",
   "execution_count": null,
   "metadata": {},
   "outputs": [],
   "source": [
    "len(has_easement)"
   ]
  },
  {
   "cell_type": "code",
   "execution_count": null,
   "metadata": {},
   "outputs": [],
   "source": [
    "has_easement.value_counts()"
   ]
  },
  {
   "cell_type": "code",
   "execution_count": null,
   "metadata": {},
   "outputs": [],
   "source": [
    "year_relation = propval.groupby('YEAR4').mean()"
   ]
  },
  {
   "cell_type": "code",
   "execution_count": null,
   "metadata": {
    "scrolled": true
   },
   "outputs": [],
   "source": [
    "plt.scatter(x=year_relation.index, y=year_relation['CUR_FV_T'])\n",
    "plt.title('mean CUR_FV_T per year')"
   ]
  },
  {
   "cell_type": "code",
   "execution_count": null,
   "metadata": {},
   "outputs": [],
   "source": [
    "#Separate year modeling out into two separate problems\n",
    "#Try to align on time: Use all 2017 data as is"
   ]
  },
  {
   "cell_type": "code",
   "execution_count": null,
   "metadata": {},
   "outputs": [],
   "source": [
    "propval['TXCL'].value_counts()"
   ]
  },
  {
   "cell_type": "code",
   "execution_count": null,
   "metadata": {},
   "outputs": [],
   "source": [
    "#This data tracks:\n",
    "#Mostly 1-3 unit residences\n",
    "#Then residential vancant land and 1-3 story condos\n",
    "#Some 1-3 unit condos\n",
    "#almost no bungalo colonies"
   ]
  },
  {
   "cell_type": "code",
   "execution_count": null,
   "metadata": {},
   "outputs": [],
   "source": [
    "tax_relation = propval.groupby('TXCL').mean()"
   ]
  },
  {
   "cell_type": "code",
   "execution_count": null,
   "metadata": {},
   "outputs": [],
   "source": [
    "plt.scatter(x=tax_relation.index, y = tax_relation['CUR_FV_T'])\n",
    "plt.title('mean CUR_FV_T by tax class')"
   ]
  },
  {
   "cell_type": "code",
   "execution_count": null,
   "metadata": {},
   "outputs": [],
   "source": [
    "old_relation = propval.groupby('YRB').mean()\n",
    "old_relation = old_relation[old_relation.index != 0]"
   ]
  },
  {
   "cell_type": "code",
   "execution_count": null,
   "metadata": {
    "scrolled": true
   },
   "outputs": [],
   "source": [
    "plt.scatter(x=old_relation.index, y = old_relation['CUR_FV_T'])\n",
    "plt.title('Mean CUR_FV_T by year built')"
   ]
  },
  {
   "cell_type": "code",
   "execution_count": 6,
   "metadata": {},
   "outputs": [],
   "source": [
    "year = propval[propval.YRB != 0]"
   ]
  },
  {
   "cell_type": "code",
   "execution_count": null,
   "metadata": {},
   "outputs": [],
   "source": [
    "yearzero = propval[propval.YRB == 0]"
   ]
  },
  {
   "cell_type": "code",
   "execution_count": null,
   "metadata": {},
   "outputs": [],
   "source": [
    "len(yearzero)"
   ]
  },
  {
   "cell_type": "code",
   "execution_count": 7,
   "metadata": {},
   "outputs": [],
   "source": [
    "def color(data):\n",
    "    return data.map({1: 'red', 2: 'orange', \n",
    "                     3: 'yellow', 4: 'green', \n",
    "                     5: 'blue'})"
   ]
  },
  {
   "cell_type": "code",
   "execution_count": 10,
   "metadata": {
    "scrolled": true
   },
   "outputs": [
    {
     "data": {
      "text/plain": [
       "Text(0, 0.5, 'Valuation')"
      ]
     },
     "execution_count": 10,
     "metadata": {},
     "output_type": "execute_result"
    },
    {
     "data": {
      "image/png": "[encoded data removed]",
      "text/plain": [
       "<Figure size 432x288 with 1 Axes>"
      ]
     },
     "metadata": {
      "needs_background": "light"
     },
     "output_type": "display_data"
    }
   ],
   "source": [
    "plt.scatter(x=year.YRB, y = year.CUR_FV_T, c = color(year.BORO), alpha = 0.5)\n",
    "plt.title('Current total valuation by year built')\n",
    "plt.legend('upper left')\n",
    "blue_patch = mpatches.Patch(color='red', label='Manhattan')\n",
    "red_patch = mpatches.Patch(color='orange', label='Bronx')\n",
    "orange_patch = mpatches.Patch(color='yellow', label='Brooklyn')\n",
    "green_patch = mpatches.Patch(color='green', label='Queens')\n",
    "yellow_patch = mpatches.Patch(color='blue', label='Staten Island')\n",
    "plt.legend(handles=[red_patch, orange_patch, yellow_patch, green_patch, blue_patch])\n",
    "plt.xlabel('Year')\n",
    "plt.ylabel('Valuation')"
   ]
  },
  {
   "cell_type": "code",
   "execution_count": 9,
   "metadata": {},
   "outputs": [
    {
     "data": {
      "text/plain": [
       "Text(0, 0.5, 'Valuation')"
      ]
     },
     "execution_count": 9,
     "metadata": {},
     "output_type": "execute_result"
    },
    {
     "data": {
      "image/png": "[encoded data removed]",
      "text/plain": [
       "<Figure size 432x288 with 1 Axes>"
      ]
     },
     "metadata": {
      "needs_background": "light"
     },
     "output_type": "display_data"
    }
   ],
   "source": [
    "plt.scatter(x=year.YRB, y = year.FN_AVT_A, c = color(year.BORO), alpha = 0.5)\n",
    "plt.title('Current total valuation by year built')\n",
    "plt.legend('upper left')\n",
    "blue_patch = mpatches.Patch(color='red', label='Manhattan')\n",
    "red_patch = mpatches.Patch(color='orange', label='Bronx')\n",
    "orange_patch = mpatches.Patch(color='yellow', label='Brooklyn')\n",
    "green_patch = mpatches.Patch(color='green', label='Queens')\n",
    "yellow_patch = mpatches.Patch(color='blue', label='Staten Island')\n",
    "plt.legend(handles=[red_patch, orange_patch, yellow_patch, green_patch, blue_patch])\n",
    "plt.xlabel('Year')\n",
    "plt.ylabel('Valuation')"
   ]
  },
  {
   "cell_type": "code",
   "execution_count": null,
   "metadata": {},
   "outputs": [],
   "source": []
  },
  {
   "cell_type": "code",
   "execution_count": null,
   "metadata": {},
   "outputs": [],
   "source": [
    "#Survivorship bias"
   ]
  },
  {
   "cell_type": "code",
   "execution_count": null,
   "metadata": {},
   "outputs": [],
   "source": [
    "print(5)"
   ]
  },
  {
   "cell_type": "code",
   "execution_count": null,
   "metadata": {},
   "outputs": [],
   "source": [
    "story_relation = propval.groupby('STORY').mean()"
   ]
  },
  {
   "cell_type": "code",
   "execution_count": null,
   "metadata": {},
   "outputs": [],
   "source": [
    "plt.scatter(x=story_relation.index, y = story_relation['CUR_FV_T'])\n",
    "plt.xlim((0,10))\n",
    "plt.title('Mean valuation by building stories')\n",
    "plt.xlabel('Number of stories')\n",
    "plt.ylabel('Valuation')"
   ]
  },
  {
   "cell_type": "code",
   "execution_count": null,
   "metadata": {
    "scrolled": true
   },
   "outputs": [],
   "source": [
    "plt.scatter(x=story_relation.index, y = story_relation['CUR_FV_T'])\n",
    "plt.title('Mean valuation by building stories')\n",
    "plt.title('Mean valuation by building stories')\n",
    "plt.xlabel('Number of stories')\n",
    "plt.ylabel('Valuation')"
   ]
  },
  {
   "cell_type": "code",
   "execution_count": null,
   "metadata": {},
   "outputs": [],
   "source": [
    "plt.scatter(x=propval.STORY, y = propval['CUR_FV_T'])\n",
    "plt.xlim((0,10))\n",
    "plt.title('Valuation by building stories')\n",
    "plt.xlabel('Number of stories')\n",
    "plt.ylabel('Valuation')"
   ]
  },
  {
   "cell_type": "code",
   "execution_count": null,
   "metadata": {
    "scrolled": true
   },
   "outputs": [],
   "source": [
    "plt.scatter(x=propval.STORY, y = propval['CUR_FV_T'])\n",
    "plt.title('Valuation by building stories')\n",
    "plt.xlabel('Number of stories')\n",
    "plt.ylabel('Valuation')"
   ]
  },
  {
   "cell_type": "code",
   "execution_count": null,
   "metadata": {
    "scrolled": true
   },
   "outputs": [],
   "source": [
    "plt.hist(propval.STORY, bins = range(0, 10))"
   ]
  },
  {
   "cell_type": "code",
   "execution_count": null,
   "metadata": {},
   "outputs": [],
   "source": [
    "uneven = propval[propval.STORY % 1 != 0]"
   ]
  },
  {
   "cell_type": "code",
   "execution_count": null,
   "metadata": {},
   "outputs": [],
   "source": [
    "len(uneven)"
   ]
  },
  {
   "cell_type": "code",
   "execution_count": null,
   "metadata": {},
   "outputs": [],
   "source": [
    "uneven.STORY.value_counts()"
   ]
  },
  {
   "cell_type": "code",
   "execution_count": null,
   "metadata": {},
   "outputs": [],
   "source": [
    "#Can trust model to handle this data, maybe?\n",
    "#Can also bin/bucket data to help capture this\n",
    "#Try giving the model more lead at first, scale back if needed"
   ]
  },
  {
   "cell_type": "code",
   "execution_count": null,
   "metadata": {},
   "outputs": [],
   "source": [
    "area_relation = propval.groupby('LND_AREA').mean()"
   ]
  },
  {
   "cell_type": "code",
   "execution_count": null,
   "metadata": {
    "scrolled": true
   },
   "outputs": [],
   "source": [
    "plt.scatter(x=area_relation.index, y = area_relation['FN_AVL_A'])\n",
    "plt.title('mean land valuation by land area')\n",
    "plt.xlabel('Land area')\n",
    "plt.ylabel('Final land valuation')"
   ]
  },
  {
   "cell_type": "code",
   "execution_count": null,
   "metadata": {
    "scrolled": true
   },
   "outputs": [],
   "source": [
    "propval.PROTEST.value_counts()"
   ]
  },
  {
   "cell_type": "code",
   "execution_count": null,
   "metadata": {},
   "outputs": [],
   "source": [
    "protest = propval.groupby('PROTEST').mean()"
   ]
  },
  {
   "cell_type": "code",
   "execution_count": null,
   "metadata": {
    "scrolled": true
   },
   "outputs": [],
   "source": [
    "protest.FN_AVT_A"
   ]
  },
  {
   "cell_type": "code",
   "execution_count": null,
   "metadata": {},
   "outputs": [],
   "source": [
    "plt.bar(x = ['1', '5', '6', '8', '9', '1', '1 L', '5', '6', '6E', '6EL', '6N', '6NL', '8', '8 L', '9'], height = protest.FN_AVT_A)\n",
    "plt.axhline(27562, c = 'black')\n",
    "plt.xlabel('protest type')\n",
    "plt.ylabel('Mean valuation')\n",
    "plt.title('Mean valuation by protest type')"
   ]
  },
  {
   "cell_type": "code",
   "execution_count": null,
   "metadata": {},
   "outputs": [],
   "source": [
    "np.mean(propval.FN_AVT_A)"
   ]
  },
  {
   "cell_type": "code",
   "execution_count": null,
   "metadata": {},
   "outputs": [],
   "source": [
    "#Less of a corellation than I expected here."
   ]
  },
  {
   "cell_type": "code",
   "execution_count": null,
   "metadata": {},
   "outputs": [],
   "source": [
    "#I'm going to want to run this data again for each borough seprately. So:"
   ]
  },
  {
   "cell_type": "code",
   "execution_count": null,
   "metadata": {},
   "outputs": [],
   "source": [
    "man_val = propval[propval.BORO == 1]\n",
    "brx_val = propval[propval.BORO == 2]\n",
    "bro_val = propval[propval.BORO == 3]\n",
    "que_val = propval[propval.BORO == 4]\n",
    "sta_val = propval[propval.BORO == 5]"
   ]
  },
  {
   "cell_type": "code",
   "execution_count": null,
   "metadata": {},
   "outputs": [],
   "source": [
    "clean_year = man_val[man_val.YRB != 0]\n",
    "plt.scatter(x = clean_year.YRB, y = clean_year.CUR_FV_T)\n",
    "plt.title('manhattan pricing over time')"
   ]
  },
  {
   "cell_type": "code",
   "execution_count": null,
   "metadata": {},
   "outputs": [],
   "source": [
    "clean_year = man_val[man_val.YRB != 0]\n",
    "plt.scatter(x = clean_year.YRB, y = clean_year.CUR_FV_T)\n",
    "plt.title('manhattan pricing over time')\n",
    "plt.xlim(1905, 1955)"
   ]
  },
  {
   "cell_type": "code",
   "execution_count": null,
   "metadata": {
    "scrolled": true
   },
   "outputs": [],
   "source": [
    "clean_year = brx_val[brx_val.YRB != 0]\n",
    "plt.scatter(x = clean_year.YRB, y = clean_year.CUR_FV_T)\n",
    "plt.title('bronx pricing over time')"
   ]
  },
  {
   "cell_type": "code",
   "execution_count": null,
   "metadata": {},
   "outputs": [],
   "source": [
    "#Pretty notable blip 1920-1925 and again at the turn of the century."
   ]
  },
  {
   "cell_type": "code",
   "execution_count": null,
   "metadata": {},
   "outputs": [],
   "source": [
    "clean_year = brx_val[brx_val.YRB != 0]\n",
    "plt.scatter(x = clean_year.YRB, y = clean_year.CUR_FV_T)\n",
    "plt.title('bronx pricing over time')\n",
    "plt.xlim(1910, 1940)"
   ]
  },
  {
   "cell_type": "code",
   "execution_count": null,
   "metadata": {
    "scrolled": true
   },
   "outputs": [],
   "source": [
    "clean_year = bro_val[bro_val.YRB != 0]\n",
    "plt.scatter(x = clean_year.YRB, y = clean_year.CUR_FV_T)\n",
    "plt.title('brooklyn pricing over time')"
   ]
  },
  {
   "cell_type": "code",
   "execution_count": null,
   "metadata": {},
   "outputs": [],
   "source": [
    "clean_year = bro_val[bro_val.YRB != 0]\n",
    "plt.scatter(x = clean_year.YRB, y = clean_year.CUR_FV_T)\n",
    "plt.title('brooklyn pricing over time')\n",
    "plt.xlim(1895, 1955)"
   ]
  },
  {
   "cell_type": "code",
   "execution_count": null,
   "metadata": {
    "scrolled": false
   },
   "outputs": [],
   "source": [
    "clean_year = que_val[que_val.YRB != 0]\n",
    "plt.scatter(x = clean_year.YRB, y = clean_year.CUR_FV_T)\n",
    "plt.title('queens pricing over time')"
   ]
  },
  {
   "cell_type": "code",
   "execution_count": null,
   "metadata": {},
   "outputs": [],
   "source": [
    "clean_year = que_val[que_val.YRB != 0]\n",
    "plt.scatter(x = clean_year.YRB, y = clean_year.CUR_FV_T)\n",
    "plt.title('queens pricing over time')\n",
    "plt.xlim(1915, 1945)"
   ]
  },
  {
   "cell_type": "code",
   "execution_count": null,
   "metadata": {},
   "outputs": [],
   "source": [
    "#What the heck is happening in queens?"
   ]
  },
  {
   "cell_type": "code",
   "execution_count": null,
   "metadata": {
    "scrolled": true
   },
   "outputs": [],
   "source": [
    "que_val['CUR_FV_T'].idxmax()"
   ]
  },
  {
   "cell_type": "code",
   "execution_count": null,
   "metadata": {},
   "outputs": [],
   "source": [
    "que_val.iloc[569048]['YRB']"
   ]
  },
  {
   "cell_type": "code",
   "execution_count": null,
   "metadata": {},
   "outputs": [],
   "source": [
    "que_anom = que_val[que_val.YRB == 1930]"
   ]
  },
  {
   "cell_type": "code",
   "execution_count": null,
   "metadata": {},
   "outputs": [],
   "source": [
    "que_anom = que_anom[que_anom.CUR_FV_T > 2500000]"
   ]
  },
  {
   "cell_type": "code",
   "execution_count": null,
   "metadata": {},
   "outputs": [],
   "source": [
    "fleet = que_anom[que_anom.STR_NAME == 'FLEET STREET']"
   ]
  },
  {
   "cell_type": "code",
   "execution_count": null,
   "metadata": {},
   "outputs": [],
   "source": [
    "fleet.columns[50:75]"
   ]
  },
  {
   "cell_type": "code",
   "execution_count": null,
   "metadata": {
    "scrolled": true
   },
   "outputs": [],
   "source": [
    "fleet.LND_AREA"
   ]
  },
  {
   "cell_type": "code",
   "execution_count": null,
   "metadata": {
    "scrolled": true
   },
   "outputs": [],
   "source": [
    "fleet.GR_SQFT"
   ]
  },
  {
   "cell_type": "code",
   "execution_count": null,
   "metadata": {},
   "outputs": [],
   "source": [
    "fleet.CUR_FV_T"
   ]
  },
  {
   "cell_type": "code",
   "execution_count": null,
   "metadata": {
    "scrolled": true
   },
   "outputs": [],
   "source": [
    "len(que_anom)"
   ]
  },
  {
   "cell_type": "code",
   "execution_count": null,
   "metadata": {
    "scrolled": false
   },
   "outputs": [],
   "source": [
    "plt.scatter(x = que_anom.YEAR4, y = que_anom.CUR_FV_T)"
   ]
  },
  {
   "cell_type": "code",
   "execution_count": null,
   "metadata": {
    "scrolled": false
   },
   "outputs": [],
   "source": [
    "que_anom.STR_NAME.unique()"
   ]
  },
  {
   "cell_type": "code",
   "execution_count": null,
   "metadata": {
    "scrolled": false
   },
   "outputs": [],
   "source": [
    "unique = que_anom['STR_NAME'] + str(que_anom['HNUM_HI'])\n",
    "len(unique.unique())"
   ]
  },
  {
   "cell_type": "code",
   "execution_count": null,
   "metadata": {},
   "outputs": [],
   "source": [
    "que_anom.reset_index(drop=True, inplace=True)"
   ]
  },
  {
   "cell_type": "code",
   "execution_count": null,
   "metadata": {},
   "outputs": [],
   "source": [
    "print('test')"
   ]
  },
  {
   "cell_type": "code",
   "execution_count": null,
   "metadata": {},
   "outputs": [],
   "source": [
    "properties = []\n",
    "for x in range(len(que_anom)):\n",
    "    properties.append(que_anom['STR_NAME'][x] + ' ' + que_anom['HNUM_HI'][x])"
   ]
  },
  {
   "cell_type": "code",
   "execution_count": null,
   "metadata": {
    "scrolled": true
   },
   "outputs": [],
   "source": [
    "unique = []\n",
    "for x in range(len(properties)):\n",
    "    if properties[x] not in unique:\n",
    "        unique.append(properties[x])"
   ]
  },
  {
   "cell_type": "code",
   "execution_count": null,
   "metadata": {
    "scrolled": true
   },
   "outputs": [],
   "source": [
    "unique"
   ]
  },
  {
   "cell_type": "code",
   "execution_count": null,
   "metadata": {},
   "outputs": [],
   "source": [
    "#97 71st AVE: 1920\n",
    "#100 Whitson St: 1930\n",
    "#147 Greenway N: 1930\n",
    "#1 Point Crescent: 1930\n",
    "#604 Shore Rd: 1930\n",
    "#97 Continental Ave: 1930\n",
    "#169 Slocum Crescent: 1930\n",
    "#22 Warwick Ave: 1930\n"
   ]
  },
  {
   "cell_type": "code",
   "execution_count": null,
   "metadata": {},
   "outputs": [],
   "source": [
    "#19 buildings in queens all built in 1930 and much more expensive than anything else.\n",
    "#Interesting but not super relevant.\n",
    "#This may be bad data - Property listings give 71 Ave 97 as being built in 1940 and\n",
    "#Shoreview as 1919. Cherry street 1914.\n",
    "#NTS: Discuss in next mentor call. Difficult to update outliers with correct information but\n",
    "#I don't want to discard them."
   ]
  },
  {
   "cell_type": "code",
   "execution_count": null,
   "metadata": {},
   "outputs": [],
   "source": [
    "#Manually change to correct values in the notebook file\n",
    "#New variable: Property age\n",
    "#Property rounding: Some portion of the data is not exact to the year\n",
    "#Take a %5 year and add random noise for the visualizations. Will not improve predictions, but no point\n",
    "#in adding to model"
   ]
  },
  {
   "cell_type": "code",
   "execution_count": null,
   "metadata": {},
   "outputs": [],
   "source": [
    "#Overall it looks like years tend to be reported in multiples of five."
   ]
  },
  {
   "cell_type": "code",
   "execution_count": null,
   "metadata": {
    "scrolled": true
   },
   "outputs": [],
   "source": [
    "clean_year = sta_val[sta_val.YRB != 0]\n",
    "plt.scatter(x = clean_year.YRB, y = clean_year.CUR_FV_T)\n",
    "plt.title('staten pricing over time')"
   ]
  },
  {
   "cell_type": "code",
   "execution_count": null,
   "metadata": {},
   "outputs": [],
   "source": [
    "clean_year = sta_val[sta_val.YRB != 0]\n",
    "plt.scatter(x = clean_year.YRB, y = clean_year.CUR_FV_T)\n",
    "plt.title('staten pricing over time')\n",
    "plt.xlim(1905, 1955)"
   ]
  },
  {
   "cell_type": "code",
   "execution_count": null,
   "metadata": {},
   "outputs": [],
   "source": [
    "plt.scatter(y=propval.CUR_FV_T, x = propval.APPLIC)\n",
    "plt.xlabel('price')\n",
    "plt.ylabel('applicant type')"
   ]
  },
  {
   "cell_type": "code",
   "execution_count": null,
   "metadata": {
    "scrolled": true
   },
   "outputs": [],
   "source": [
    "plt.scatter(x = propval['CUR_FV_T'], y=propval['CUR_FV_L'])\n",
    "plt.xlabel('Total price')\n",
    "plt.ylabel('Land price')"
   ]
  },
  {
   "cell_type": "code",
   "execution_count": null,
   "metadata": {},
   "outputs": [],
   "source": [
    "plt.scatter(x = propval['CUR_FV_T'], y=propval['NEW_FV_T'])\n",
    "plt.xlabel('Total price')\n",
    "plt.ylabel('New price')"
   ]
  },
  {
   "cell_type": "code",
   "execution_count": null,
   "metadata": {},
   "outputs": [],
   "source": [
    "plt.scatter(x = propval['CUR_FV_L'], y=propval['NEW_FV_L'])\n",
    "plt.xlabel('Total price')\n",
    "plt.ylabel('New price')"
   ]
  },
  {
   "cell_type": "code",
   "execution_count": null,
   "metadata": {},
   "outputs": [],
   "source": [
    "plt.scatter(x = propval['NEW_FV_T'], y=propval['NEW_FV_L'])\n",
    "plt.xlabel('Total price')\n",
    "plt.ylabel('New price')"
   ]
  },
  {
   "cell_type": "code",
   "execution_count": null,
   "metadata": {},
   "outputs": [],
   "source": [
    "len(propval[propval['CUR_FV_T'] == propval['CUR_FV_L']])"
   ]
  },
  {
   "cell_type": "code",
   "execution_count": null,
   "metadata": {},
   "outputs": [],
   "source": [
    "len(propval[(propval['CUR_FV_T'] / propval['CUR_FV_L']) <= 1])"
   ]
  },
  {
   "cell_type": "code",
   "execution_count": null,
   "metadata": {},
   "outputs": [],
   "source": [
    "plt.scatter(x = propval['CUR_FV_T'], y=propval['FN_AVT_A'])\n",
    "plt.xlabel('current actual assessed total value')\n",
    "plt.ylabel('final actual assessed total value')"
   ]
  },
  {
   "cell_type": "code",
   "execution_count": null,
   "metadata": {},
   "outputs": [],
   "source": [
    "recents = propval[propval['YEAR4'] == 2017]"
   ]
  },
  {
   "cell_type": "code",
   "execution_count": null,
   "metadata": {},
   "outputs": [],
   "source": [
    "plt.scatter(x = recents['FN_AVT_A'], y = recents['CUR_FV_T'])\n",
    "plt.xlabel('final')\n",
    "plt.ylabel('current')"
   ]
  },
  {
   "cell_type": "code",
   "execution_count": null,
   "metadata": {},
   "outputs": [],
   "source": [
    "old = propval[propval.YRB == 2010]\n",
    "new = propval[propval.YRB >= 2016]"
   ]
  },
  {
   "cell_type": "code",
   "execution_count": null,
   "metadata": {},
   "outputs": [],
   "source": [
    "plt.scatter(x = old.FN_AVL_A, y = old.FN_AVT_A)\n",
    "plt.xlim(0, 120000)\n",
    "plt.ylim(0, 200000)\n",
    "plt.xlabel('old land price')\n",
    "plt.ylabel('old total price')"
   ]
  },
  {
   "cell_type": "code",
   "execution_count": null,
   "metadata": {},
   "outputs": [],
   "source": [
    "plt.scatter(x = new.FN_AVL_A, y = new.FN_AVT_A)\n",
    "plt.xlabel('new land price')\n",
    "plt.ylabel('new total price')\n",
    "plt.xlim(0, 120000)\n",
    "plt.ylim(0, 200000)"
   ]
  },
  {
   "cell_type": "code",
   "execution_count": null,
   "metadata": {},
   "outputs": [],
   "source": [
    "print(np.mean(old.FN_AVL_A),\n",
    "np.std(old.FN_AVL_A))"
   ]
  },
  {
   "cell_type": "code",
   "execution_count": null,
   "metadata": {},
   "outputs": [],
   "source": [
    "print(np.mean(new.FN_AVL_A),\n",
    "np.std(new.FN_AVL_A))"
   ]
  },
  {
   "cell_type": "code",
   "execution_count": null,
   "metadata": {},
   "outputs": [],
   "source": [
    "print(np.mean(old.FN_AVT_A),\n",
    "np.std(old.FN_AVT_A))"
   ]
  },
  {
   "cell_type": "code",
   "execution_count": null,
   "metadata": {},
   "outputs": [],
   "source": [
    "print(np.mean(new.FN_AVT_A),\n",
    "np.std(new.FN_AVT_A))"
   ]
  },
  {
   "cell_type": "code",
   "execution_count": null,
   "metadata": {},
   "outputs": [],
   "source": [
    "plt.scatter(x = propval.GR_SQFT, y = propval.FN_AVT_A)\n",
    "plt.xlim(0, 100000)"
   ]
  },
  {
   "cell_type": "code",
   "execution_count": null,
   "metadata": {},
   "outputs": [],
   "source": []
  }
 ],
 "metadata": {
  "kernelspec": {
   "display_name": "Python 3",
   "language": "python",
   "name": "python3"
  },
  "language_info": {
   "codemirror_mode": {
    "name": "ipython",
    "version": 3
   },
   "file_extension": ".py",
   "mimetype": "text/x-python",
   "name": "python",
   "nbconvert_exporter": "python",
   "pygments_lexer": "ipython3",
   "version": "3.7.4"
  }
 },
 "nbformat": 4,
 "nbformat_minor": 2
}
