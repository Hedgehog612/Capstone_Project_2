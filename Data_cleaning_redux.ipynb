{
 "cells": [
  {
   "cell_type": "code",
   "execution_count": 6,
   "metadata": {},
   "outputs": [],
   "source": [
    "import pandas as pd\n",
    "import matplotlib.pyplot as plt\n",
    "import matplotlib.patches as mpatches\n",
    "import datetime as dt\n",
    "import numpy as np\n",
    "import re"
   ]
  },
  {
   "cell_type": "code",
   "execution_count": null,
   "metadata": {},
   "outputs": [],
   "source": [
    "propval = pd.read_csv('property_valuation_data.csv')"
   ]
  },
  {
   "cell_type": "code",
   "execution_count": null,
   "metadata": {},
   "outputs": [],
   "source": [
    "#From Data_visualization, we have several columns we can immediately cut"
   ]
  },
  {
   "cell_type": "code",
   "execution_count": null,
   "metadata": {},
   "outputs": [],
   "source": [
    "propval.drop(axis=1, labels = ['DELCHG', 'CORCHG', 'NODESC', 'MBLDG', 'CONDO_S3', 'CONDO_A'], inplace=True)"
   ]
  },
  {
   "cell_type": "code",
   "execution_count": null,
   "metadata": {},
   "outputs": [],
   "source": [
    "propval.drop(axis = 1, labels = 'BBLE', inplace = True)"
   ]
  },
  {
   "cell_type": "code",
   "execution_count": null,
   "metadata": {},
   "outputs": [],
   "source": [
    "propval.columns"
   ]
  },
  {
   "cell_type": "code",
   "execution_count": null,
   "metadata": {},
   "outputs": [],
   "source": [
    "total_entries = len(propval)\n",
    "valid = []\n",
    "#For every column of data\n",
    "for entry in propval.columns:\n",
    "    counts = propval[entry].value_counts()\n",
    "    #If it isn't empty:\n",
    "    if len(counts) > 0:\n",
    "        #If no one value takes up 80+% of the dataset, it might be worth keeping\n",
    "        if (counts.iloc[0]/total_entries) <= 0.80:\n",
    "            #This checks against the data being mostly nans\n",
    "            if (counts.sum()/total_entries) >= 0.20:\n",
    "                valid.append(entry)"
   ]
  },
  {
   "cell_type": "code",
   "execution_count": null,
   "metadata": {},
   "outputs": [],
   "source": [
    "len(valid)"
   ]
  },
  {
   "cell_type": "code",
   "execution_count": null,
   "metadata": {},
   "outputs": [],
   "source": [
    "#We've removed 46 columns of mostly-homogenous data."
   ]
  },
  {
   "cell_type": "code",
   "execution_count": null,
   "metadata": {},
   "outputs": [],
   "source": [
    "propval=propval[valid]"
   ]
  },
  {
   "cell_type": "code",
   "execution_count": null,
   "metadata": {},
   "outputs": [],
   "source": [
    "propval.columns"
   ]
  },
  {
   "cell_type": "code",
   "execution_count": null,
   "metadata": {},
   "outputs": [],
   "source": [
    "#Cut tentative valuations because they're almost always identical to final valuations."
   ]
  },
  {
   "cell_type": "code",
   "execution_count": null,
   "metadata": {},
   "outputs": [],
   "source": [
    "propval.drop(axis=1, labels = ['TN_AVL', 'TN_AVT', 'TN_EXL', 'TN_AVL_A', 'TN_AVT_A', 'TN_EXL_A', 'TN_EXT_A'], inplace=True)"
   ]
  },
  {
   "cell_type": "code",
   "execution_count": null,
   "metadata": {},
   "outputs": [],
   "source": [
    "propval.columns"
   ]
  },
  {
   "cell_type": "code",
   "execution_count": null,
   "metadata": {},
   "outputs": [],
   "source": [
    "#Superfluous with hnum_hi"
   ]
  },
  {
   "cell_type": "code",
   "execution_count": null,
   "metadata": {},
   "outputs": [],
   "source": [
    "propval.drop(axis=1, labels = ['HNUM_LO'], inplace=True)"
   ]
  },
  {
   "cell_type": "code",
   "execution_count": null,
   "metadata": {},
   "outputs": [],
   "source": [
    "propval.to_csv('property_cleaning_progress.csv')"
   ]
  },
  {
   "cell_type": "code",
   "execution_count": 7,
   "metadata": {
    "scrolled": true
   },
   "outputs": [
    {
     "name": "stderr",
     "output_type": "stream",
     "text": [
      "C:\\Users\\marcu\\Anaconda3\\lib\\site-packages\\IPython\\core\\interactiveshell.py:3058: DtypeWarning: Columns (5,11,20,22,31,55,56) have mixed types. Specify dtype option on import or set low_memory=False.\n",
      "  interactivity=interactivity, compiler=compiler, result=result)\n"
     ]
    }
   ],
   "source": [
    "propval = pd.read_csv('property_cleaning_progress.csv')"
   ]
  },
  {
   "cell_type": "code",
   "execution_count": 8,
   "metadata": {},
   "outputs": [],
   "source": [
    "basic_columns = propval.columns[1:]"
   ]
  },
  {
   "cell_type": "code",
   "execution_count": 9,
   "metadata": {},
   "outputs": [
    {
     "data": {
      "text/plain": [
       "Index(['BORO', 'BLOCK', 'LOT', 'SECVOL', 'DISTRICT', 'YEAR4', 'CUR_FV_L',\n",
       "       'CUR_FV_T', 'NEW_FV_L', 'NEW_FV_T', 'FV_CHGDT', 'CURAVL', 'CURAVT',\n",
       "       'CUREXL', 'CUREXT', 'CURAVL_A', 'CURAVT_A', 'CUREXL_A', 'CUREXT_A',\n",
       "       'CHGDT', 'TN_EXT', 'FCHGDT', 'FN_AVL', 'FN_AVT', 'FN_EXL', 'FN_EXT',\n",
       "       'FN_AVL_A', 'FN_AVT_A', 'FN_EXL_A', 'FN_EXT_A', 'CBN_TXCL', 'BLDGCL',\n",
       "       'OWNER', 'HNUM_HI', 'STR_NAME', 'ZIP', 'TOT_UNIT', 'RES_UNIT',\n",
       "       'LFRT_DEC', 'LDEP_DEC', 'BFRT_DEC', 'BDEP_DEC', 'EXT', 'STORY',\n",
       "       'LND_AREA', 'GR_SQFT', 'ZONING', 'YRB', 'YRB_FLAG', 'CP_BORO',\n",
       "       'CP_DIST', 'STATUS1', 'EX_INDS', 'EX_COUNT', 'DCHGDT', 'SM_CHGDT'],\n",
       "      dtype='object')"
      ]
     },
     "execution_count": 9,
     "metadata": {},
     "output_type": "execute_result"
    }
   ],
   "source": [
    "basic_columns"
   ]
  },
  {
   "cell_type": "code",
   "execution_count": 77,
   "metadata": {},
   "outputs": [
    {
     "name": "stdout",
     "output_type": "stream",
     "text": [
      "FV_CHGDT contains nan\n",
      "FV_CHGDT datetime64[ns]\n",
      "CHGDT contains nan\n",
      "CHGDT datetime64[ns]\n",
      "FCHGDT contains nan\n",
      "FCHGDT object\n"
     ]
    },
    {
     "ename": "KeyError",
     "evalue": "'CBN_TXCL'",
     "output_type": "error",
     "traceback": [
      "\u001b[1;31m---------------------------------------------------------------------------\u001b[0m",
      "\u001b[1;31mKeyError\u001b[0m                                  Traceback (most recent call last)",
      "\u001b[1;32m~\\Anaconda3\\lib\\site-packages\\pandas\\core\\indexes\\base.py\u001b[0m in \u001b[0;36mget_loc\u001b[1;34m(self, key, method, tolerance)\u001b[0m\n\u001b[0;32m   2896\u001b[0m             \u001b[1;32mtry\u001b[0m\u001b[1;33m:\u001b[0m\u001b[1;33m\u001b[0m\u001b[1;33m\u001b[0m\u001b[0m\n\u001b[1;32m-> 2897\u001b[1;33m                 \u001b[1;32mreturn\u001b[0m \u001b[0mself\u001b[0m\u001b[1;33m.\u001b[0m\u001b[0m_engine\u001b[0m\u001b[1;33m.\u001b[0m\u001b[0mget_loc\u001b[0m\u001b[1;33m(\u001b[0m\u001b[0mkey\u001b[0m\u001b[1;33m)\u001b[0m\u001b[1;33m\u001b[0m\u001b[1;33m\u001b[0m\u001b[0m\n\u001b[0m\u001b[0;32m   2898\u001b[0m             \u001b[1;32mexcept\u001b[0m \u001b[0mKeyError\u001b[0m\u001b[1;33m:\u001b[0m\u001b[1;33m\u001b[0m\u001b[1;33m\u001b[0m\u001b[0m\n",
      "\u001b[1;32mpandas\\_libs\\index.pyx\u001b[0m in \u001b[0;36mpandas._libs.index.IndexEngine.get_loc\u001b[1;34m()\u001b[0m\n",
      "\u001b[1;32mpandas\\_libs\\index.pyx\u001b[0m in \u001b[0;36mpandas._libs.index.IndexEngine.get_loc\u001b[1;34m()\u001b[0m\n",
      "\u001b[1;32mpandas\\_libs\\hashtable_class_helper.pxi\u001b[0m in \u001b[0;36mpandas._libs.hashtable.PyObjectHashTable.get_item\u001b[1;34m()\u001b[0m\n",
      "\u001b[1;32mpandas\\_libs\\hashtable_class_helper.pxi\u001b[0m in \u001b[0;36mpandas._libs.hashtable.PyObjectHashTable.get_item\u001b[1;34m()\u001b[0m\n",
      "\u001b[1;31mKeyError\u001b[0m: 'CBN_TXCL'",
      "\nDuring handling of the above exception, another exception occurred:\n",
      "\u001b[1;31mKeyError\u001b[0m                                  Traceback (most recent call last)",
      "\u001b[1;32m<ipython-input-77-58c1f3e24679>\u001b[0m in \u001b[0;36m<module>\u001b[1;34m\u001b[0m\n\u001b[0;32m      1\u001b[0m \u001b[1;31m#Find everything I need to fix\u001b[0m\u001b[1;33m\u001b[0m\u001b[1;33m\u001b[0m\u001b[1;33m\u001b[0m\u001b[0m\n\u001b[0;32m      2\u001b[0m \u001b[1;32mfor\u001b[0m \u001b[0mentry\u001b[0m \u001b[1;32min\u001b[0m \u001b[0mbasic_columns\u001b[0m\u001b[1;33m:\u001b[0m\u001b[1;33m\u001b[0m\u001b[1;33m\u001b[0m\u001b[0m\n\u001b[1;32m----> 3\u001b[1;33m     \u001b[1;32mif\u001b[0m \u001b[0mpropval\u001b[0m\u001b[1;33m[\u001b[0m\u001b[0mentry\u001b[0m\u001b[1;33m]\u001b[0m\u001b[1;33m.\u001b[0m\u001b[0misnull\u001b[0m\u001b[1;33m(\u001b[0m\u001b[1;33m)\u001b[0m\u001b[1;33m.\u001b[0m\u001b[0mvalues\u001b[0m\u001b[1;33m.\u001b[0m\u001b[0many\u001b[0m\u001b[1;33m(\u001b[0m\u001b[1;33m)\u001b[0m\u001b[1;33m:\u001b[0m\u001b[1;33m\u001b[0m\u001b[1;33m\u001b[0m\u001b[0m\n\u001b[0m\u001b[0;32m      4\u001b[0m             \u001b[0mprint\u001b[0m\u001b[1;33m(\u001b[0m\u001b[0mentry\u001b[0m\u001b[1;33m,\u001b[0m \u001b[1;34m'contains nan'\u001b[0m\u001b[1;33m)\u001b[0m\u001b[1;33m\u001b[0m\u001b[1;33m\u001b[0m\u001b[0m\n\u001b[0;32m      5\u001b[0m     \u001b[1;32mif\u001b[0m \u001b[0mpropval\u001b[0m\u001b[1;33m[\u001b[0m\u001b[0mentry\u001b[0m\u001b[1;33m]\u001b[0m\u001b[1;33m.\u001b[0m\u001b[0mdtype\u001b[0m \u001b[1;32mnot\u001b[0m \u001b[1;32min\u001b[0m \u001b[1;33m[\u001b[0m\u001b[1;34m'int64'\u001b[0m\u001b[1;33m,\u001b[0m \u001b[1;34m'float64'\u001b[0m\u001b[1;33m]\u001b[0m\u001b[1;33m:\u001b[0m\u001b[1;33m\u001b[0m\u001b[1;33m\u001b[0m\u001b[0m\n",
      "\u001b[1;32m~\\Anaconda3\\lib\\site-packages\\pandas\\core\\frame.py\u001b[0m in \u001b[0;36m__getitem__\u001b[1;34m(self, key)\u001b[0m\n\u001b[0;32m   2978\u001b[0m             \u001b[1;32mif\u001b[0m \u001b[0mself\u001b[0m\u001b[1;33m.\u001b[0m\u001b[0mcolumns\u001b[0m\u001b[1;33m.\u001b[0m\u001b[0mnlevels\u001b[0m \u001b[1;33m>\u001b[0m \u001b[1;36m1\u001b[0m\u001b[1;33m:\u001b[0m\u001b[1;33m\u001b[0m\u001b[1;33m\u001b[0m\u001b[0m\n\u001b[0;32m   2979\u001b[0m                 \u001b[1;32mreturn\u001b[0m \u001b[0mself\u001b[0m\u001b[1;33m.\u001b[0m\u001b[0m_getitem_multilevel\u001b[0m\u001b[1;33m(\u001b[0m\u001b[0mkey\u001b[0m\u001b[1;33m)\u001b[0m\u001b[1;33m\u001b[0m\u001b[1;33m\u001b[0m\u001b[0m\n\u001b[1;32m-> 2980\u001b[1;33m             \u001b[0mindexer\u001b[0m \u001b[1;33m=\u001b[0m \u001b[0mself\u001b[0m\u001b[1;33m.\u001b[0m\u001b[0mcolumns\u001b[0m\u001b[1;33m.\u001b[0m\u001b[0mget_loc\u001b[0m\u001b[1;33m(\u001b[0m\u001b[0mkey\u001b[0m\u001b[1;33m)\u001b[0m\u001b[1;33m\u001b[0m\u001b[1;33m\u001b[0m\u001b[0m\n\u001b[0m\u001b[0;32m   2981\u001b[0m             \u001b[1;32mif\u001b[0m \u001b[0mis_integer\u001b[0m\u001b[1;33m(\u001b[0m\u001b[0mindexer\u001b[0m\u001b[1;33m)\u001b[0m\u001b[1;33m:\u001b[0m\u001b[1;33m\u001b[0m\u001b[1;33m\u001b[0m\u001b[0m\n\u001b[0;32m   2982\u001b[0m                 \u001b[0mindexer\u001b[0m \u001b[1;33m=\u001b[0m \u001b[1;33m[\u001b[0m\u001b[0mindexer\u001b[0m\u001b[1;33m]\u001b[0m\u001b[1;33m\u001b[0m\u001b[1;33m\u001b[0m\u001b[0m\n",
      "\u001b[1;32m~\\Anaconda3\\lib\\site-packages\\pandas\\core\\indexes\\base.py\u001b[0m in \u001b[0;36mget_loc\u001b[1;34m(self, key, method, tolerance)\u001b[0m\n\u001b[0;32m   2897\u001b[0m                 \u001b[1;32mreturn\u001b[0m \u001b[0mself\u001b[0m\u001b[1;33m.\u001b[0m\u001b[0m_engine\u001b[0m\u001b[1;33m.\u001b[0m\u001b[0mget_loc\u001b[0m\u001b[1;33m(\u001b[0m\u001b[0mkey\u001b[0m\u001b[1;33m)\u001b[0m\u001b[1;33m\u001b[0m\u001b[1;33m\u001b[0m\u001b[0m\n\u001b[0;32m   2898\u001b[0m             \u001b[1;32mexcept\u001b[0m \u001b[0mKeyError\u001b[0m\u001b[1;33m:\u001b[0m\u001b[1;33m\u001b[0m\u001b[1;33m\u001b[0m\u001b[0m\n\u001b[1;32m-> 2899\u001b[1;33m                 \u001b[1;32mreturn\u001b[0m \u001b[0mself\u001b[0m\u001b[1;33m.\u001b[0m\u001b[0m_engine\u001b[0m\u001b[1;33m.\u001b[0m\u001b[0mget_loc\u001b[0m\u001b[1;33m(\u001b[0m\u001b[0mself\u001b[0m\u001b[1;33m.\u001b[0m\u001b[0m_maybe_cast_indexer\u001b[0m\u001b[1;33m(\u001b[0m\u001b[0mkey\u001b[0m\u001b[1;33m)\u001b[0m\u001b[1;33m)\u001b[0m\u001b[1;33m\u001b[0m\u001b[1;33m\u001b[0m\u001b[0m\n\u001b[0m\u001b[0;32m   2900\u001b[0m         \u001b[0mindexer\u001b[0m \u001b[1;33m=\u001b[0m \u001b[0mself\u001b[0m\u001b[1;33m.\u001b[0m\u001b[0mget_indexer\u001b[0m\u001b[1;33m(\u001b[0m\u001b[1;33m[\u001b[0m\u001b[0mkey\u001b[0m\u001b[1;33m]\u001b[0m\u001b[1;33m,\u001b[0m \u001b[0mmethod\u001b[0m\u001b[1;33m=\u001b[0m\u001b[0mmethod\u001b[0m\u001b[1;33m,\u001b[0m \u001b[0mtolerance\u001b[0m\u001b[1;33m=\u001b[0m\u001b[0mtolerance\u001b[0m\u001b[1;33m)\u001b[0m\u001b[1;33m\u001b[0m\u001b[1;33m\u001b[0m\u001b[0m\n\u001b[0;32m   2901\u001b[0m         \u001b[1;32mif\u001b[0m \u001b[0mindexer\u001b[0m\u001b[1;33m.\u001b[0m\u001b[0mndim\u001b[0m \u001b[1;33m>\u001b[0m \u001b[1;36m1\u001b[0m \u001b[1;32mor\u001b[0m \u001b[0mindexer\u001b[0m\u001b[1;33m.\u001b[0m\u001b[0msize\u001b[0m \u001b[1;33m>\u001b[0m \u001b[1;36m1\u001b[0m\u001b[1;33m:\u001b[0m\u001b[1;33m\u001b[0m\u001b[1;33m\u001b[0m\u001b[0m\n",
      "\u001b[1;32mpandas\\_libs\\index.pyx\u001b[0m in \u001b[0;36mpandas._libs.index.IndexEngine.get_loc\u001b[1;34m()\u001b[0m\n",
      "\u001b[1;32mpandas\\_libs\\index.pyx\u001b[0m in \u001b[0;36mpandas._libs.index.IndexEngine.get_loc\u001b[1;34m()\u001b[0m\n",
      "\u001b[1;32mpandas\\_libs\\hashtable_class_helper.pxi\u001b[0m in \u001b[0;36mpandas._libs.hashtable.PyObjectHashTable.get_item\u001b[1;34m()\u001b[0m\n",
      "\u001b[1;32mpandas\\_libs\\hashtable_class_helper.pxi\u001b[0m in \u001b[0;36mpandas._libs.hashtable.PyObjectHashTable.get_item\u001b[1;34m()\u001b[0m\n",
      "\u001b[1;31mKeyError\u001b[0m: 'CBN_TXCL'"
     ]
    }
   ],
   "source": [
    "#Find everything I need to fix\n",
    "for entry in basic_columns:\n",
    "    if propval[entry].isnull().values.any():\n",
    "            print(entry, 'contains nan')\n",
    "    if propval[entry].dtype not in ['int64', 'float64']:\n",
    "        print(entry, propval[entry].dtype)"
   ]
  },
  {
   "cell_type": "code",
   "execution_count": 11,
   "metadata": {},
   "outputs": [
    {
     "data": {
      "text/plain": [
       "array(['M1', '33', 'B1', '35', '04', '21', '34', '22', '05', '01', '25',\n",
       "       '57', '26', '27', '52', '87', '42', '24', '23', '41', '03', 'K5',\n",
       "       'K1', 'K2', '54', '85', 'K4', 'K6', 'K3', 'K7', '06', '43', '53',\n",
       "       '07', '47', 'K8', '45', '55', 'K9', '02', 'Q1', 'Q2', '44', 'Q3',\n",
       "       'Q4', 'Q5', 'Q6', '09', 'Q7', '56', 'S1', 'S3', 'S2', 'S4', nan,\n",
       "       '32', '20', '08', '10', '12', '11', '13', '14', '16', '17', '15',\n",
       "       '31', '16.0', '31.0', '9.0', '15.0', '17.0', '18.0', '19.0', '2.0',\n",
       "       '1.0', '5.0', '8.0', '3.0', '4.0', 4.0, 5.0, 6.0, 31.0, 7.0, 9.0,\n",
       "       10.0, 2.0, 8.0, 1.0, 35.0, 3.0, 36.0, 13.0, 12.0, 14.0, 11.0, 15,\n",
       "       16.0, 18.0, 17.0, 20.0, 19.0, 22, 21.0, 37.0, '37', 34.0, 32.0,\n",
       "       33.0, 24.0, 23.0, 25.0, 26.0, 0.0, 27], dtype=object)"
      ]
     },
     "execution_count": 11,
     "metadata": {},
     "output_type": "execute_result"
    }
   ],
   "source": [
    "propval.DISTRICT.unique()"
   ]
  },
  {
   "cell_type": "code",
   "execution_count": 12,
   "metadata": {},
   "outputs": [],
   "source": [
    "dist_replace = {'M1':1, 'B1':1, 'K5':5, 'K1':1, 'K2':2, 'K4':4, 'K6':6, 'K3':3, 'K7':7,\\\n",
    "               'K8':8, 'K9':9, 'Q1':1,'Q2':2, 'Q3':3, 'Q4':4, 'Q5':5, 'Q6':6, 'Q7':7, 'S1':1,\\\n",
    "               'S2':2, 'S3':3, 'S4':4}"
   ]
  },
  {
   "cell_type": "code",
   "execution_count": 13,
   "metadata": {},
   "outputs": [],
   "source": [
    "new_dist = []\n",
    "for index, row in propval.DISTRICT.iteritems():\n",
    "    if row in dist_replace:\n",
    "        new_dist.append(dist_replace[row])\n",
    "    elif type(row) == str:\n",
    "        new_dist.append(float(row))\n",
    "    else:\n",
    "        new_dist.append(row)"
   ]
  },
  {
   "cell_type": "code",
   "execution_count": 14,
   "metadata": {},
   "outputs": [],
   "source": [
    "propval.DISTRICT = new_dist"
   ]
  },
  {
   "cell_type": "code",
   "execution_count": 15,
   "metadata": {},
   "outputs": [
    {
     "data": {
      "text/plain": [
       "array([ 1., 33., 35.,  4., 21., 34., 22.,  5., 25., 57., 26., 27., 52.,\n",
       "       87., 42., 24., 23., 41.,  3.,  2., 54., 85.,  6.,  7., 43., 53.,\n",
       "       47.,  8., 45., 55.,  9., 44., 56., nan, 32., 20., 10., 12., 11.,\n",
       "       13., 14., 16., 17., 15., 31., 18., 19., 36., 37.,  0.])"
      ]
     },
     "execution_count": 15,
     "metadata": {},
     "output_type": "execute_result"
    }
   ],
   "source": [
    "propval.DISTRICT.unique()"
   ]
  },
  {
   "cell_type": "code",
   "execution_count": 16,
   "metadata": {},
   "outputs": [],
   "source": [
    "propval.DISTRICT.fillna(0, inplace=True)"
   ]
  },
  {
   "cell_type": "code",
   "execution_count": 17,
   "metadata": {},
   "outputs": [
    {
     "data": {
      "text/plain": [
       "dtype('float64')"
      ]
     },
     "execution_count": 17,
     "metadata": {},
     "output_type": "execute_result"
    }
   ],
   "source": [
    "propval.DISTRICT.dtype"
   ]
  },
  {
   "cell_type": "code",
   "execution_count": null,
   "metadata": {},
   "outputs": [],
   "source": []
  },
  {
   "cell_type": "code",
   "execution_count": 18,
   "metadata": {},
   "outputs": [
    {
     "data": {
      "text/plain": [
       "0          12/28/2010\n",
       "1          01/06/2011\n",
       "2          01/06/2011\n",
       "3          01/06/2011\n",
       "4          01/08/2011\n",
       "              ...    \n",
       "5738470    12/20/2017\n",
       "5738471    12/20/2017\n",
       "5738472    12/20/2017\n",
       "5738473    12/20/2017\n",
       "5738474    12/20/2017\n",
       "Name: FV_CHGDT, Length: 5738475, dtype: object"
      ]
     },
     "execution_count": 18,
     "metadata": {},
     "output_type": "execute_result"
    }
   ],
   "source": [
    "propval.FV_CHGDT"
   ]
  },
  {
   "cell_type": "code",
   "execution_count": 19,
   "metadata": {},
   "outputs": [],
   "source": [
    "def convert_datetime(df, column_name):\n",
    "    return pd.to_datetime(df[column_name], format = '%m/%d/%Y')"
   ]
  },
  {
   "cell_type": "code",
   "execution_count": 20,
   "metadata": {},
   "outputs": [],
   "source": [
    "#Cleaning up the datetimes into standard format, leaving nans as unknowns"
   ]
  },
  {
   "cell_type": "code",
   "execution_count": 21,
   "metadata": {},
   "outputs": [],
   "source": [
    "propval.FV_CHGDT = convert_datetime(propval, 'FV_CHGDT')"
   ]
  },
  {
   "cell_type": "code",
   "execution_count": null,
   "metadata": {},
   "outputs": [],
   "source": []
  },
  {
   "cell_type": "code",
   "execution_count": 22,
   "metadata": {},
   "outputs": [],
   "source": [
    "propval.CHGDT = convert_datetime(propval, 'CHGDT')"
   ]
  },
  {
   "cell_type": "code",
   "execution_count": null,
   "metadata": {},
   "outputs": [],
   "source": []
  },
  {
   "cell_type": "code",
   "execution_count": 23,
   "metadata": {},
   "outputs": [
    {
     "data": {
      "text/plain": [
       "1     4035762\n",
       "0     1416510\n",
       "1B     140510\n",
       "1A     137124\n",
       "1C       8369\n",
       "1D        200\n",
       "Name: CBN_TXCL, dtype: int64"
      ]
     },
     "execution_count": 23,
     "metadata": {},
     "output_type": "execute_result"
    }
   ],
   "source": [
    "propval.CBN_TXCL.fillna(0, inplace = True)\n",
    "propval.CBN_TXCL.value_counts()"
   ]
  },
  {
   "cell_type": "code",
   "execution_count": 24,
   "metadata": {},
   "outputs": [],
   "source": [
    "#1C, 1D too small to matter. Others get broken up.\n",
    "propval['CBN_TXCL1'] = [txcl == '1' for txcl in propval['CBN_TXCL']]\n",
    "propval['CBN_TXCL0'] = [txcl == '0' for txcl in propval['CBN_TXCL']]\n",
    "propval['CBN_TXCL1B'] = [txcl == '1B' for txcl in propval['CBN_TXCL']]\n",
    "propval['CBN_TXCL1A'] = [txcl == '1A' for txcl in propval['CBN_TXCL']]"
   ]
  },
  {
   "cell_type": "code",
   "execution_count": 25,
   "metadata": {},
   "outputs": [],
   "source": [
    "propval.drop(axis=1, labels = ['CBN_TXCL'], inplace=True)"
   ]
  },
  {
   "cell_type": "code",
   "execution_count": null,
   "metadata": {},
   "outputs": [],
   "source": []
  },
  {
   "cell_type": "code",
   "execution_count": 26,
   "metadata": {},
   "outputs": [],
   "source": [
    "#Reduce dimensionality\n",
    "new_bldgcl = []\n",
    "for index, row in propval.BLDGCL.iteritems():\n",
    "    new_bldgcl.append(row[:1])"
   ]
  },
  {
   "cell_type": "code",
   "execution_count": 27,
   "metadata": {
    "scrolled": true
   },
   "outputs": [
    {
     "data": {
      "text/plain": [
       "A    2548132\n",
       "B    2019363\n",
       "C     596583\n",
       "R     191442\n",
       "V     189122\n",
       "S     167992\n",
       "G      22423\n",
       "Z       3418\n",
       "Name: BLDGCL, dtype: int64"
      ]
     },
     "execution_count": 27,
     "metadata": {},
     "output_type": "execute_result"
    }
   ],
   "source": [
    "propval['BLDGCL'] = new_bldgcl\n",
    "propval.BLDGCL.value_counts()"
   ]
  },
  {
   "cell_type": "code",
   "execution_count": 28,
   "metadata": {},
   "outputs": [],
   "source": [
    "#Cut G, Z take the others\n",
    "propval['BLDGCLA'] = [bldcl == 'A' for bldcl in propval['BLDGCL']]\n",
    "propval['BLDGCLB'] = [bldcl == 'B' for bldcl in propval['BLDGCL']]\n",
    "propval['BLDGCLC'] = [bldcl == 'C' for bldcl in propval['BLDGCL']]\n",
    "propval['BLDGCLR'] = [bldcl == 'R' for bldcl in propval['BLDGCL']]\n",
    "propval['BLDGCLV'] = [bldcl == 'V' for bldcl in propval['BLDGCL']]\n",
    "propval['BLDGCLS'] = [bldcl == 'S' for bldcl in propval['BLDGCL']]"
   ]
  },
  {
   "cell_type": "code",
   "execution_count": 29,
   "metadata": {},
   "outputs": [],
   "source": [
    "propval.drop(axis=1, labels = ['BLDGCL'], inplace=True)"
   ]
  },
  {
   "cell_type": "code",
   "execution_count": null,
   "metadata": {},
   "outputs": [],
   "source": []
  },
  {
   "cell_type": "code",
   "execution_count": 30,
   "metadata": {},
   "outputs": [],
   "source": [
    "#Too small, need to cut\n",
    "propval.drop(axis=1, labels = ['OWNER'], inplace=True)"
   ]
  },
  {
   "cell_type": "code",
   "execution_count": null,
   "metadata": {},
   "outputs": [],
   "source": []
  },
  {
   "cell_type": "code",
   "execution_count": 31,
   "metadata": {},
   "outputs": [],
   "source": [
    "#Too dimensional, we have other geographical data\n",
    "propval.drop(axis=1, labels = ['HNUM_HI'], inplace=True)"
   ]
  },
  {
   "cell_type": "code",
   "execution_count": 32,
   "metadata": {},
   "outputs": [],
   "source": [
    "propval.drop(axis=1, labels = ['STR_NAME'], inplace=True)"
   ]
  },
  {
   "cell_type": "code",
   "execution_count": null,
   "metadata": {},
   "outputs": [],
   "source": []
  },
  {
   "cell_type": "code",
   "execution_count": 33,
   "metadata": {},
   "outputs": [
    {
     "data": {
      "text/plain": [
       "G     2089173\n",
       "EG     286358\n",
       "E      254223\n",
       "Name: EXT, dtype: int64"
      ]
     },
     "execution_count": 33,
     "metadata": {},
     "output_type": "execute_result"
    }
   ],
   "source": [
    "propval.EXT.value_counts()"
   ]
  },
  {
   "cell_type": "code",
   "execution_count": 34,
   "metadata": {},
   "outputs": [],
   "source": [
    "propval['EXTG'] = [ext == 'G' for ext in propval['EXT']]\n",
    "propval['EXTEG'] = [ext == 'EG' for ext in propval['EXT']]\n",
    "propval['EXTE'] = [ext == 'E' for ext in propval['EXT']]"
   ]
  },
  {
   "cell_type": "code",
   "execution_count": 35,
   "metadata": {},
   "outputs": [],
   "source": [
    "propval.drop(axis=1, labels = ['EXT'], inplace=True)"
   ]
  },
  {
   "cell_type": "code",
   "execution_count": null,
   "metadata": {},
   "outputs": [],
   "source": []
  },
  {
   "cell_type": "code",
   "execution_count": 36,
   "metadata": {},
   "outputs": [
    {
     "data": {
      "text/plain": [
       "R5      760347\n",
       "R4      659494\n",
       "R3-2    648590\n",
       "R6      439770\n",
       "R3-1    396410\n",
       "R2      365036\n",
       "R3X     353043\n",
       "R3A     352032\n",
       "R4-1    324594\n",
       "R6B     237167\n",
       "R2A     236846\n",
       "R4A     169137\n",
       "R5B     167169\n",
       "R1-2    113230\n",
       "R4B     107420\n",
       "R7-1     78795\n",
       "R6A      45141\n",
       "R5A      27630\n",
       "M1-1     25183\n",
       "R7-2     21514\n",
       "R7A      20188\n",
       "R5D      14906\n",
       "R8B      12974\n",
       "R1-1     12766\n",
       "R7B      10883\n",
       "Name: ZONING, dtype: int64"
      ]
     },
     "execution_count": 36,
     "metadata": {},
     "output_type": "execute_result"
    }
   ],
   "source": [
    "propval.ZONING.value_counts()[:25]"
   ]
  },
  {
   "cell_type": "code",
   "execution_count": 37,
   "metadata": {},
   "outputs": [],
   "source": [
    "#reduce dimensionality here\n",
    "new_zoning = []\n",
    "for index, row in propval.ZONING.iteritems():\n",
    "    new_zoning.append(str(row)[1])"
   ]
  },
  {
   "cell_type": "code",
   "execution_count": 38,
   "metadata": {},
   "outputs": [],
   "source": [
    "propval.ZONING=new_zoning"
   ]
  },
  {
   "cell_type": "code",
   "execution_count": 39,
   "metadata": {
    "scrolled": true
   },
   "outputs": [
    {
     "data": {
      "text/plain": [
       "3    1762506\n",
       "4    1279558\n",
       "5     970355\n",
       "6     724402\n",
       "2     613178\n",
       "1     185529\n",
       "7     132826\n",
       "8      32038\n",
       "a      29873\n",
       "Z       4478\n",
       "A       3511\n",
       "9        173\n",
       "R         44\n",
       "B          4\n",
       "Name: ZONING, dtype: int64"
      ]
     },
     "execution_count": 39,
     "metadata": {},
     "output_type": "execute_result"
    }
   ],
   "source": [
    "propval.ZONING.value_counts()"
   ]
  },
  {
   "cell_type": "code",
   "execution_count": 40,
   "metadata": {},
   "outputs": [],
   "source": [
    "propval.ZONING.replace(to_replace = ['a', 'Z', 'A', 'R', 'B'], value = 0, inplace = True)"
   ]
  },
  {
   "cell_type": "code",
   "execution_count": 41,
   "metadata": {},
   "outputs": [],
   "source": [
    "propval.ZONING.fillna(0, inplace=True)"
   ]
  },
  {
   "cell_type": "code",
   "execution_count": 42,
   "metadata": {},
   "outputs": [],
   "source": [
    "new_zoning = []\n",
    "for index, row in propval.ZONING.iteritems():\n",
    "    new_zoning.append(int(row))"
   ]
  },
  {
   "cell_type": "code",
   "execution_count": 43,
   "metadata": {},
   "outputs": [],
   "source": [
    "propval.ZONING = new_zoning"
   ]
  },
  {
   "cell_type": "code",
   "execution_count": 44,
   "metadata": {},
   "outputs": [
    {
     "data": {
      "text/plain": [
       "3    1762506\n",
       "4    1279558\n",
       "5     970355\n",
       "6     724402\n",
       "2     613178\n",
       "1     185529\n",
       "7     132826\n",
       "0      37910\n",
       "8      32038\n",
       "9        173\n",
       "Name: ZONING, dtype: int64"
      ]
     },
     "execution_count": 44,
     "metadata": {},
     "output_type": "execute_result"
    }
   ],
   "source": [
    "propval.ZONING.value_counts()"
   ]
  },
  {
   "cell_type": "code",
   "execution_count": null,
   "metadata": {},
   "outputs": [],
   "source": []
  },
  {
   "cell_type": "code",
   "execution_count": 45,
   "metadata": {},
   "outputs": [
    {
     "data": {
      "text/plain": [
       "E    4445902\n",
       "Name: YRB_FLAG, dtype: int64"
      ]
     },
     "execution_count": 45,
     "metadata": {},
     "output_type": "execute_result"
    }
   ],
   "source": [
    "propval.YRB_FLAG.value_counts()"
   ]
  },
  {
   "cell_type": "code",
   "execution_count": 46,
   "metadata": {},
   "outputs": [],
   "source": [
    "propval.YRB_FLAG.fillna(False, inplace = True)\n",
    "propval.YRB_FLAG.replace('E', True, inplace=True)"
   ]
  },
  {
   "cell_type": "code",
   "execution_count": null,
   "metadata": {},
   "outputs": [],
   "source": []
  },
  {
   "cell_type": "code",
   "execution_count": 48,
   "metadata": {},
   "outputs": [],
   "source": [
    "propval.CP_BORO.fillna(0, inplace=True)"
   ]
  },
  {
   "cell_type": "code",
   "execution_count": 50,
   "metadata": {},
   "outputs": [],
   "source": [
    "propval.CP_DIST.fillna(0, inplace=True)"
   ]
  },
  {
   "cell_type": "code",
   "execution_count": null,
   "metadata": {},
   "outputs": [],
   "source": []
  },
  {
   "cell_type": "code",
   "execution_count": 51,
   "metadata": {
    "scrolled": true
   },
   "outputs": [
    {
     "data": {
      "text/plain": [
       "EEEE    3302642\n",
       "EEE      240502\n",
       "EE       199318\n",
       "E        194445\n",
       "E EE      13459\n",
       "EE E      10241\n",
       "E  E       4711\n",
       "E E         524\n",
       "Name: EX_INDS, dtype: int64"
      ]
     },
     "execution_count": 51,
     "metadata": {},
     "output_type": "execute_result"
    }
   ],
   "source": [
    "propval.EX_INDS.value_counts()"
   ]
  },
  {
   "cell_type": "code",
   "execution_count": 52,
   "metadata": {},
   "outputs": [],
   "source": [
    "#reduce dimensionality to number of exceptions\n",
    "propval.EX_INDS.fillna(0, inplace=True)\n",
    "propval.EX_INDS.replace('EEEE', 4, inplace=True)\n",
    "propval.EX_INDS.replace(['EEE', 'EE E', 'E EE'], 3, inplace=True)\n",
    "propval.EX_INDS.replace(['EE', 'E E', 'E  E'], 2, inplace=True)\n",
    "propval.EX_INDS.replace('E', 1, inplace=True)"
   ]
  },
  {
   "cell_type": "code",
   "execution_count": null,
   "metadata": {},
   "outputs": [],
   "source": []
  },
  {
   "cell_type": "code",
   "execution_count": 56,
   "metadata": {},
   "outputs": [],
   "source": [
    "propval.DCHGDT = convert_datetime(propval, 'DCHGDT')"
   ]
  },
  {
   "cell_type": "code",
   "execution_count": null,
   "metadata": {},
   "outputs": [],
   "source": []
  },
  {
   "cell_type": "code",
   "execution_count": 57,
   "metadata": {},
   "outputs": [],
   "source": [
    "propval.SM_CHGDT = convert_datetime(propval, 'SM_CHGDT')"
   ]
  },
  {
   "cell_type": "code",
   "execution_count": null,
   "metadata": {},
   "outputs": [],
   "source": []
  },
  {
   "cell_type": "code",
   "execution_count": 58,
   "metadata": {},
   "outputs": [],
   "source": [
    "#Fix year zeroes in two ways: replace with mean of borough and with 2 SDs below mean of borough\n",
    "no_zero = propval[propval.YRB != 0]"
   ]
  },
  {
   "cell_type": "code",
   "execution_count": 62,
   "metadata": {},
   "outputs": [],
   "source": [
    "YRB1 = np.mean(no_zero[no_zero.BORO == 1].YRB)\n",
    "YRB2 = np.mean(no_zero[no_zero.BORO == 2].YRB)\n",
    "YRB3 = np.mean(no_zero[no_zero.BORO == 3].YRB)\n",
    "YRB4 = np.mean(no_zero[no_zero.BORO == 4].YRB)\n",
    "YRB5 = np.mean(no_zero[no_zero.BORO == 5].YRB)\n",
    "STD1 = np.std(no_zero[no_zero.BORO == 1].YRB)\n",
    "STD2 = np.std(no_zero[no_zero.BORO == 2].YRB)\n",
    "STD3 = np.std(no_zero[no_zero.BORO == 3].YRB)\n",
    "STD4 = np.std(no_zero[no_zero.BORO == 4].YRB)\n",
    "STD5 = np.std(no_zero[no_zero.BORO == 5].YRB)"
   ]
  },
  {
   "cell_type": "code",
   "execution_count": 70,
   "metadata": {},
   "outputs": [],
   "source": [
    "#Zero-padding so the indicies line up\n",
    "yrb_means = [0, YRB1, YRB2, YRB3, YRB4, YRB5]\n",
    "yrb_stds = [0, STD1, STD2, STD3, STD4, STD5]"
   ]
  },
  {
   "cell_type": "code",
   "execution_count": 71,
   "metadata": {},
   "outputs": [
    {
     "data": {
      "text/plain": [
       "[0,\n",
       " 1911.9448359170526,\n",
       " 1945.396508230097,\n",
       " 1931.563102943997,\n",
       " 1940.7330641355545,\n",
       " 1966.6410247801412]"
      ]
     },
     "execution_count": 71,
     "metadata": {},
     "output_type": "execute_result"
    }
   ],
   "source": [
    "yrb_means"
   ]
  },
  {
   "cell_type": "code",
   "execution_count": 72,
   "metadata": {},
   "outputs": [],
   "source": [
    "yrb_new = []\n",
    "yrb_old = []\n",
    "for index, row in propval.iterrows():\n",
    "    if row.YRB == 0:\n",
    "        yrb_new.append(yrb_means[row.BORO])\n",
    "        yrb_old.append(yrb_means[row.BORO] - (yrb_stds[row.BORO]*2))\n",
    "    else:\n",
    "        yrb_new.append(row.YRB)\n",
    "        yrb_old.append(row.YRB)"
   ]
  },
  {
   "cell_type": "code",
   "execution_count": 73,
   "metadata": {},
   "outputs": [],
   "source": [
    "propval['YRB_NEW'] = yrb_new\n",
    "propval['YRB_OLD'] = yrb_old"
   ]
  },
  {
   "cell_type": "code",
   "execution_count": 75,
   "metadata": {},
   "outputs": [
    {
     "data": {
      "text/plain": [
       "1920.0    644135\n",
       "1925.0    533628\n",
       "1930.0    512917\n",
       "1950.0    367654\n",
       "1940.0    297660\n",
       "           ...  \n",
       "1798.0         8\n",
       "1729.0         8\n",
       "1876.0         8\n",
       "1816.0         7\n",
       "1837.0         3\n",
       "Name: YRB_OLD, Length: 201, dtype: int64"
      ]
     },
     "execution_count": 75,
     "metadata": {},
     "output_type": "execute_result"
    }
   ],
   "source": [
    "propval.YRB_OLD.value_counts()"
   ]
  },
  {
   "cell_type": "code",
   "execution_count": 76,
   "metadata": {},
   "outputs": [],
   "source": [
    "propval.drop(axis=1, labels = ['YRB'], inplace=True)"
   ]
  },
  {
   "cell_type": "code",
   "execution_count": null,
   "metadata": {},
   "outputs": [],
   "source": []
  },
  {
   "cell_type": "code",
   "execution_count": 78,
   "metadata": {},
   "outputs": [],
   "source": [
    "propval.to_csv('clean_propval_final.csv')"
   ]
  },
  {
   "cell_type": "code",
   "execution_count": 79,
   "metadata": {},
   "outputs": [
    {
     "name": "stderr",
     "output_type": "stream",
     "text": [
      "C:\\Users\\marcu\\Anaconda3\\lib\\site-packages\\IPython\\core\\interactiveshell.py:3058: DtypeWarning: Columns (13,22,24,50,51) have mixed types. Specify dtype option on import or set low_memory=False.\n",
      "  interactivity=interactivity, compiler=compiler, result=result)\n"
     ]
    }
   ],
   "source": [
    "propval = pd.read_csv('clean_propval_final.csv')"
   ]
  },
  {
   "cell_type": "code",
   "execution_count": 83,
   "metadata": {},
   "outputs": [],
   "source": [
    "propval = propval.sort_values(by=['FN_AVT_A'], ascending = False)"
   ]
  },
  {
   "cell_type": "code",
   "execution_count": 89,
   "metadata": {},
   "outputs": [
    {
     "data": {
      "text/html": [
       "<div>\n",
       "<style scoped>\n",
       "    .dataframe tbody tr th:only-of-type {\n",
       "        vertical-align: middle;\n",
       "    }\n",
       "\n",
       "    .dataframe tbody tr th {\n",
       "        vertical-align: top;\n",
       "    }\n",
       "\n",
       "    .dataframe thead th {\n",
       "        text-align: right;\n",
       "    }\n",
       "</style>\n",
       "<table border=\"1\" class=\"dataframe\">\n",
       "  <thead>\n",
       "    <tr style=\"text-align: right;\">\n",
       "      <th></th>\n",
       "      <th>FN_AVT_A</th>\n",
       "      <th>BORO</th>\n",
       "    </tr>\n",
       "  </thead>\n",
       "  <tbody>\n",
       "    <tr>\n",
       "      <td>569048</td>\n",
       "      <td>27468900</td>\n",
       "      <td>4</td>\n",
       "    </tr>\n",
       "    <tr>\n",
       "      <td>5598140</td>\n",
       "      <td>25815300</td>\n",
       "      <td>4</td>\n",
       "    </tr>\n",
       "    <tr>\n",
       "      <td>4889612</td>\n",
       "      <td>25558848</td>\n",
       "      <td>4</td>\n",
       "    </tr>\n",
       "    <tr>\n",
       "      <td>4111139</td>\n",
       "      <td>25558848</td>\n",
       "      <td>4</td>\n",
       "    </tr>\n",
       "    <tr>\n",
       "      <td>3402721</td>\n",
       "      <td>25367496</td>\n",
       "      <td>4</td>\n",
       "    </tr>\n",
       "    <tr>\n",
       "      <td>2694155</td>\n",
       "      <td>23931600</td>\n",
       "      <td>4</td>\n",
       "    </tr>\n",
       "    <tr>\n",
       "      <td>1985872</td>\n",
       "      <td>22576982</td>\n",
       "      <td>4</td>\n",
       "    </tr>\n",
       "    <tr>\n",
       "      <td>1277286</td>\n",
       "      <td>21299040</td>\n",
       "      <td>4</td>\n",
       "    </tr>\n",
       "    <tr>\n",
       "      <td>1293500</td>\n",
       "      <td>17963591</td>\n",
       "      <td>4</td>\n",
       "    </tr>\n",
       "    <tr>\n",
       "      <td>585164</td>\n",
       "      <td>17789265</td>\n",
       "      <td>4</td>\n",
       "    </tr>\n",
       "    <tr>\n",
       "      <td>5614505</td>\n",
       "      <td>17016540</td>\n",
       "      <td>4</td>\n",
       "    </tr>\n",
       "    <tr>\n",
       "      <td>4906008</td>\n",
       "      <td>16532820</td>\n",
       "      <td>4</td>\n",
       "    </tr>\n",
       "    <tr>\n",
       "      <td>4127555</td>\n",
       "      <td>15263820</td>\n",
       "      <td>4</td>\n",
       "    </tr>\n",
       "    <tr>\n",
       "      <td>572162</td>\n",
       "      <td>15016680</td>\n",
       "      <td>4</td>\n",
       "    </tr>\n",
       "    <tr>\n",
       "      <td>569049</td>\n",
       "      <td>12867000</td>\n",
       "      <td>4</td>\n",
       "    </tr>\n",
       "    <tr>\n",
       "      <td>4892665</td>\n",
       "      <td>12767520</td>\n",
       "      <td>4</td>\n",
       "    </tr>\n",
       "    <tr>\n",
       "      <td>3419121</td>\n",
       "      <td>12737280</td>\n",
       "      <td>4</td>\n",
       "    </tr>\n",
       "    <tr>\n",
       "      <td>2710508</td>\n",
       "      <td>12737269</td>\n",
       "      <td>4</td>\n",
       "    </tr>\n",
       "    <tr>\n",
       "      <td>583250</td>\n",
       "      <td>12732660</td>\n",
       "      <td>4</td>\n",
       "    </tr>\n",
       "    <tr>\n",
       "      <td>4114240</td>\n",
       "      <td>12214800</td>\n",
       "      <td>4</td>\n",
       "    </tr>\n",
       "    <tr>\n",
       "      <td>2002144</td>\n",
       "      <td>12001490</td>\n",
       "      <td>4</td>\n",
       "    </tr>\n",
       "    <tr>\n",
       "      <td>3405835</td>\n",
       "      <td>11782260</td>\n",
       "      <td>4</td>\n",
       "    </tr>\n",
       "    <tr>\n",
       "      <td>2697268</td>\n",
       "      <td>11782260</td>\n",
       "      <td>4</td>\n",
       "    </tr>\n",
       "    <tr>\n",
       "      <td>1988989</td>\n",
       "      <td>11782260</td>\n",
       "      <td>4</td>\n",
       "    </tr>\n",
       "    <tr>\n",
       "      <td>1280405</td>\n",
       "      <td>11551260</td>\n",
       "      <td>4</td>\n",
       "    </tr>\n",
       "  </tbody>\n",
       "</table>\n",
       "</div>"
      ],
      "text/plain": [
       "         FN_AVT_A  BORO\n",
       "569048   27468900     4\n",
       "5598140  25815300     4\n",
       "4889612  25558848     4\n",
       "4111139  25558848     4\n",
       "3402721  25367496     4\n",
       "2694155  23931600     4\n",
       "1985872  22576982     4\n",
       "1277286  21299040     4\n",
       "1293500  17963591     4\n",
       "585164   17789265     4\n",
       "5614505  17016540     4\n",
       "4906008  16532820     4\n",
       "4127555  15263820     4\n",
       "572162   15016680     4\n",
       "569049   12867000     4\n",
       "4892665  12767520     4\n",
       "3419121  12737280     4\n",
       "2710508  12737269     4\n",
       "583250   12732660     4\n",
       "4114240  12214800     4\n",
       "2002144  12001490     4\n",
       "3405835  11782260     4\n",
       "2697268  11782260     4\n",
       "1988989  11782260     4\n",
       "1280405  11551260     4"
      ]
     },
     "execution_count": 89,
     "metadata": {},
     "output_type": "execute_result"
    }
   ],
   "source": [
    "propval[['FN_AVT_A', 'BORO']][:25]"
   ]
  },
  {
   "cell_type": "code",
   "execution_count": null,
   "metadata": {},
   "outputs": [],
   "source": []
  }
 ],
 "metadata": {
  "kernelspec": {
   "display_name": "Python 3",
   "language": "python",
   "name": "python3"
  },
  "language_info": {
   "codemirror_mode": {
    "name": "ipython",
    "version": 3
   },
   "file_extension": ".py",
   "mimetype": "text/x-python",
   "name": "python",
   "nbconvert_exporter": "python",
   "pygments_lexer": "ipython3",
   "version": "3.7.4"
  }
 },
 "nbformat": 4,
 "nbformat_minor": 2
}
