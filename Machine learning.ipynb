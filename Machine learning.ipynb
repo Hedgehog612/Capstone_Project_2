{
 "cells": [
  {
   "cell_type": "code",
   "execution_count": 1,
   "metadata": {},
   "outputs": [],
   "source": [
    "import pandas as pd\n",
    "import numpy as np\n",
    "from sklearn.ensemble import RandomForestClassifier, RandomForestRegressor, ExtraTreesClassifier\n",
    "from sklearn import model_selection, svm, datasets\n",
    "from sklearn.model_selection import cross_val_score, train_test_split\n",
    "from sklearn.metrics import confusion_matrix, explained_variance_score, r2_score, accuracy_score\n",
    "from sklearn.datasets import make_classification\n",
    "from sklearn.linear_model import SGDRegressor\n",
    "from sklearn.preprocessing import StandardScaler\n",
    "import datetime as dt\n",
    "import importlib as il\n",
    "import matplotlib.pyplot as plt"
   ]
  },
  {
   "cell_type": "code",
   "execution_count": 2,
   "metadata": {},
   "outputs": [
    {
     "data": {
      "text/plain": [
       "['ExtraTreesClassifier',\n",
       " 'RandomForestClassifier',\n",
       " 'RandomForestRegressor',\n",
       " '__builtins__',\n",
       " '__cached__',\n",
       " '__doc__',\n",
       " '__file__',\n",
       " '__loader__',\n",
       " '__name__',\n",
       " '__package__',\n",
       " '__spec__',\n",
       " 'confusion_matrix',\n",
       " 'cross_val_score',\n",
       " 'datasets',\n",
       " 'dt',\n",
       " 'explained_variance_score',\n",
       " 'make_classification',\n",
       " 'model_selection',\n",
       " 'np',\n",
       " 'r2_score',\n",
       " 'rand_find_depth',\n",
       " 'randfor_class_report',\n",
       " 'randfor_class_talk',\n",
       " 'randfor_reg_report',\n",
       " 'randfor_reg_talk',\n",
       " 'sklearn',\n",
       " 'svm',\n",
       " 'test_multiple_samples',\n",
       " 'train_test_split',\n",
       " 'tree_vis']"
      ]
     },
     "execution_count": 2,
     "metadata": {},
     "output_type": "execute_result"
    }
   ],
   "source": [
    "#My own functions to make random forest modeling easier.\n",
    "import randfor_functions as rf\n",
    "dir(rf)\n",
    "#find optimal depth for a random forest classifier\n",
    "#run random forest classifier and get info\n",
    "#run random forest classifier and print info\n",
    "#run random forest regressor and get info\n",
    "#run random forest regressor and print info\n",
    "#visualize classifier"
   ]
  },
  {
   "cell_type": "code",
   "execution_count": 3,
   "metadata": {},
   "outputs": [
    {
     "data": {
      "text/plain": [
       "<module 'randfor_functions' from 'C:\\\\Users\\\\marcu\\\\Dropbox\\\\Capstone_2\\\\randfor_functions.py'>"
      ]
     },
     "execution_count": 3,
     "metadata": {},
     "output_type": "execute_result"
    }
   ],
   "source": [
    "#Run this to reload the rf module after I make changes\n",
    "il.reload(rf)"
   ]
  },
  {
   "cell_type": "code",
   "execution_count": 4,
   "metadata": {
    "scrolled": true
   },
   "outputs": [
    {
     "name": "stderr",
     "output_type": "stream",
     "text": [
      "C:\\Users\\marcu\\Anaconda3\\lib\\site-packages\\IPython\\core\\interactiveshell.py:3058: DtypeWarning: Columns (13,22,24,50,51) have mixed types. Specify dtype option on import or set low_memory=False.\n",
      "  interactivity=interactivity, compiler=compiler, result=result)\n"
     ]
    },
    {
     "name": "stdout",
     "output_type": "stream",
     "text": [
      "elapsed time: 0:00:36.603201\n"
     ]
    }
   ],
   "source": [
    "starttime = dt.datetime.now()\n",
    "propval = pd.read_csv('clean_propval_final.csv')\n",
    "print('elapsed time:', dt.datetime.now()-starttime)"
   ]
  },
  {
   "cell_type": "code",
   "execution_count": null,
   "metadata": {
    "scrolled": true
   },
   "outputs": [],
   "source": [
    "propval.head()"
   ]
  },
  {
   "cell_type": "code",
   "execution_count": null,
   "metadata": {},
   "outputs": [],
   "source": [
    "#Start with runnning what we can"
   ]
  },
  {
   "cell_type": "code",
   "execution_count": null,
   "metadata": {
    "scrolled": false
   },
   "outputs": [],
   "source": [
    "#TODO:Check these\n",
    "#ind_vars = propval[['BORO', 'BLOCK', 'LOT', 'SECVOL', 'YRB', 'LND_AREA', 'STORY',\n",
    "#                   'ZIP', 'YRA1', 'PROTEST0',\n",
    "#                   'PROTEST1', 'PROTEST5', 'PROTEST6', 'PROTEST8', 'PROTEST9',\n",
    "#                   'PROTEST1L', 'PROTEST6L', 'PROTEST6NL', 'PROTEST6E',\n",
    "#                   'PROTEST8L', 'TN_AVT_A']]\n",
    "#ind_vars = propval[['BORO', 'BLOCK', 'LOT', 'SECVOL', 'YRB', 'LND_AREA',\n",
    "#                   'ZIP', 'YRA1', 'PROTEST0', 'TN_AVT_A']]\n",
    "#dep_vars = propval['FN_AVT_A']"
   ]
  },
  {
   "cell_type": "code",
   "execution_count": null,
   "metadata": {},
   "outputs": [],
   "source": [
    "#Due to space issues, we're going to test one borough at a time"
   ]
  },
  {
   "cell_type": "code",
   "execution_count": null,
   "metadata": {},
   "outputs": [],
   "source": [
    "man_propval = propval[propval.BORO == 1]\n",
    "bron_propval = propval[propval.BORO == 2]\n",
    "broo_propval = propval[propval.BORO == 3]\n",
    "que_propval = propval[propval.BORO == 4]\n",
    "sta_propval = propval[propval.BORO == 5]"
   ]
  },
  {
   "cell_type": "code",
   "execution_count": null,
   "metadata": {},
   "outputs": [],
   "source": [
    "boro_propval = [man_propval, bron_propval, broo_propval, que_propval, sta_propval]\n",
    "boro_names = ['Manhattan', 'Bronx', 'Brooklyn', 'Queens', 'Staten Island']"
   ]
  },
  {
   "cell_type": "code",
   "execution_count": null,
   "metadata": {},
   "outputs": [],
   "source": [
    "for x in boro_propval:\n",
    "    print(len(x))"
   ]
  },
  {
   "cell_type": "code",
   "execution_count": null,
   "metadata": {
    "scrolled": false
   },
   "outputs": [],
   "source": [
    "for boro in boro_propval:\n",
    "    boro_mean = np.mean(boro.FN_AVT_A)\n",
    "    boro.EXPENSIVE = boro.FN_AVT_A >= boro_mean"
   ]
  },
  {
   "cell_type": "code",
   "execution_count": null,
   "metadata": {},
   "outputs": [],
   "source": [
    "propval_mean = np.mean(propval.FN_AVT_A)\n",
    "propval['EXPENSIVE'] = propval['FN_AVT_A'] >= propval_mean"
   ]
  },
  {
   "cell_type": "code",
   "execution_count": null,
   "metadata": {
    "scrolled": true
   },
   "outputs": [],
   "source": [
    "#Overall the expensive metric looks to be a good classifier. Least even with manhattan data,\n",
    "#but still over 1/3 of the data.\n",
    "for boro in boro_propval:\n",
    "    print(boro.EXPENSIVE.value_counts())"
   ]
  },
  {
   "cell_type": "code",
   "execution_count": null,
   "metadata": {},
   "outputs": [],
   "source": []
  },
  {
   "cell_type": "code",
   "execution_count": null,
   "metadata": {},
   "outputs": [],
   "source": [
    "ind_names = ['BLOCK', 'LOT', 'SECVOL', 'YRB', 'LND_AREA', 'YRA1', 'PROTEST0']\n",
    "def get_class_vars(data, ind_names):\n",
    "    ind_vars = data[ind_names]\n",
    "    dep_vars = data.EXPENSIVE\n",
    "    return ind_vars, dep_vars\n",
    "\n",
    "def get_reg_vars(data, ind_names):\n",
    "    ind_cla_vars = data[ind_names]\n",
    "    dep_cla_vars = data.FN_AVT_A\n",
    "    return ind_vars, dep_vars"
   ]
  },
  {
   "cell_type": "code",
   "execution_count": null,
   "metadata": {},
   "outputs": [],
   "source": [
    "ind_vars, dep_vars = get_class_vars(man_propval)"
   ]
  },
  {
   "cell_type": "code",
   "execution_count": null,
   "metadata": {
    "scrolled": false
   },
   "outputs": [],
   "source": [
    "rf.randfor_class_talk(ind_vars, dep_vars, 1000, 20, None, 100)"
   ]
  },
  {
   "cell_type": "code",
   "execution_count": null,
   "metadata": {
    "scrolled": false
   },
   "outputs": [],
   "source": [
    "ind_vars, dep_vars = get_reg_vars(man_propval)"
   ]
  },
  {
   "cell_type": "code",
   "execution_count": null,
   "metadata": {
    "scrolled": true
   },
   "outputs": [],
   "source": [
    "rf.randfor_reg_talk(ind_vars, man_propval.FN_AVT_A, 1000, 20, None, 100)"
   ]
  },
  {
   "cell_type": "code",
   "execution_count": null,
   "metadata": {},
   "outputs": [],
   "source": [
    "#According to these results, BLOCK and SECVOL are pretty important. I haven't been able to determine\n",
    "#what SECVOL is, but I suspect it's geographical, so I'm excluding it from the data\n",
    "#in favor of BLOCK. LND_AREA is pretty valuable, but year built is actually less important\n",
    "#than year of alteration. Also, I see that protest and lot have almost no value. The YRB thing may\n",
    "#be because I picked a bad fill for the YRB zeroes, but when they take only 5% of the dataset,\n",
    "#it shouldn't be a big issue."
   ]
  },
  {
   "cell_type": "code",
   "execution_count": null,
   "metadata": {},
   "outputs": [],
   "source": [
    "#Valuable features:\n",
    "#BLOCK, LND_AREA\n",
    "#YRA1"
   ]
  },
  {
   "cell_type": "code",
   "execution_count": null,
   "metadata": {},
   "outputs": [],
   "source": [
    "#Irrelevant features:\n",
    "#SECVOL, ZIP, YEAR4, STORY, PROTEST0, YRB, L_ACRE"
   ]
  },
  {
   "cell_type": "code",
   "execution_count": null,
   "metadata": {},
   "outputs": [],
   "source": [
    "ind_names = ['BLOCK', 'LND_AREA', 'YRA1']\n",
    "ind_vars, dep_vars = get_class_vars(man_propval)\n",
    "rf.randfor_class_talk(ind_vars, dep_vars, 1000, 20, None, 100)"
   ]
  },
  {
   "cell_type": "code",
   "execution_count": null,
   "metadata": {},
   "outputs": [],
   "source": [
    "rf.randfor_reg_talk(ind_vars, man_propval.FN_AVT_A, 1000, 20, None, 100)"
   ]
  },
  {
   "cell_type": "code",
   "execution_count": null,
   "metadata": {},
   "outputs": [],
   "source": []
  },
  {
   "cell_type": "code",
   "execution_count": null,
   "metadata": {},
   "outputs": [],
   "source": [
    "#Secvol is complely useless here, which is interesting. I'm thinking it's probably not worth\n",
    "#including going forward."
   ]
  },
  {
   "cell_type": "code",
   "execution_count": null,
   "metadata": {},
   "outputs": [],
   "source": [
    "#Next: Check what happens when I add in tentative valuation."
   ]
  },
  {
   "cell_type": "code",
   "execution_count": null,
   "metadata": {},
   "outputs": [],
   "source": [
    "ind_names = ['BORO', 'BLOCK', 'LOT', 'TN_AVT_A']\n",
    "ind_vars, dep_vars = get_class_vars(man_propval)\n",
    "rf.randfor_class_talk(ind_vars, dep_vars, 1000, 20, None, 100)"
   ]
  },
  {
   "cell_type": "code",
   "execution_count": null,
   "metadata": {
    "scrolled": true
   },
   "outputs": [],
   "source": [
    "rf.randfor_reg_talk(ind_vars, man_propval.FN_AVT_A, 1000, 20, None, 100)"
   ]
  },
  {
   "cell_type": "code",
   "execution_count": null,
   "metadata": {},
   "outputs": [],
   "source": [
    "#After reviewing 1976 US code supplement 1, page 584, section 10785, it looks like the\n",
    "#tentative valuation becomes final unless contested by a protest within 30 days, so in most cases\n",
    "#this is just the exact final value. Not much point there, but I will note that this seems to\n",
    "#break the feature weighting. Not sure what's going on there."
   ]
  },
  {
   "cell_type": "code",
   "execution_count": null,
   "metadata": {},
   "outputs": [],
   "source": [
    "#So far, location seems to be far and away the most important factor. We'll see if this holds\n",
    "#for the other boroughs."
   ]
  },
  {
   "cell_type": "code",
   "execution_count": null,
   "metadata": {},
   "outputs": [],
   "source": [
    "#Going to run a full check to verify that these remain roughly as important across all five boroughs.\n",
    "#Crude forest, but it'll tell me the essentials.\n",
    "ind_names = ['BLOCK', 'LND_AREA', 'YRA1']\n",
    "for boro in range(len(boro_propval)):\n",
    "    print(boro_names[boro])\n",
    "    print('------------------------')\n",
    "    ind_vars, dep_vars = get_class_vars(boro_propval[boro])\n",
    "    rf.randfor_class_talk(ind_vars, dep_vars, 75, 10, None, 500)\n",
    "    print('------------------------')"
   ]
  },
  {
   "cell_type": "code",
   "execution_count": null,
   "metadata": {},
   "outputs": [],
   "source": [
    "#Simplest possible approach: \n",
    "#Assume data is similar"
   ]
  },
  {
   "cell_type": "code",
   "execution_count": null,
   "metadata": {},
   "outputs": [],
   "source": [
    "#Todo: Check corellation coefficient for geographical data\n",
    "#Value leakage: protest based on final valuation?\n",
    "#Convert datetimes to strings, on the fly convert to datetime for running operations"
   ]
  },
  {
   "cell_type": "code",
   "execution_count": null,
   "metadata": {},
   "outputs": [],
   "source": [
    "#Block and land area continue to be relevant, but how much varies. Bronx, in particular,\n",
    "#seems like it needs a better model. Total elapsed time to run this model for five separate \n",
    "#boroughs: ~15 minutes. I'm going to try again with the full propval and see how long this takes."
   ]
  },
  {
   "cell_type": "code",
   "execution_count": null,
   "metadata": {},
   "outputs": [],
   "source": [
    "ind_vars, dep_vars = get_class_vars(propval)\n",
    "rf.randfor_class_talk(ind_vars, dep_vars, 1000, 20, None, 100)"
   ]
  },
  {
   "cell_type": "code",
   "execution_count": null,
   "metadata": {},
   "outputs": [],
   "source": []
  },
  {
   "cell_type": "code",
   "execution_count": null,
   "metadata": {},
   "outputs": [],
   "source": [
    "propval_samples = []\n",
    "for x in range(10):\n",
    "    propval_samples.append(propval.sample(frac = .01, replace = False))"
   ]
  },
  {
   "cell_type": "code",
   "execution_count": null,
   "metadata": {},
   "outputs": [],
   "source": [
    "ind_names = ['BORO', 'BLOCK', 'LND_AREA', 'YRB']"
   ]
  },
  {
   "cell_type": "code",
   "execution_count": null,
   "metadata": {},
   "outputs": [],
   "source": [
    "test = {1:'one', 2:'two', 3:'three'}"
   ]
  },
  {
   "cell_type": "code",
   "execution_count": null,
   "metadata": {},
   "outputs": [],
   "source": [
    "for n in test:\n",
    "    print(n)\n",
    "    print(test[n])"
   ]
  },
  {
   "cell_type": "code",
   "execution_count": null,
   "metadata": {},
   "outputs": [],
   "source": []
  },
  {
   "cell_type": "code",
   "execution_count": null,
   "metadata": {},
   "outputs": [],
   "source": [
    "train_scores = []\n",
    "test_scores = []\n",
    "f1_scores = []\n",
    "feature_weights = {}\n",
    "starttime = dt.datetime.now()\n",
    "for x in range(len(propval_samples)):\n",
    "    ind_vars, dep_vars = get_class_vars(propval_samples[x])\n",
    "    train_score, test_score, f1_score, cm, precision_score, recall_score, importances, indices =\\\n",
    "    rf.randfor_class_report(ind_vars, dep_vars, 1000, 20, None, 100)\n",
    "    train_scores.append(train_score)\n",
    "    test_scores.append(test_score)\n",
    "    f1_scores.append(f1_score)\n",
    "    for f in range(len(indices)):\n",
    "        if indices[f] not in feature_weights:\n",
    "            feature_weights[indices[f]] = [importances[indices[f]]]\n",
    "        else:\n",
    "            feature_weights[indices[f]].append(importances[indices[f]])\n",
    "    print('test complete')\n",
    "print('train scores mean, std: ', np.mean(train_scores), ', ', np.std(train_scores))\n",
    "print('test scores mean, std: ', np.mean(test_scores), ', ', np.std(test_scores))\n",
    "print('f1 scores mean, std: ', np.mean(f1_scores), ', ', np.std(f1_scores))\n",
    "print('feature weights mean, std:')\n",
    "for f in feature_weights:\n",
    "    print(ind_vars.columns[indices[f]], ': ', np.mean(feature_weights[f]), ', ',np.std(feature_weights[f]))\n",
    "print('elapsed time: ', dt.datetime.now()-starttime)"
   ]
  },
  {
   "cell_type": "code",
   "execution_count": null,
   "metadata": {},
   "outputs": [],
   "source": [
    "ind_names = ['ZIP', 'LND_AREA', 'YRB']"
   ]
  },
  {
   "cell_type": "code",
   "execution_count": null,
   "metadata": {
    "scrolled": true
   },
   "outputs": [],
   "source": [
    "test_multiple_samples(propval_samples, ind_names, 1000, 20, None, 100)"
   ]
  },
  {
   "cell_type": "code",
   "execution_count": null,
   "metadata": {},
   "outputs": [],
   "source": [
    "#Looks like a random sample will give us pretty good data with minimal variation. Impressive."
   ]
  },
  {
   "cell_type": "code",
   "execution_count": null,
   "metadata": {},
   "outputs": [],
   "source": [
    "#OK: We want to avoid data corellation. BLOCK and BORO overlap because manhattan never goes above\n",
    "#2255 but bronx has almost 6K, brooklyn and staten 8K, Queens 16. ZIP avoids that, but is less\n",
    "#precise.\n",
    "#BLOCK is the most precise but also overlapps. \n",
    "#Splitting the data up by borough and modeling each one independently creates its own, worse problems.\n"
   ]
  },
  {
   "cell_type": "code",
   "execution_count": null,
   "metadata": {},
   "outputs": [],
   "source": [
    "#Trying to keep these tests free of corellation. ZIP has the geographical component.\n",
    "#LND_AREA has the land-area component. YRB has the year constructed. YEAR4 has the year evaluated,\n",
    "#which is a little more dubious to include but still valuable data."
   ]
  },
  {
   "cell_type": "code",
   "execution_count": null,
   "metadata": {},
   "outputs": [],
   "source": [
    "ind_names = ['ZIP', 'LND_AREA', 'YRB', 'YEAR4']\n",
    "propval_samples = []\n",
    "for x in range(10):\n",
    "    propval_samples.append(propval.sample(frac = .01, replace = False))\n",
    "test_multiple_samples(propval_samples, ind_names, 1000, 20, None, 100)"
   ]
  },
  {
   "cell_type": "code",
   "execution_count": null,
   "metadata": {},
   "outputs": [],
   "source": [
    "#Minimal improvement, but adding year does appear to be beneficial."
   ]
  },
  {
   "cell_type": "code",
   "execution_count": null,
   "metadata": {},
   "outputs": [],
   "source": []
  },
  {
   "cell_type": "code",
   "execution_count": null,
   "metadata": {},
   "outputs": [],
   "source": [
    "ind_names = ['ZIP', 'LND_AREA', 'YRB', 'YEAR4', 'TOT_UNIT']\n",
    "propval_samples = propval.sample(frac = .01, replace = False)\n",
    "test_multiple_samples(propval_samples, ind_names, 1000, 20, None, 100)"
   ]
  },
  {
   "cell_type": "code",
   "execution_count": null,
   "metadata": {},
   "outputs": [],
   "source": [
    "#TOT_UNIT may have some geopgraphical connotations. The interesting thing is that YEAR4 jumped\n",
    "#in value when we added this."
   ]
  },
  {
   "cell_type": "code",
   "execution_count": null,
   "metadata": {},
   "outputs": [],
   "source": []
  },
  {
   "cell_type": "code",
   "execution_count": null,
   "metadata": {},
   "outputs": [],
   "source": [
    "ind_names = ['ZIP', 'LND_AREA', 'YRB', 'YEAR4', 'RES_UNIT']\n",
    "propval_samples = []\n",
    "for x in range(10):\n",
    "    propval_samples.append(propval.sample(frac = .01, replace = False))\n",
    "test_multiple_samples(propval_samples, ind_names, 1000, 20, None, 100)"
   ]
  },
  {
   "cell_type": "code",
   "execution_count": null,
   "metadata": {},
   "outputs": [],
   "source": [
    "#RES_UNIT and TOT_UNIT almost completely identical."
   ]
  },
  {
   "cell_type": "code",
   "execution_count": null,
   "metadata": {},
   "outputs": [],
   "source": []
  },
  {
   "cell_type": "code",
   "execution_count": null,
   "metadata": {},
   "outputs": [],
   "source": [
    "ind_names = ['ZIP', 'L_ACRE', 'YRB', 'YEAR4', 'TOT_UNIT']\n",
    "propval_samples = []\n",
    "for x in range(10):\n",
    "    propval_samples.append(propval.sample(frac = .01, replace = False))\n",
    "test_multiple_samples(propval_samples, ind_names, 1000, 20, None, 100)"
   ]
  },
  {
   "cell_type": "code",
   "execution_count": null,
   "metadata": {},
   "outputs": [],
   "source": [
    "#L_ACRE underperforms against LND_AREA"
   ]
  },
  {
   "cell_type": "code",
   "execution_count": null,
   "metadata": {},
   "outputs": [],
   "source": []
  },
  {
   "cell_type": "code",
   "execution_count": null,
   "metadata": {},
   "outputs": [],
   "source": [
    "ind_names = ['ZIP', 'LND_AREA', 'YRB', 'YEAR4']\n",
    "propval_samples = propval.sample(frac = .01, replace = False)\n",
    "ind_vars, dep_vars = get_class_vars(propval_samples, ind_names)\n",
    "rf.randfor_class_talk(ind_vars, dep_vars, 1000, 20, None, 100)"
   ]
  },
  {
   "cell_type": "code",
   "execution_count": null,
   "metadata": {},
   "outputs": [],
   "source": [
    "ind_names = ['ZIP', 'TOT_UNIT', 'YRB', 'YEAR4']\n",
    "propval_samples = propval.sample(frac = .01, replace = False)\n",
    "ind_vars, dep_vars = get_class_vars(propval_samples, ind_names)\n",
    "rf.randfor_class_talk(ind_vars, dep_vars, 1000, 20, None, 100)"
   ]
  },
  {
   "cell_type": "code",
   "execution_count": null,
   "metadata": {
    "scrolled": true
   },
   "outputs": [],
   "source": [
    "ind_names = ['ZIP', 'TOT_UNIT', 'YRB', 'YEAR4', 'LND_AREA']\n",
    "propval_samples = propval.sample(frac = .01, replace = False)\n",
    "ind_vars, dep_vars = get_class_vars(propval_samples, ind_names)\n",
    "rf.randfor_class_talk(ind_vars, dep_vars, 1000, 20, None, 100)"
   ]
  },
  {
   "cell_type": "code",
   "execution_count": null,
   "metadata": {},
   "outputs": [],
   "source": [
    "propval.columns[50:75]"
   ]
  },
  {
   "cell_type": "code",
   "execution_count": null,
   "metadata": {},
   "outputs": [],
   "source": [
    "propval.EX_COUNT.value_counts()"
   ]
  },
  {
   "cell_type": "code",
   "execution_count": null,
   "metadata": {},
   "outputs": [],
   "source": [
    "ind_names = ['ZIP', 'TOT_UNIT', 'YRB_NEW', 'YEAR4', 'LND_AREA', 'EX_COUNT']\n",
    "propval_samples = propval.sample(frac = .01, replace = False)\n",
    "ind_vars, dep_vars = get_class_vars(propval_samples, ind_names)\n",
    "rf.randfor_class_talk(ind_vars, dep_vars, 1000, 20, None, 100)"
   ]
  },
  {
   "cell_type": "code",
   "execution_count": null,
   "metadata": {},
   "outputs": [],
   "source": [
    "ind_names = ['ZIP', 'TOT_UNIT', 'YRB_NEW', 'YEAR4', 'LND_AREA']\n",
    "propval_samples = propval.sample(frac = .01, replace = False)\n",
    "ind_vars, dep_vars = get_reg_vars(propval_samples, ind_names)\n",
    "rf.randfor_reg_talk(ind_vars, dep_vars, 1000, 10, None, 100)"
   ]
  },
  {
   "cell_type": "code",
   "execution_count": null,
   "metadata": {},
   "outputs": [],
   "source": [
    "ind_names = ['ZIP', 'TOT_UNIT', 'YRB_NEW', 'YEAR4', 'LND_AREA', 'STORY']\n",
    "propval_samples = propval.sample(frac = .01, replace = False)\n",
    "ind_vars, dep_vars = get_reg_vars(propval_samples, ind_names)\n",
    "rf.randfor_reg_talk(ind_vars, dep_vars, 1000, 10, None, 100)"
   ]
  },
  {
   "cell_type": "code",
   "execution_count": null,
   "metadata": {
    "scrolled": true
   },
   "outputs": [],
   "source": [
    "propval.columns"
   ]
  },
  {
   "cell_type": "code",
   "execution_count": null,
   "metadata": {},
   "outputs": [],
   "source": [
    "propval_actual = propval.columns[2:]"
   ]
  },
  {
   "cell_type": "code",
   "execution_count": null,
   "metadata": {},
   "outputs": [],
   "source": [
    "propval = propval[propval_actual]"
   ]
  },
  {
   "cell_type": "code",
   "execution_count": null,
   "metadata": {},
   "outputs": [],
   "source": []
  },
  {
   "cell_type": "code",
   "execution_count": null,
   "metadata": {},
   "outputs": [],
   "source": [
    "propval_indep_reg = ['BORO', 'BLOCK', 'LOT', 'SECVOL',\n",
    "       'DISTRICT', 'YEAR4',\n",
    "       'ZIP', 'TOT_UNIT', 'RES_UNIT', 'LFRT_DEC',\n",
    "       'LDEP_DEC', 'BFRT_DEC', 'BDEP_DEC', 'STORY', 'LND_AREA', 'GR_SQFT',\n",
    "       'ZONING', 'YRB_FLAG', 'CP_BORO', 'CP_DIST', 'STATUS1', 'EX_INDS',\n",
    "       'EX_COUNT', 'CBN_TXCL1', 'CBN_TXCL0',\n",
    "       'CBN_TXCL1B', 'CBN_TXCL1A', 'BLDGCLA', 'BLDGCLB', 'BLDGCLC', 'BLDGCLR',\n",
    "       'BLDGCLV', 'BLDGCLS', 'EXTG', 'EXTEG', 'EXTE', 'YRB_NEW', 'YRB_OLD',\n",
    "       'EXPENSIVE']\n",
    "propval_indep_class = ['BORO', 'BLOCK', 'LOT', 'SECVOL',\n",
    "       'DISTRICT', 'YEAR4',\n",
    "       'ZIP', 'TOT_UNIT', 'RES_UNIT', 'LFRT_DEC',\n",
    "       'LDEP_DEC', 'BFRT_DEC', 'BDEP_DEC', 'STORY', 'LND_AREA', 'GR_SQFT',\n",
    "       'ZONING', 'YRB_FLAG', 'CP_BORO', 'CP_DIST', 'STATUS1', 'EX_INDS',\n",
    "       'EX_COUNT', 'CBN_TXCL1', 'CBN_TXCL0',\n",
    "       'CBN_TXCL1B', 'CBN_TXCL1A', 'BLDGCLA', 'BLDGCLB', 'BLDGCLC', 'BLDGCLR',\n",
    "       'BLDGCLV', 'BLDGCLS', 'EXTG', 'EXTEG', 'EXTE', 'YRB_NEW', 'YRB_OLD']"
   ]
  },
  {
   "cell_type": "code",
   "execution_count": null,
   "metadata": {},
   "outputs": [],
   "source": [
    "#Testing all variables to see which correlated ones we keep"
   ]
  },
  {
   "cell_type": "code",
   "execution_count": null,
   "metadata": {
    "scrolled": true
   },
   "outputs": [],
   "source": [
    "propval_samples = propval.sample(frac = .01, replace = False)\n",
    "ind_vars, dep_vars = get_class_vars(propval_samples, propval_indep_class)\n",
    "rf.randfor_class_talk(ind_vars, dep_vars, 1000, 10, None, 100)"
   ]
  },
  {
   "cell_type": "code",
   "execution_count": null,
   "metadata": {},
   "outputs": [],
   "source": [
    "propval_samples = propval.sample(frac = .01, replace = False)\n",
    "ind_vars, dep_vars = get_reg_vars(propval_samples, propval_indep_class)\n",
    "rf.randfor_reg_talk(ind_vars, dep_vars, 1000, 10, None, 100)"
   ]
  },
  {
   "cell_type": "code",
   "execution_count": null,
   "metadata": {},
   "outputs": [],
   "source": []
  },
  {
   "cell_type": "code",
   "execution_count": null,
   "metadata": {},
   "outputs": [],
   "source": [
    "propval_indep_reg = ['LOT', 'YEAR4', 'ZIP', 'TOT_UNIT', 'RES_UNIT', 'LFRT_DEC',\n",
    "       'LDEP_DEC', 'BFRT_DEC', 'BDEP_DEC', 'STORY', 'LND_AREA', 'GR_SQFT',\n",
    "       'ZONING', 'YRB_FLAG', 'CP_BORO', 'CP_DIST', 'STATUS1', 'EX_INDS',\n",
    "       'EX_COUNT', 'CBN_TXCL1', 'BLDGCLS', 'EXTG', 'YRB_NEW', 'YRB_OLD',\n",
    "       'EXPENSIVE']\n",
    "propval_indep_class = ['LOT', 'YEAR4', 'ZIP', 'TOT_UNIT', 'RES_UNIT', 'LFRT_DEC',\n",
    "       'LDEP_DEC', 'BFRT_DEC', 'BDEP_DEC', 'STORY', 'LND_AREA', 'GR_SQFT',\n",
    "       'ZONING', 'YRB_FLAG', 'CP_BORO', 'CP_DIST', 'STATUS1', 'EX_INDS',\n",
    "       'EX_COUNT', 'CBN_TXCL1', 'BLDGCLS', 'EXTG', 'YRB_NEW', 'YRB_OLD']"
   ]
  },
  {
   "cell_type": "code",
   "execution_count": null,
   "metadata": {},
   "outputs": [],
   "source": [
    "propval_samples = propval.sample(frac = .01, replace = False)\n",
    "ind_vars, dep_vars = get_class_vars(propval_samples, propval_indep_class)\n",
    "rf.randfor_class_talk(ind_vars, dep_vars, 1000, 10, None, 100)"
   ]
  },
  {
   "cell_type": "code",
   "execution_count": null,
   "metadata": {},
   "outputs": [],
   "source": [
    "propval_samples = propval.sample(frac = .01, replace = False)\n",
    "ind_vars, dep_vars = get_reg_vars(propval_samples, propval_indep_reg)\n",
    "rf.randfor_reg_talk(ind_vars, dep_vars, 1000, 10, None, 100)"
   ]
  },
  {
   "cell_type": "code",
   "execution_count": null,
   "metadata": {},
   "outputs": [],
   "source": []
  },
  {
   "cell_type": "code",
   "execution_count": null,
   "metadata": {},
   "outputs": [],
   "source": [
    "#Cut everything scoring <1% importance and stick to only the new YRB data."
   ]
  },
  {
   "cell_type": "code",
   "execution_count": null,
   "metadata": {},
   "outputs": [],
   "source": [
    "propval_indep_reg = ['YEAR4', 'ZIP', 'LFRT_DEC',\n",
    "       'BFRT_DEC', 'BDEP_DEC', 'LND_AREA', 'GR_SQFT',\n",
    "       'ZONING', 'CP_BORO', 'CP_DIST', 'YRB_NEW',\n",
    "       'EXPENSIVE']\n",
    "propval_indep_class = ['YEAR4', 'ZIP', 'LFRT_DEC',\n",
    "       'BFRT_DEC', 'BDEP_DEC', 'LND_AREA', 'GR_SQFT',\n",
    "       'ZONING', 'CP_BORO', 'CP_DIST', 'YRB_NEW']"
   ]
  },
  {
   "cell_type": "code",
   "execution_count": null,
   "metadata": {},
   "outputs": [],
   "source": [
    "propval_samples = propval.sample(frac = .01, replace = False)\n",
    "ind_vars, dep_vars = get_class_vars(propval_samples, propval_indep_class)\n",
    "rf.randfor_class_talk(ind_vars, dep_vars, 1000, 10, None, 100)"
   ]
  },
  {
   "cell_type": "code",
   "execution_count": null,
   "metadata": {},
   "outputs": [],
   "source": [
    "propval_samples = propval.sample(frac = .01, replace = False)\n",
    "ind_vars, dep_vars = get_reg_vars(propval_samples, propval_indep_reg)\n",
    "rf.randfor_reg_talk(ind_vars, dep_vars, 1000, 10, None, 100)"
   ]
  },
  {
   "cell_type": "code",
   "execution_count": null,
   "metadata": {},
   "outputs": [],
   "source": []
  },
  {
   "cell_type": "code",
   "execution_count": null,
   "metadata": {},
   "outputs": [],
   "source": [
    "#once more, with the old YRB data"
   ]
  },
  {
   "cell_type": "code",
   "execution_count": null,
   "metadata": {},
   "outputs": [],
   "source": [
    "propval_indep_reg = ['YEAR4', 'ZIP', 'LFRT_DEC',\n",
    "       'BFRT_DEC', 'BDEP_DEC', 'LND_AREA', 'GR_SQFT',\n",
    "       'ZONING', 'CP_BORO', 'CP_DIST', 'YRB_OLD',\n",
    "       'EXPENSIVE']\n",
    "propval_indep_class = ['YEAR4', 'ZIP', 'LFRT_DEC',\n",
    "       'BFRT_DEC', 'BDEP_DEC', 'LND_AREA', 'GR_SQFT',\n",
    "       'ZONING', 'CP_BORO', 'CP_DIST', 'YRB_OLD']"
   ]
  },
  {
   "cell_type": "code",
   "execution_count": null,
   "metadata": {},
   "outputs": [],
   "source": [
    "propval_samples = propval.sample(frac = .01, replace = False)\n",
    "ind_vars, dep_vars = get_class_vars(propval_samples, propval_indep_class)\n",
    "rf.randfor_class_talk(ind_vars, dep_vars, 1000, 10, None, 100)"
   ]
  },
  {
   "cell_type": "code",
   "execution_count": null,
   "metadata": {},
   "outputs": [],
   "source": [
    "propval_samples = propval.sample(frac = .01, replace = False)\n",
    "ind_vars, dep_vars = get_reg_vars(propval_samples, propval_indep_reg)\n",
    "rf.randfor_reg_talk(ind_vars, dep_vars, 1000, 10, None, 100)"
   ]
  },
  {
   "cell_type": "code",
   "execution_count": null,
   "metadata": {},
   "outputs": [],
   "source": []
  },
  {
   "cell_type": "code",
   "execution_count": null,
   "metadata": {},
   "outputs": [],
   "source": [
    "#Next: examine running the model with %difference from borough mean as the predictor"
   ]
  },
  {
   "cell_type": "code",
   "execution_count": null,
   "metadata": {},
   "outputs": [],
   "source": [
    "mean_valuation = propval.groupby('BORO').mean()"
   ]
  },
  {
   "cell_type": "code",
   "execution_count": null,
   "metadata": {},
   "outputs": [],
   "source": [
    "mean_valuation = mean_valuation.FN_AVT_A.values"
   ]
  },
  {
   "cell_type": "code",
   "execution_count": null,
   "metadata": {},
   "outputs": [],
   "source": [
    "#Zero-padding for future indexing\n",
    "mv = [0]\n",
    "for x in mean_valuation:\n",
    "    mv.append(x)"
   ]
  },
  {
   "cell_type": "code",
   "execution_count": null,
   "metadata": {},
   "outputs": [],
   "source": [
    "mv"
   ]
  },
  {
   "cell_type": "code",
   "execution_count": null,
   "metadata": {},
   "outputs": [],
   "source": []
  },
  {
   "cell_type": "code",
   "execution_count": null,
   "metadata": {},
   "outputs": [],
   "source": [
    "propval['FN_AVT_A_DIFF'] = propval['FN_AVT_A']"
   ]
  },
  {
   "cell_type": "code",
   "execution_count": null,
   "metadata": {},
   "outputs": [],
   "source": [
    "fn_avt_a_diff = []\n",
    "for index, row in propval.iterrows():\n",
    "    pct_diff = (row.FN_AVT_A/mv[row.BORO])*100\n",
    "    fn_avt_a_diff.append(pct_diff)"
   ]
  },
  {
   "cell_type": "code",
   "execution_count": null,
   "metadata": {},
   "outputs": [],
   "source": [
    "above_mean = []\n",
    "for valuation in fn_avt_a_diff:\n",
    "    is_above = valuation >= 100\n",
    "    above_mean.append(is_above)"
   ]
  },
  {
   "cell_type": "code",
   "execution_count": null,
   "metadata": {},
   "outputs": [],
   "source": [
    "propval['FN_AVT_A_DIFF'] = fn_avt_a_diff\n",
    "propval['ABOVE_MEAN'] = above_mean"
   ]
  },
  {
   "cell_type": "code",
   "execution_count": null,
   "metadata": {},
   "outputs": [],
   "source": []
  },
  {
   "cell_type": "code",
   "execution_count": 123,
   "metadata": {},
   "outputs": [],
   "source": [
    "propval_indep_reg = ['YEAR4', 'ZIP', 'LFRT_DEC',\n",
    "       'BFRT_DEC', 'BDEP_DEC', 'LND_AREA', 'GR_SQFT',\n",
    "       'ZONING', 'CP_BORO', 'CP_DIST', 'YRB_OLD']\n",
    "propval_indep_class = ['YEAR4', 'ZIP', 'LFRT_DEC',\n",
    "       'BFRT_DEC', 'BDEP_DEC', 'LND_AREA', 'GR_SQFT',\n",
    "       'ZONING', 'CP_BORO', 'CP_DIST', 'YRB_OLD']"
   ]
  },
  {
   "cell_type": "code",
   "execution_count": 39,
   "metadata": {},
   "outputs": [],
   "source": [
    "def get_class_vars(data, ind_names, dep):\n",
    "    ind_vars = data[ind_names]\n",
    "    dep_vars = data[dep]\n",
    "    return ind_vars, dep_vars\n",
    "\n",
    "def get_reg_vars(data, ind_names, dep):\n",
    "    ind_vars = data[ind_names]\n",
    "    dep_vars = data[dep]\n",
    "    return ind_vars, dep_vars"
   ]
  },
  {
   "cell_type": "code",
   "execution_count": 140,
   "metadata": {},
   "outputs": [],
   "source": [
    "propval_indep_class = ['YEAR4', 'ZIP', 'LFRT_DEC',\n",
    "       'BFRT_DEC', 'BDEP_DEC', 'LND_AREA', 'GR_SQFT',\n",
    "       'ZONING', 'CP_DIST', 'YRB_OLD']"
   ]
  },
  {
   "cell_type": "code",
   "execution_count": 127,
   "metadata": {
    "scrolled": true
   },
   "outputs": [
    {
     "name": "stdout",
     "output_type": "stream",
     "text": [
      "train score: 0.8660718434871509\n",
      "test score: 0.8537673381194675\n",
      "f1 score 0.8325083825642663\n",
      "confusion_matrix:\n",
      "[[7035 1056]\n",
      " [1042 5214]]\n",
      "precision score: 0.8315789473684211\n",
      "recall score: 0.8334398976982097\n",
      "columns: 10\n",
      "rows: 57385\n",
      "total data: 573850\n",
      "feature importances:\n",
      "GR_SQFT: 0.3694457292857355\n",
      "ZIP: 0.12669050837568593\n",
      "YRB_OLD: 0.10865996823962298\n",
      "CP_DIST: 0.10717147845437887\n",
      "BFRT_DEC: 0.0710461758524853\n",
      "YEAR4: 0.06673633589611372\n",
      "LND_AREA: 0.05638919061877732\n",
      "LFRT_DEC: 0.04289416794184811\n",
      "ZONING: 0.03723599505588735\n",
      "BDEP_DEC: 0.013730450279465033\n",
      "elapsed time: 0:01:31.872581\n"
     ]
    }
   ],
   "source": [
    "propval_samples = propval.sample(frac = .01, replace = False)\n",
    "ind_vars, dep_vars = get_class_vars(propval_samples, propval_indep_class, 'EXPENSIVE')\n",
    "rf.randfor_class_talk(ind_vars, dep_vars, 1000, 10, None, 100)"
   ]
  },
  {
   "cell_type": "code",
   "execution_count": null,
   "metadata": {},
   "outputs": [],
   "source": [
    "propval_samples = propval.sample(frac = .01, replace = False)\n",
    "ind_vars, dep_vars = get_reg_vars(propval_samples, propval_indep_reg)\n",
    "rf.randfor_reg_talk(ind_vars, dep_vars, 1000, 10, None, 1000)"
   ]
  },
  {
   "cell_type": "code",
   "execution_count": null,
   "metadata": {},
   "outputs": [],
   "source": [
    "propval_samples = propval.sample(frac = .01, replace = False)\n",
    "ind_vars, dep_vars = get_reg_vars(propval_samples, propval_indep_reg)\n",
    "rf.randfor_reg_talk(ind_vars, dep_vars, 1000, 10, None, 1000)"
   ]
  },
  {
   "cell_type": "code",
   "execution_count": null,
   "metadata": {},
   "outputs": [],
   "source": [
    "#So, superhigh variance here. I don't think just 1% of the data will do here. Kicking it up to 10%."
   ]
  },
  {
   "cell_type": "code",
   "execution_count": 130,
   "metadata": {},
   "outputs": [
    {
     "name": "stdout",
     "output_type": "stream",
     "text": [
      "explained variance (train data) 0.41759540463924616\n",
      "explained variance (test data) 0.05815793618378107\n",
      "r^2 score(train data): 0.41759532885355843\n",
      "r^2 score (test data): 0.0580764902105223\n",
      "feature importances\n",
      "GR_SQFT: 0.5972193176267132\n",
      "ZIP: 0.23473653169037037\n",
      "LFRT_DEC: 0.08182942137614274\n",
      "BFRT_DEC: 0.03320439996085412\n",
      "YRB_OLD: 0.023766822231388214\n",
      "LND_AREA: 0.018406287314807795\n",
      "YEAR4: 0.010837219799723507\n",
      "elapsed time: 0:01:00.589598\n"
     ]
    }
   ],
   "source": [
    "propval_samples = propval.sample(frac = .01, replace = False)\n",
    "ind_vars, dep_vars = get_reg_vars(propval_samples, propval_indep_reg, 'FN_AVT_A')\n",
    "rf.randfor_reg_talk(ind_vars, dep_vars, 1000, 10, None, 1000)"
   ]
  },
  {
   "cell_type": "code",
   "execution_count": null,
   "metadata": {},
   "outputs": [],
   "source": [
    "#Better. Upon further examination, the weights indicate I can cut most of these. Let's try again:"
   ]
  },
  {
   "cell_type": "code",
   "execution_count": 41,
   "metadata": {},
   "outputs": [],
   "source": [
    "propval_indep_reg = ['ZIP', 'LFRT_DEC',\n",
    "       'BFRT_DEC', 'LND_AREA', 'GR_SQFT',\n",
    "       'YRB_OLD', 'YEAR4']"
   ]
  },
  {
   "cell_type": "code",
   "execution_count": 132,
   "metadata": {},
   "outputs": [],
   "source": [
    "train_results = []\n",
    "test_results = []\n",
    "for x in range(10):\n",
    "    propval_samples = propval.sample(frac = .01, replace = False)\n",
    "    ind_vars, dep_vars = get_reg_vars(propval_samples, propval_indep_reg, 'FN_AVT_A')\n",
    "    exp_train, exp_test, r_train, r_test, importances, indices = \\\n",
    "    rf.randfor_reg_report(ind_vars, dep_vars, 1000, 10, None, 1000)\n",
    "    train_results.append(exp_train)\n",
    "    test_results.append(exp_test)"
   ]
  },
  {
   "cell_type": "code",
   "execution_count": 134,
   "metadata": {
    "scrolled": true
   },
   "outputs": [
    {
     "data": {
      "text/plain": [
       "-0.05552823376841454"
      ]
     },
     "execution_count": 134,
     "metadata": {},
     "output_type": "execute_result"
    }
   ],
   "source": [
    "np.mean(test_results)"
   ]
  },
  {
   "cell_type": "code",
   "execution_count": 135,
   "metadata": {},
   "outputs": [
    {
     "data": {
      "text/plain": [
       "0.9097761746587053"
      ]
     },
     "execution_count": 135,
     "metadata": {},
     "output_type": "execute_result"
    }
   ],
   "source": [
    "np.std(test_results)"
   ]
  },
  {
   "cell_type": "code",
   "execution_count": 136,
   "metadata": {},
   "outputs": [
    {
     "data": {
      "text/plain": [
       "4.605170185988092"
      ]
     },
     "execution_count": 136,
     "metadata": {},
     "output_type": "execute_result"
    }
   ],
   "source": [
    "np.log(100)"
   ]
  },
  {
   "cell_type": "code",
   "execution_count": 37,
   "metadata": {
    "scrolled": true
   },
   "outputs": [],
   "source": [
    "logval = []\n",
    "for index, row in propval.FN_AVT_A.iteritems():\n",
    "    if row != 0:\n",
    "        logval.append(np.log(row))\n",
    "    else:\n",
    "        logval.append(0)\n",
    "propval['LOGVAL'] = logval"
   ]
  },
  {
   "cell_type": "code",
   "execution_count": 139,
   "metadata": {},
   "outputs": [],
   "source": [
    "train_results = []\n",
    "test_results = []\n",
    "for x in range(10):\n",
    "    propval_samples = propval.sample(frac = .01, replace = False)\n",
    "    ind_vars, dep_vars = get_reg_vars(propval_samples, propval_indep_class, 'LOGVAL')\n",
    "    exp_train, exp_test, r_train, r_test, importances, indices = \\\n",
    "    rf.randfor_reg_report(ind_vars, dep_vars, 1000, 10, None, 1000)\n",
    "    train_results.append(exp_train)\n",
    "    test_results.append(exp_test)"
   ]
  },
  {
   "cell_type": "code",
   "execution_count": 141,
   "metadata": {},
   "outputs": [
    {
     "data": {
      "text/plain": [
       "0.6286045229357395"
      ]
     },
     "execution_count": 141,
     "metadata": {},
     "output_type": "execute_result"
    }
   ],
   "source": [
    "np.mean(test_results)"
   ]
  },
  {
   "cell_type": "code",
   "execution_count": 142,
   "metadata": {},
   "outputs": [
    {
     "data": {
      "text/plain": [
       "0.025458978859284602"
      ]
     },
     "execution_count": 142,
     "metadata": {},
     "output_type": "execute_result"
    }
   ],
   "source": [
    "np.std(test_results)"
   ]
  },
  {
   "cell_type": "code",
   "execution_count": 143,
   "metadata": {},
   "outputs": [],
   "source": [
    "wide_train_results = []\n",
    "wide_test_results = []\n",
    "for x in range(10):\n",
    "    propval_samples = propval.sample(frac = .01, replace = False)\n",
    "    ind_vars, dep_vars = get_reg_vars(propval_samples, propval_indep_class, 'LOGVAL')\n",
    "    exp_train, exp_test, r_train, r_test, importances, indices = \\\n",
    "    rf.randfor_reg_report(ind_vars, dep_vars, 1000, 10, None, 1000)\n",
    "    wide_train_results.append(exp_train)\n",
    "    wide_test_results.append(exp_test)"
   ]
  },
  {
   "cell_type": "code",
   "execution_count": 144,
   "metadata": {},
   "outputs": [
    {
     "data": {
      "text/plain": [
       "0.6262949155391826"
      ]
     },
     "execution_count": 144,
     "metadata": {},
     "output_type": "execute_result"
    }
   ],
   "source": [
    "np.mean(wide_test_results)"
   ]
  },
  {
   "cell_type": "code",
   "execution_count": 145,
   "metadata": {},
   "outputs": [
    {
     "data": {
      "text/plain": [
       "0.02456846429991413"
      ]
     },
     "execution_count": 145,
     "metadata": {},
     "output_type": "execute_result"
    }
   ],
   "source": [
    "np.std(wide_test_results)"
   ]
  },
  {
   "cell_type": "code",
   "execution_count": 50,
   "metadata": {},
   "outputs": [
    {
     "name": "stdout",
     "output_type": "stream",
     "text": [
      "explained variance (train data) 0.6295002135009694\n",
      "explained variance (test data) 0.6463658677470572\n",
      "r^2 score(train data): 0.6295002132352137\n",
      "r^2 score (test data): 0.6463554638051612\n",
      "feature importances\n",
      "GR_SQFT: 0.7486358036298013\n",
      "LND_AREA: 0.11505810171952484\n",
      "ZIP: 0.05820527072662586\n",
      "LFRT_DEC: 0.035844193581989495\n",
      "YRB_OLD: 0.028668026150199623\n",
      "YEAR4: 0.007500475933731754\n",
      "BFRT_DEC: 0.006088128258127243\n",
      "elapsed time: 0:00:54.484556\n"
     ]
    }
   ],
   "source": [
    "propval_samples = propval.sample(frac = .01, replace = False)\n",
    "ind_vars, dep_vars = get_reg_vars(propval_samples, propval_indep_reg, 'LOGVAL')\n",
    "rf.randfor_reg_talk(ind_vars, dep_vars, 1000, 10, None, 1000)"
   ]
  },
  {
   "cell_type": "code",
   "execution_count": 42,
   "metadata": {},
   "outputs": [
    {
     "name": "stdout",
     "output_type": "stream",
     "text": [
      "explained variance (train data) 0.7007610475447454\n",
      "explained variance (test data) 0.6941210150962642\n",
      "r^2 score(train data): 0.7007610467170671\n",
      "r^2 score (test data): 0.6941207417912768\n",
      "feature importances\n",
      "GR_SQFT: 0.6737890532700453\n",
      "LND_AREA: 0.1349480907664804\n",
      "ZIP: 0.0841855569793453\n",
      "LFRT_DEC: 0.04615951312280014\n",
      "YRB_OLD: 0.03862105694002638\n",
      "BFRT_DEC: 0.013132972423513902\n",
      "YEAR4: 0.009163756497788599\n",
      "elapsed time: 0:15:01.349061\n"
     ]
    }
   ],
   "source": [
    "propval_samples = propval.sample(frac = .1, replace = False)\n",
    "ind_vars, dep_vars = get_reg_vars(propval_samples, propval_indep_reg, 'LOGVAL')\n",
    "rf.randfor_reg_talk(ind_vars, dep_vars, 1000, 10, None, 1000)"
   ]
  },
  {
   "cell_type": "code",
   "execution_count": 43,
   "metadata": {},
   "outputs": [
    {
     "name": "stdout",
     "output_type": "stream",
     "text": [
      "explained variance (train data) 0.6940573062372333\n",
      "explained variance (test data) 0.6804216444768326\n",
      "r^2 score(train data): 0.6940573024740259\n",
      "r^2 score (test data): 0.680421385345253\n",
      "feature importances\n",
      "GR_SQFT: 0.6655544885509872\n",
      "LND_AREA: 0.13404138311659172\n",
      "ZIP: 0.08438765553327934\n",
      "LFRT_DEC: 0.05443926460127759\n",
      "YRB_OLD: 0.038514905392372005\n",
      "BFRT_DEC: 0.014063933966407984\n",
      "YEAR4: 0.008998368839084092\n",
      "elapsed time: 0:01:30.588992\n"
     ]
    }
   ],
   "source": [
    "propval_samples = propval.sample(frac = .1, replace = False)\n",
    "ind_vars, dep_vars = get_reg_vars(propval_samples, propval_indep_reg, 'LOGVAL')\n",
    "rf.randfor_reg_talk(ind_vars, dep_vars, 100, 10, None, 1000)"
   ]
  },
  {
   "cell_type": "code",
   "execution_count": 64,
   "metadata": {},
   "outputs": [],
   "source": [
    "features = ['Gross sq. ft.', 'Land area', 'ZIP code', 'Lot frontage', 'Year built',\\\n",
    "           'Year of valuation', 'Building frontage (ft)']\n",
    "importances = [.749, .115, .058, .036, .029, .008, .006]"
   ]
  },
  {
   "cell_type": "code",
   "execution_count": 65,
   "metadata": {},
   "outputs": [],
   "source": [
    "features.reverse()\n",
    "importances.reverse()"
   ]
  },
  {
   "cell_type": "code",
   "execution_count": 45,
   "metadata": {
    "scrolled": true
   },
   "outputs": [
    {
     "name": "stdout",
     "output_type": "stream",
     "text": [
      "explained variance (train data) 0.7193245881874226\n",
      "explained variance (test data) 0.7167277587533805\n",
      "r^2 score(train data): 0.7193245881133157\n",
      "r^2 score (test data): 0.7167271666409624\n",
      "feature importances\n",
      "GR_SQFT: 0.6443425439472978\n",
      "LND_AREA: 0.13973169221062795\n",
      "ZIP: 0.09455222414659244\n",
      "LFRT_DEC: 0.054404215979006534\n",
      "YRB_OLD: 0.04543411643092896\n",
      "BFRT_DEC: 0.011468453302850077\n",
      "YEAR4: 0.010066753982696392\n",
      "elapsed time: 0:21:55.521460\n"
     ]
    }
   ],
   "source": [
    "ind_vars, dep_vars = get_reg_vars(propval, propval_indep_reg, 'LOGVAL')\n",
    "rf.randfor_reg_talk(ind_vars, dep_vars, 100, 10, None, 1000)"
   ]
  },
  {
   "cell_type": "code",
   "execution_count": 66,
   "metadata": {
    "scrolled": false
   },
   "outputs": [
    {
     "data": {
      "text/plain": [
       "Text(0, 0.5, 'Feature name')"
      ]
     },
     "execution_count": 66,
     "metadata": {},
     "output_type": "execute_result"
    },
    {
     "data": {
      "image/png": "[encoded data removed]",
      "text/plain": [
       "<Figure size 432x288 with 1 Axes>"
      ]
     },
     "metadata": {
      "needs_background": "light"
     },
     "output_type": "display_data"
    }
   ],
   "source": [
    "plt.barh(features, importances)\n",
    "plt.title('Feature importances of Random forest regression, 1%')\n",
    "plt.xlabel(\"Feature importance\")\n",
    "plt.ylabel('Feature name')"
   ]
  },
  {
   "cell_type": "code",
   "execution_count": 61,
   "metadata": {},
   "outputs": [],
   "source": [
    "features = ['Gross sq. ft.', 'Land area', 'ZIP code', 'Lot frontage', 'Year built',\\\n",
    "           'Building frontage', 'Year of valuation']\n",
    "importances = [.644, .140, .095, .054, .045, .011, .010]"
   ]
  },
  {
   "cell_type": "code",
   "execution_count": 62,
   "metadata": {},
   "outputs": [],
   "source": [
    "features.reverse()\n",
    "importances.reverse()"
   ]
  },
  {
   "cell_type": "code",
   "execution_count": 63,
   "metadata": {},
   "outputs": [
    {
     "data": {
      "text/plain": [
       "Text(0, 0.5, 'Feature name')"
      ]
     },
     "execution_count": 63,
     "metadata": {},
     "output_type": "execute_result"
    },
    {
     "data": {
      "image/png": "[encoded data removed]",
      "text/plain": [
       "<Figure size 432x288 with 1 Axes>"
      ]
     },
     "metadata": {
      "needs_background": "light"
     },
     "output_type": "display_data"
    }
   ],
   "source": [
    "plt.barh(features, importances)\n",
    "plt.title('Feature importances of Random forest regression, 100%')\n",
    "plt.xlabel(\"Feature importance\")\n",
    "plt.ylabel('Feature name')"
   ]
  },
  {
   "cell_type": "code",
   "execution_count": 148,
   "metadata": {},
   "outputs": [
    {
     "data": {
      "text/plain": [
       "2010"
      ]
     },
     "execution_count": 148,
     "metadata": {},
     "output_type": "execute_result"
    }
   ],
   "source": [
    "min(propval.YEAR4)"
   ]
  },
  {
   "cell_type": "code",
   "execution_count": 149,
   "metadata": {},
   "outputs": [
    {
     "data": {
      "text/plain": [
       "2017"
      ]
     },
     "execution_count": 149,
     "metadata": {},
     "output_type": "execute_result"
    }
   ],
   "source": [
    "max(propval.YEAR4)"
   ]
  },
  {
   "cell_type": "code",
   "execution_count": null,
   "metadata": {},
   "outputs": [],
   "source": [
    "propval_samples = propval.sample(frac = .1, replace = False)\n",
    "ind_vars, dep_vars = get_reg_vars(propval_samples, propval_indep_reg)\n",
    "rf.randfor_reg_talk(ind_vars, dep_vars, 1000, 10, None, 1000)"
   ]
  },
  {
   "cell_type": "code",
   "execution_count": null,
   "metadata": {},
   "outputs": [],
   "source": [
    "#I really don't think I should be seeing this much variance. \n",
    "#Time to crawl back through the scoring code."
   ]
  },
  {
   "cell_type": "code",
   "execution_count": null,
   "metadata": {},
   "outputs": [],
   "source": [
    "#Can't find anything obviously wrong. Vexing.\n",
    "propval_samples = propval.sample(frac = .01, replace = False)\n",
    "ind_vars, dep_vars = get_reg_vars(propval_samples, propval_indep_reg)\n",
    "rf.randfor_reg_talk(ind_vars, dep_vars, 1000, 10, None, 1000)"
   ]
  },
  {
   "cell_type": "code",
   "execution_count": null,
   "metadata": {},
   "outputs": [],
   "source": [
    "propval_samples = propval.sample(frac = .01, replace = False)\n",
    "ind_vars, dep_vars = get_reg_vars(propval_samples, propval_indep_reg)\n",
    "rf.randfor_reg_talk(ind_vars, dep_vars, 1000, 10, None, 1000)"
   ]
  },
  {
   "cell_type": "code",
   "execution_count": null,
   "metadata": {},
   "outputs": [],
   "source": [
    "#I'm not sure what's going wrong here, but I'll talk to Blake about it?\n",
    "#Going to try SGD, see if that exhibits similar issues."
   ]
  },
  {
   "cell_type": "code",
   "execution_count": 150,
   "metadata": {},
   "outputs": [
    {
     "name": "stdout",
     "output_type": "stream",
     "text": [
      "train score: 0.5744186046511628\n",
      "test score: 0.5902777777777778\n",
      "f1 score 0.0\n",
      "confusion_matrix:\n",
      "[[85  0]\n",
      " [59  0]]\n",
      "precision score: 0.0\n",
      "recall score: 0.0\n",
      "columns: 10\n",
      "rows: 574\n",
      "total data: 5740\n",
      "feature importances:\n",
      "YRB_OLD: 0.0\n",
      "CP_DIST: 0.0\n",
      "ZONING: 0.0\n",
      "GR_SQFT: 0.0\n",
      "LND_AREA: 0.0\n",
      "BDEP_DEC: 0.0\n",
      "BFRT_DEC: 0.0\n",
      "LFRT_DEC: 0.0\n",
      "ZIP: 0.0\n",
      "YEAR4: 0.0\n",
      "elapsed time: 0:00:00.677782\n"
     ]
    },
    {
     "name": "stderr",
     "output_type": "stream",
     "text": [
      "C:\\Users\\marcu\\Anaconda3\\lib\\site-packages\\sklearn\\metrics\\classification.py:1437: UndefinedMetricWarning: F-score is ill-defined and being set to 0.0 due to no predicted samples.\n",
      "  'precision', 'predicted', average, warn_for)\n",
      "C:\\Users\\marcu\\Anaconda3\\lib\\site-packages\\sklearn\\metrics\\classification.py:1437: UndefinedMetricWarning: Precision is ill-defined and being set to 0.0 due to no predicted samples.\n",
      "  'precision', 'predicted', average, warn_for)\n"
     ]
    }
   ],
   "source": [
    "propval_samples = propval.sample(frac = .0001, replace = False)\n",
    "ind_vars, dep_vars = get_class_vars(propval_samples, propval_indep_class, 'EXPENSIVE')\n",
    "rf.randfor_class_talk(ind_vars, dep_vars, 1000, 10, None, 1000)"
   ]
  },
  {
   "cell_type": "code",
   "execution_count": 154,
   "metadata": {},
   "outputs": [
    {
     "name": "stdout",
     "output_type": "stream",
     "text": [
      "train score: 0.701534170153417\n",
      "test score: 0.7256267409470752\n",
      "f1 score 0.6868044515103339\n",
      "confusion_matrix:\n",
      "[[305 100]\n",
      " [ 97 216]]\n",
      "precision score: 0.6835443037974683\n",
      "recall score: 0.6900958466453674\n",
      "columns: 10\n",
      "rows: 2869\n",
      "total data: 28690\n",
      "feature importances:\n",
      "GR_SQFT: 0.97\n",
      "BFRT_DEC: 0.03\n",
      "YRB_OLD: 0.0\n",
      "CP_DIST: 0.0\n",
      "ZONING: 0.0\n",
      "LND_AREA: 0.0\n",
      "BDEP_DEC: 0.0\n",
      "LFRT_DEC: 0.0\n",
      "ZIP: 0.0\n",
      "YEAR4: 0.0\n",
      "elapsed time: 0:00:01.936397\n"
     ]
    }
   ],
   "source": [
    "propval_samples = propval.sample(frac = .0005, replace = False)\n",
    "ind_vars, dep_vars = get_class_vars(propval_samples, propval_indep_class, 'EXPENSIVE')\n",
    "rf.randfor_class_talk(ind_vars, dep_vars, 1000, 10, None, 1000)"
   ]
  },
  {
   "cell_type": "code",
   "execution_count": 151,
   "metadata": {},
   "outputs": [
    {
     "name": "stdout",
     "output_type": "stream",
     "text": [
      "train score: 0.7483151289797816\n",
      "test score: 0.7372822299651568\n",
      "f1 score 0.6876553438276719\n",
      "confusion_matrix:\n",
      "[[643 180]\n",
      " [197 415]]\n",
      "precision score: 0.6974789915966386\n",
      "recall score: 0.6781045751633987\n",
      "columns: 10\n",
      "rows: 5738\n",
      "total data: 57380\n",
      "feature importances:\n",
      "GR_SQFT: 0.7111469738198671\n",
      "BFRT_DEC: 0.11453399492017213\n",
      "LFRT_DEC: 0.08945884104497012\n",
      "YRB_OLD: 0.06616495062404949\n",
      "ZIP: 0.01061219258257567\n",
      "LND_AREA: 0.004166319640885224\n",
      "YEAR4: 0.003528233937621946\n",
      "ZONING: 0.0002851578977974588\n",
      "CP_DIST: 6.810120595789098e-05\n",
      "BDEP_DEC: 3.523432610293295e-05\n",
      "elapsed time: 0:00:03.638835\n"
     ]
    }
   ],
   "source": [
    "propval_samples = propval.sample(frac = .001, replace = False)\n",
    "ind_vars, dep_vars = get_class_vars(propval_samples, propval_indep_class, 'EXPENSIVE')\n",
    "rf.randfor_class_talk(ind_vars, dep_vars, 1000, 10, None, 1000)"
   ]
  },
  {
   "cell_type": "code",
   "execution_count": 155,
   "metadata": {},
   "outputs": [
    {
     "name": "stdout",
     "output_type": "stream",
     "text": [
      "train score: 0.7840048329383336\n",
      "test score: 0.7780566011431758\n",
      "f1 score 0.7212885154061626\n",
      "confusion_matrix:\n",
      "[[3521  539]\n",
      " [1053 2060]]\n",
      "precision score: 0.7926125432858792\n",
      "recall score: 0.6617410857693543\n",
      "columns: 10\n",
      "rows: 28692\n",
      "total data: 286920\n",
      "feature importances:\n",
      "GR_SQFT: 0.48597329844598147\n",
      "YRB_OLD: 0.1310835059183279\n",
      "BFRT_DEC: 0.11134797976008383\n",
      "ZIP: 0.09644596429839708\n",
      "YEAR4: 0.04820763238893592\n",
      "CP_DIST: 0.04278187074860884\n",
      "LND_AREA: 0.04240817349127923\n",
      "LFRT_DEC: 0.022433002191580908\n",
      "ZONING: 0.0110286859131394\n",
      "BDEP_DEC: 0.008289886843665361\n",
      "elapsed time: 0:00:27.662158\n"
     ]
    }
   ],
   "source": [
    "propval_samples = propval.sample(frac = .005, replace = False)\n",
    "ind_vars, dep_vars = get_class_vars(propval_samples, propval_indep_class, 'EXPENSIVE')\n",
    "rf.randfor_class_talk(ind_vars, dep_vars, 1000, 10, None, 1000)"
   ]
  },
  {
   "cell_type": "code",
   "execution_count": 152,
   "metadata": {},
   "outputs": [
    {
     "name": "stdout",
     "output_type": "stream",
     "text": [
      "train score: 0.807751289558065\n",
      "test score: 0.8028856206872517\n",
      "f1 score 0.7712344280860702\n",
      "confusion_matrix:\n",
      "[[6752 1410]\n",
      " [1418 4767]]\n",
      "precision score: 0.7717338513841671\n",
      "recall score: 0.7707356507679871\n",
      "columns: 10\n",
      "rows: 57385\n",
      "total data: 573850\n",
      "feature importances:\n",
      "GR_SQFT: 0.43099523667634276\n",
      "YRB_OLD: 0.12434068496182869\n",
      "BFRT_DEC: 0.10461833151012895\n",
      "ZIP: 0.0956489945025171\n",
      "CP_DIST: 0.07522900767309942\n",
      "YEAR4: 0.05587115547937059\n",
      "LFRT_DEC: 0.0389324237089612\n",
      "LND_AREA: 0.037409765022689216\n",
      "ZONING: 0.02463776935944695\n",
      "BDEP_DEC: 0.01231663110561505\n",
      "elapsed time: 0:01:06.472703\n"
     ]
    }
   ],
   "source": [
    "propval_samples = propval.sample(frac = .01, replace = False)\n",
    "ind_vars, dep_vars = get_class_vars(propval_samples, propval_indep_class, 'EXPENSIVE')\n",
    "rf.randfor_class_talk(ind_vars, dep_vars, 1000, 10, None, 1000)"
   ]
  },
  {
   "cell_type": "code",
   "execution_count": 156,
   "metadata": {},
   "outputs": [
    {
     "name": "stdout",
     "output_type": "stream",
     "text": [
      "train score: 0.8402782618393722\n",
      "test score: 0.8369603100472599\n",
      "f1 score 0.8096609866054717\n",
      "confusion_matrix:\n",
      "[[35162  5608]\n",
      " [ 6087 24874]]\n",
      "precision score: 0.8160225706974608\n",
      "recall score: 0.8033978230677303\n",
      "columns: 10\n",
      "rows: 286924\n",
      "total data: 2869240\n",
      "feature importances:\n",
      "GR_SQFT: 0.40122272319173397\n",
      "ZIP: 0.13064050600716604\n",
      "YRB_OLD: 0.11412721456604558\n",
      "CP_DIST: 0.08965345229164803\n",
      "BFRT_DEC: 0.07437905733691158\n",
      "YEAR4: 0.06100376828308923\n",
      "LFRT_DEC: 0.04893224599042634\n",
      "LND_AREA: 0.042869506047958764\n",
      "ZONING: 0.03149849521728474\n",
      "BDEP_DEC: 0.005673031067735722\n",
      "elapsed time: 0:08:26.987339\n"
     ]
    }
   ],
   "source": [
    "propval_samples = propval.sample(frac = .05, replace = False)\n",
    "ind_vars, dep_vars = get_class_vars(propval_samples, propval_indep_class, 'EXPENSIVE')\n",
    "rf.randfor_class_talk(ind_vars, dep_vars, 1000, 10, None, 1000)"
   ]
  },
  {
   "cell_type": "code",
   "execution_count": 153,
   "metadata": {},
   "outputs": [
    {
     "name": "stdout",
     "output_type": "stream",
     "text": [
      "train score: 0.8456989771972137\n",
      "test score: 0.8441050591794342\n",
      "f1 score 0.8191689777569353\n",
      "confusion_matrix:\n",
      "[[70440 11132]\n",
      " [11233 50657]]\n",
      "precision score: 0.8198384825778051\n",
      "recall score: 0.81850056551947\n",
      "columns: 10\n",
      "rows: 573848\n",
      "total data: 5738480\n",
      "feature importances:\n",
      "GR_SQFT: 0.3855391958813328\n",
      "ZIP: 0.1337631273248146\n",
      "YRB_OLD: 0.11268109198842287\n",
      "CP_DIST: 0.10136339172289324\n",
      "BFRT_DEC: 0.07091910423572621\n",
      "YEAR4: 0.06535532081316624\n",
      "LFRT_DEC: 0.062478829013802896\n",
      "ZONING: 0.03989622561174318\n",
      "LND_AREA: 0.0198263516271157\n",
      "BDEP_DEC: 0.008177361780982195\n",
      "elapsed time: 0:28:02.539889\n"
     ]
    }
   ],
   "source": [
    "propval_samples = propval.sample(frac = .1, replace = False)\n",
    "ind_vars, dep_vars = get_class_vars(propval_samples, propval_indep_class, 'EXPENSIVE')\n",
    "rf.randfor_class_talk(ind_vars, dep_vars, 1000, 10, None, 1000)"
   ]
  },
  {
   "cell_type": "code",
   "execution_count": 157,
   "metadata": {},
   "outputs": [],
   "source": [
    "sizes = [.0001, .0005, .001, .005, .01, .05, .1, .4]\n",
    "times = [.678, 1.9, 3.63, 27.6, 66.47, 506, 1680, 75600]"
   ]
  },
  {
   "cell_type": "code",
   "execution_count": 159,
   "metadata": {},
   "outputs": [
    {
     "data": {
      "text/plain": [
       "array([-0.38860799,  0.64185389,  1.28923265,  3.31781577,  4.19675072,\n",
       "        6.22653667,  7.42654907, 11.23321156])"
      ]
     },
     "execution_count": 159,
     "metadata": {},
     "output_type": "execute_result"
    }
   ],
   "source": [
    "np.log(times)"
   ]
  },
  {
   "cell_type": "code",
   "execution_count": 162,
   "metadata": {},
   "outputs": [
    {
     "data": {
      "text/plain": [
       "Text(0, 0.5, 'log(seconds to run)')"
      ]
     },
     "execution_count": 162,
     "metadata": {},
     "output_type": "execute_result"
    },
    {
     "data": {
      "image/png": "[encoded data removed]",
      "text/plain": [
       "<Figure size 432x288 with 1 Axes>"
      ]
     },
     "metadata": {
      "needs_background": "light"
     },
     "output_type": "display_data"
    }
   ],
   "source": [
    "plt.scatter(x = np.log(sizes), y = np.log(times))\n",
    "plt.title('Time to run per dataset size')\n",
    "plt.xlabel('log(percent dataset)')\n",
    "plt.ylabel('log(seconds to run)')"
   ]
  },
  {
   "cell_type": "code",
   "execution_count": 163,
   "metadata": {},
   "outputs": [
    {
     "data": {
      "text/plain": [
       "<matplotlib.collections.PathCollection at 0x1aa6e1ebf48>"
      ]
     },
     "execution_count": 163,
     "metadata": {},
     "output_type": "execute_result"
    },
    {
     "data": {
      "image/png": "[encoded data removed]",
      "text/plain": [
       "<Figure size 432x288 with 1 Axes>"
      ]
     },
     "metadata": {
      "needs_background": "light"
     },
     "output_type": "display_data"
    }
   ],
   "source": [
    "plt.scatter(x = sizes, y = times)"
   ]
  },
  {
   "cell_type": "code",
   "execution_count": null,
   "metadata": {},
   "outputs": [],
   "source": []
  },
  {
   "cell_type": "code",
   "execution_count": 195,
   "metadata": {},
   "outputs": [],
   "source": [
    "#Run a sgd regression with max_iter, fraction of total dataset, dataset, independent and dependent\n",
    "#variables as the input variables\n",
    "def sgdreg(max_iter, loss, frac, data, indep, dep):\n",
    "    train_scores = []\n",
    "    test_scores = []\n",
    "    for x in range(10):\n",
    "        starttime = dt.datetime.now()\n",
    "        scaler = StandardScaler()\n",
    "        propval_samples = data.sample(frac = 1, replace = False)\n",
    "        ind_vars, dep_vars = get_reg_vars(propval_samples, propval_indep_reg, dep)\n",
    "        ind_train, ind_test, dep_train, dep_test = train_test_split(ind_vars, dep_vars)\n",
    "        scaler.fit(ind_train)\n",
    "        ind_train = scaler.transform(ind_train)\n",
    "        ind_test = scaler.transform(ind_test)\n",
    "        sgd = SGDRegressor(max_iter = max_iter, loss = loss)\n",
    "        sgd.fit(ind_train, dep_train)\n",
    "        train_pred = sgd.predict(ind_train)\n",
    "        test_pred = sgd.predict(ind_test)\n",
    "        r_train_score = r2_score(dep_train, train_pred)\n",
    "        r_test_score = r2_score(dep_test, test_pred)\n",
    "        train_scores.append(r_train_score)\n",
    "        test_scores.append(r_test_score)\n",
    "    return train_scores, test_scores"
   ]
  },
  {
   "cell_type": "code",
   "execution_count": null,
   "metadata": {},
   "outputs": [],
   "source": [
    "#So this runs super fast and scores terribly. Something's going badly wrong here."
   ]
  },
  {
   "cell_type": "code",
   "execution_count": null,
   "metadata": {},
   "outputs": [],
   "source": [
    "#This should be performing less terribly than this."
   ]
  },
  {
   "cell_type": "code",
   "execution_count": null,
   "metadata": {},
   "outputs": [],
   "source": [
    "propval_samples = propval.sample(frac = .01, replace = False)\n",
    "ind_vars = propval_samples[['ZIP', 'LND_AREA']]\n",
    "dep_vars = propval_samples['EXPENSIVE']\n",
    "rf.randfor_class_talk(ind_vars, dep_vars, 1000, 10, None, 1000)"
   ]
  },
  {
   "cell_type": "code",
   "execution_count": null,
   "metadata": {},
   "outputs": [],
   "source": [
    "propval_samples = propval.sample(frac = .01, replace = False)\n",
    "ind_vars = propval_samples[['ZIP', 'LND_AREA']]\n",
    "dep_vars = propval_samples['FN_AVT_A']\n",
    "rf.randfor_reg_talk(ind_vars, dep_vars, 1000, 10, None, 1000)"
   ]
  },
  {
   "cell_type": "code",
   "execution_count": null,
   "metadata": {},
   "outputs": [],
   "source": [
    "#Even the regression model can do better than -6e27. ?"
   ]
  },
  {
   "cell_type": "code",
   "execution_count": null,
   "metadata": {},
   "outputs": [],
   "source": [
    "sgdreg(1000, 'squared_loss', .01, propval, ['ZIP', 'LND_AREA'], 'FN_AVT_A')"
   ]
  },
  {
   "cell_type": "code",
   "execution_count": null,
   "metadata": {},
   "outputs": [],
   "source": [
    "#Okay, after scaling the data this works better."
   ]
  },
  {
   "cell_type": "code",
   "execution_count": 196,
   "metadata": {},
   "outputs": [],
   "source": [
    "train_scores, test_scores = sgdreg(1000, 'squared_loss', 1000, propval, propval_indep_class, 'LOGVAL')"
   ]
  },
  {
   "cell_type": "code",
   "execution_count": 199,
   "metadata": {},
   "outputs": [
    {
     "data": {
      "text/plain": [
       "[0.272992750549377,\n",
       " 0.45056971475406693,\n",
       " 0.45697867458265484,\n",
       " 0.4519653728596018,\n",
       " 0.3613897341720793,\n",
       " 0.4511551192000056,\n",
       " -2.1933394188566155,\n",
       " 0.4481989367573772,\n",
       " 0.17930429756313582,\n",
       " 0.40146723900410797]"
      ]
     },
     "execution_count": 199,
     "metadata": {},
     "output_type": "execute_result"
    }
   ],
   "source": [
    "train_scores"
   ]
  },
  {
   "cell_type": "code",
   "execution_count": 204,
   "metadata": {},
   "outputs": [
    {
     "data": {
      "text/plain": [
       "[0.308093938341261,\n",
       " 0.3422978815669404,\n",
       " 0.23754077653069017,\n",
       " 0.22006639128831162,\n",
       " 0.017075185747479682,\n",
       " 0.3159911435183316,\n",
       " 0.267059427551789,\n",
       " 0.25024762379430643,\n",
       " 0.4469275630953853]"
      ]
     },
     "execution_count": 204,
     "metadata": {},
     "output_type": "execute_result"
    }
   ],
   "source": [
    "test_scores"
   ]
  },
  {
   "cell_type": "code",
   "execution_count": 205,
   "metadata": {},
   "outputs": [
    {
     "data": {
      "text/plain": [
       "0.2672555479371661"
      ]
     },
     "execution_count": 205,
     "metadata": {},
     "output_type": "execute_result"
    }
   ],
   "source": [
    "np.mean(test_scores)"
   ]
  },
  {
   "cell_type": "code",
   "execution_count": 206,
   "metadata": {},
   "outputs": [
    {
     "data": {
      "text/plain": [
       "0.10951693070137737"
      ]
     },
     "execution_count": 206,
     "metadata": {},
     "output_type": "execute_result"
    }
   ],
   "source": [
    "np.std(test_scores)"
   ]
  },
  {
   "cell_type": "code",
   "execution_count": 203,
   "metadata": {},
   "outputs": [
    {
     "data": {
      "text/plain": [
       "-0.9422476418197292"
      ]
     },
     "execution_count": 203,
     "metadata": {},
     "output_type": "execute_result"
    }
   ],
   "source": [
    "test_scores.pop(6)"
   ]
  },
  {
   "cell_type": "code",
   "execution_count": null,
   "metadata": {},
   "outputs": [],
   "source": []
  },
  {
   "cell_type": "code",
   "execution_count": null,
   "metadata": {},
   "outputs": [],
   "source": [
    "#Okay - regression is way more volatile and way worse than classification. Not super surprising,\n",
    "#but still good to know. I wonder if I could combine a few classification models, say for three\n",
    "#SDs in both directions?"
   ]
  },
  {
   "cell_type": "code",
   "execution_count": 5,
   "metadata": {},
   "outputs": [],
   "source": [
    "boro_stds = propval.groupby('BORO').std()"
   ]
  },
  {
   "cell_type": "code",
   "execution_count": 6,
   "metadata": {},
   "outputs": [],
   "source": [
    "boro_means = propval.groupby('BORO').mean()"
   ]
  },
  {
   "cell_type": "code",
   "execution_count": 16,
   "metadata": {},
   "outputs": [
    {
     "data": {
      "text/plain": [
       "BORO\n",
       "1    148710.814380\n",
       "2     23161.219546\n",
       "3     26929.861880\n",
       "4     28202.569118\n",
       "5     23771.358802\n",
       "Name: FN_AVT_A, dtype: float64"
      ]
     },
     "execution_count": 16,
     "metadata": {},
     "output_type": "execute_result"
    }
   ],
   "source": [
    "boro_means.FN_AVT_A"
   ]
  },
  {
   "cell_type": "code",
   "execution_count": null,
   "metadata": {},
   "outputs": [],
   "source": [
    "#Zero-padding for borough indexing, as usual\n",
    "boro_cutoffs = [[0], [0], [0], [0], [0], [0], [0], [0]]\n",
    "for x in range(5):\n",
    "    boro_cutoffs[0].append(boro_means.FN_AVT_A.values[x]-(1*boro_stds.FN_AVT_A.values[x]))\n",
    "for x in range(5):\n",
    "    boro_cutoffs[1].append(boro_means.FN_AVT_A.values[x]-(.66*boro_stds.FN_AVT_A.values[x]))\n",
    "for x in range(5):\n",
    "    boro_cutoffs[2].append(boro_means.FN_AVT_A.values[x]-(.33*boro_stds.FN_AVT_A.values[x]))\n",
    "for x in range(5):\n",
    "    boro_cutoffs[3].append(boro_means.FN_AVT_A.values[x])\n",
    "for x in range(5):\n",
    "    boro_cutoffs[4].append(boro_means.FN_AVT_A.values[x]+(.33*boro_stds.FN_AVT_A.values[x]))\n",
    "for x in range(5):\n",
    "    boro_cutoffs[5].append(boro_means.FN_AVT_A.values[x]+(.66*boro_stds.FN_AVT_A.values[x]))\n",
    "for x in range(5):\n",
    "    boro_cutoffs[6].append(boro_means.FN_AVT_A.values[x]+(1*boro_stds.FN_AVT_A.values[x]))"
   ]
  },
  {
   "cell_type": "code",
   "execution_count": null,
   "metadata": {},
   "outputs": [],
   "source": [
    "es3 = []\n",
    "es2 = []\n",
    "es1 = []\n",
    "EXPENSIVE = []\n",
    "ep1 = []\n",
    "ep2 = []\n",
    "ep3 = []\n",
    "for index, row in propval.iterrows():\n",
    "    es3.append(row.FN_AVT_A >= boro_cutoffs[0][row.BORO])\n",
    "    es2.append(row.FN_AVT_A >= boro_cutoffs[1][row.BORO])\n",
    "    es1.append(row.FN_AVT_A >= boro_cutoffs[2][row.BORO])\n",
    "    EXPENSIVE.append(row.FN_AVT_A >= boro_cutoffs[3][row.BORO])\n",
    "    ep1.append(row.FN_AVT_A >= boro_cutoffs[4][row.BORO])\n",
    "    ep2.append(row.FN_AVT_A >= boro_cutoffs[5][row.BORO])\n",
    "    ep3.append(row.FN_AVT_A >= boro_cutoffs[6][row.BORO])"
   ]
  },
  {
   "cell_type": "code",
   "execution_count": null,
   "metadata": {},
   "outputs": [],
   "source": [
    "#We're tracking whether a value per borough is greater than the mean valuation in that borough or not."
   ]
  },
  {
   "cell_type": "code",
   "execution_count": null,
   "metadata": {},
   "outputs": [],
   "source": [
    "propval['EXP_SUB_3'] = es3\n",
    "propval['EXP_SUB_2'] = es2\n",
    "propval['EXP_SUB_1'] = es1\n",
    "propval['EXPENSIVE'] = EXPENSIVE\n",
    "propval['EXP_ADD_1'] = ep1\n",
    "propval['EXP_ADD_2'] = ep2\n",
    "propval['EXP_ADD_3'] = ep3"
   ]
  },
  {
   "cell_type": "code",
   "execution_count": null,
   "metadata": {},
   "outputs": [],
   "source": [
    "propval.EXP_SUB_3.value_counts()"
   ]
  },
  {
   "cell_type": "code",
   "execution_count": null,
   "metadata": {},
   "outputs": [],
   "source": [
    "propval.EXP_SUB_2.value_counts()"
   ]
  },
  {
   "cell_type": "code",
   "execution_count": null,
   "metadata": {},
   "outputs": [],
   "source": [
    "propval.EXP_SUB_1.value_counts()"
   ]
  },
  {
   "cell_type": "code",
   "execution_count": null,
   "metadata": {},
   "outputs": [],
   "source": [
    "propval.EXPENSIVE.value_counts()"
   ]
  },
  {
   "cell_type": "code",
   "execution_count": null,
   "metadata": {},
   "outputs": [],
   "source": [
    "propval.EXP_ADD_1.value_counts()"
   ]
  },
  {
   "cell_type": "code",
   "execution_count": null,
   "metadata": {},
   "outputs": [],
   "source": [
    "propval.EXP_ADD_2.value_counts()"
   ]
  },
  {
   "cell_type": "code",
   "execution_count": null,
   "metadata": {},
   "outputs": [],
   "source": [
    "propval.EXP_ADD_3.value_counts()"
   ]
  },
  {
   "cell_type": "code",
   "execution_count": null,
   "metadata": {},
   "outputs": [],
   "source": [
    "#Technically this was data cleaning, and also it took ages to run, so I'm saving it. This should\n",
    "#also protect against memory errors."
   ]
  },
  {
   "cell_type": "code",
   "execution_count": null,
   "metadata": {},
   "outputs": [],
   "source": [
    "propval.to_csv('clean_propval_final.csv')"
   ]
  },
  {
   "cell_type": "code",
   "execution_count": 4,
   "metadata": {},
   "outputs": [
    {
     "name": "stderr",
     "output_type": "stream",
     "text": [
      "C:\\Users\\marcu\\Anaconda3\\lib\\site-packages\\IPython\\core\\interactiveshell.py:3058: DtypeWarning: Columns (13,22,24,50,51) have mixed types. Specify dtype option on import or set low_memory=False.\n",
      "  interactivity=interactivity, compiler=compiler, result=result)\n"
     ]
    }
   ],
   "source": [
    "propval = pd.read_csv('clean_propval_final.csv')"
   ]
  },
  {
   "cell_type": "code",
   "execution_count": 6,
   "metadata": {},
   "outputs": [],
   "source": [
    "propval_indep_class = ['YEAR4', 'ZIP', 'LFRT_DEC',\n",
    "       'BFRT_DEC', 'BDEP_DEC', 'LND_AREA', 'GR_SQFT',\n",
    "       'ZONING', 'CP_BORO', 'CP_DIST', 'YRB_OLD']"
   ]
  },
  {
   "cell_type": "code",
   "execution_count": 11,
   "metadata": {},
   "outputs": [],
   "source": [
    "propval_samples = propval.sample(frac = .01, replace = False)\n",
    "all_metrics = ['EXP_SUB_3', 'EXP_SUB_2', 'EXP_SUB_1', 'EXPENSIVE',\\\n",
    "               'EXP_ADD_1', 'EXP_ADD_2', 'EXP_ADD_3']"
   ]
  },
  {
   "cell_type": "code",
   "execution_count": 42,
   "metadata": {},
   "outputs": [
    {
     "name": "stdout",
     "output_type": "stream",
     "text": [
      "EXP_SUB_3\n",
      "EXP_SUB_2\n",
      "EXP_SUB_1\n",
      "EXPENSIVE\n",
      "EXP_ADD_1\n",
      "EXP_ADD_2\n",
      "EXP_ADD_3\n",
      "elapsed time: 0:03:51.656098\n"
     ]
    }
   ],
   "source": [
    "starttime = dt.datetime.now()\n",
    "ind_data = propval_samples[propval_indep_class]\n",
    "dep_data = propval_samples[all_metrics]\n",
    "x_train, x_test, y_train, y_test = train_test_split(ind_data, dep_data)\n",
    "predictions = []\n",
    "overfit = []\n",
    "scores = []\n",
    "for metric in all_metrics:\n",
    "    print(metric)\n",
    "    rf_model = RandomForestClassifier(n_estimators = 1000, max_depth = 10, min_samples_split = 100)\n",
    "    rf_model.fit(x_train, y_train[metric])\n",
    "    train_pred = rf_model.predict(x_train)\n",
    "    test_pred = rf_model.predict(x_test)\n",
    "    score_diff = accuracy_score(y_train[metric], train_pred) - accuracy_score(y_test[metric], test_pred)\n",
    "    predictions.append(test_pred)\n",
    "    overfit.append(score_diff)\n",
    "    scores.append(accuracy_score(y_train[metric], train_pred))\n",
    "print('elapsed time:', dt.datetime.now()-starttime)"
   ]
  },
  {
   "cell_type": "code",
   "execution_count": 114,
   "metadata": {},
   "outputs": [
    {
     "data": {
      "text/plain": [
       "[0.995213532227334,\n",
       " 0.9732097216413402,\n",
       " 0.9379385659184907,\n",
       " 0.8686974301779823,\n",
       " 0.9320832752451322,\n",
       " 0.9681444305032761,\n",
       " 0.9826200102235234]"
      ]
     },
     "execution_count": 114,
     "metadata": {},
     "output_type": "execute_result"
    }
   ],
   "source": [
    "scores"
   ]
  },
  {
   "cell_type": "code",
   "execution_count": 43,
   "metadata": {
    "scrolled": true
   },
   "outputs": [
    {
     "data": {
      "text/plain": [
       "array([ True,  True,  True, ...,  True,  True,  True])"
      ]
     },
     "execution_count": 43,
     "metadata": {},
     "output_type": "execute_result"
    }
   ],
   "source": [
    "predictions[0]"
   ]
  },
  {
   "cell_type": "code",
   "execution_count": 80,
   "metadata": {},
   "outputs": [],
   "source": [
    "#take an array of predictions as formed in the code above and return an array with the\n",
    "#bracket of each one\n",
    "def bracket_results(predictions):\n",
    "    anomaly = 0\n",
    "    switch = 0\n",
    "    bracket = []\n",
    "    #Check 1-6 not 1-7 because we consult the one above y as well\n",
    "    for x in range(len(predictions[0])):\n",
    "        #If we don't think the property will be >= 1 SD below mean borough valuation:\n",
    "        if predictions[0][x] == False:\n",
    "            bracket.append(-1)\n",
    "        #Otherwise assume it is valued >= 1 SD above mean borough valuation\n",
    "        else:\n",
    "            bracket.append(6)\n",
    "        for y in range(6):\n",
    "            if predictions[y][x] == False and predictions[y+1][x] == True:\n",
    "                anomaly += 1\n",
    "            #If we find a break, edit to the relevant bracket\n",
    "            if predictions[y][x] == True and predictions[y+1][x] == False:\n",
    "                switch += 1\n",
    "                bracket[-1] = y\n",
    "    return bracket, anomaly, switch"
   ]
  },
  {
   "cell_type": "code",
   "execution_count": 81,
   "metadata": {},
   "outputs": [],
   "source": [
    "bracket, anomaly, switch = bracket_results(predictions)"
   ]
  },
  {
   "cell_type": "code",
   "execution_count": 82,
   "metadata": {},
   "outputs": [
    {
     "data": {
      "text/plain": [
       "14347"
      ]
     },
     "execution_count": 82,
     "metadata": {},
     "output_type": "execute_result"
    }
   ],
   "source": [
    "len(predictions[0])"
   ]
  },
  {
   "cell_type": "code",
   "execution_count": 83,
   "metadata": {},
   "outputs": [],
   "source": [
    "results = {}\n",
    "for x in bracket:\n",
    "    if x not in results:\n",
    "        results[x] = 0\n",
    "    else:\n",
    "        results[x] += 1"
   ]
  },
  {
   "cell_type": "code",
   "execution_count": 84,
   "metadata": {},
   "outputs": [
    {
     "data": {
      "text/plain": [
       "{2: 6723, 3: 4848, 1: 1305, 5: 157, 0: 249, 4: 805, -1: 145, 6: 107}"
      ]
     },
     "execution_count": 84,
     "metadata": {},
     "output_type": "execute_result"
    }
   ],
   "source": [
    "results"
   ]
  },
  {
   "cell_type": "code",
   "execution_count": 76,
   "metadata": {
    "scrolled": true
   },
   "outputs": [
    {
     "data": {
      "text/plain": [
       "14347"
      ]
     },
     "execution_count": 76,
     "metadata": {},
     "output_type": "execute_result"
    }
   ],
   "source": [
    "len(bracket)"
   ]
  },
  {
   "cell_type": "code",
   "execution_count": 87,
   "metadata": {},
   "outputs": [
    {
     "data": {
      "text/plain": [
       "[array([ True,  True,  True, ...,  True,  True,  True]),\n",
       " array([ True,  True,  True, ...,  True,  True,  True]),\n",
       " array([ True,  True, False, ...,  True,  True,  True]),\n",
       " array([False,  True, False, ...,  True,  True, False]),\n",
       " array([False, False, False, ..., False, False, False]),\n",
       " array([False, False, False, ..., False, False, False]),\n",
       " array([False, False, False, ..., False, False, False])]"
      ]
     },
     "execution_count": 87,
     "metadata": {},
     "output_type": "execute_result"
    }
   ],
   "source": [
    "predictions"
   ]
  },
  {
   "cell_type": "code",
   "execution_count": 86,
   "metadata": {
    "scrolled": true
   },
   "outputs": [
    {
     "data": {
      "text/html": [
       "<div>\n",
       "<style scoped>\n",
       "    .dataframe tbody tr th:only-of-type {\n",
       "        vertical-align: middle;\n",
       "    }\n",
       "\n",
       "    .dataframe tbody tr th {\n",
       "        vertical-align: top;\n",
       "    }\n",
       "\n",
       "    .dataframe thead th {\n",
       "        text-align: right;\n",
       "    }\n",
       "</style>\n",
       "<table border=\"1\" class=\"dataframe\">\n",
       "  <thead>\n",
       "    <tr style=\"text-align: right;\">\n",
       "      <th></th>\n",
       "      <th>EXP_SUB_3</th>\n",
       "      <th>EXP_SUB_2</th>\n",
       "      <th>EXP_SUB_1</th>\n",
       "      <th>EXPENSIVE</th>\n",
       "      <th>EXP_ADD_1</th>\n",
       "      <th>EXP_ADD_2</th>\n",
       "      <th>EXP_ADD_3</th>\n",
       "    </tr>\n",
       "  </thead>\n",
       "  <tbody>\n",
       "    <tr>\n",
       "      <td>4515092</td>\n",
       "      <td>True</td>\n",
       "      <td>True</td>\n",
       "      <td>True</td>\n",
       "      <td>True</td>\n",
       "      <td>False</td>\n",
       "      <td>False</td>\n",
       "      <td>False</td>\n",
       "    </tr>\n",
       "    <tr>\n",
       "      <td>5381806</td>\n",
       "      <td>True</td>\n",
       "      <td>True</td>\n",
       "      <td>True</td>\n",
       "      <td>True</td>\n",
       "      <td>False</td>\n",
       "      <td>False</td>\n",
       "      <td>False</td>\n",
       "    </tr>\n",
       "    <tr>\n",
       "      <td>1717150</td>\n",
       "      <td>True</td>\n",
       "      <td>True</td>\n",
       "      <td>False</td>\n",
       "      <td>False</td>\n",
       "      <td>False</td>\n",
       "      <td>False</td>\n",
       "      <td>False</td>\n",
       "    </tr>\n",
       "    <tr>\n",
       "      <td>1337891</td>\n",
       "      <td>True</td>\n",
       "      <td>True</td>\n",
       "      <td>True</td>\n",
       "      <td>True</td>\n",
       "      <td>True</td>\n",
       "      <td>True</td>\n",
       "      <td>False</td>\n",
       "    </tr>\n",
       "    <tr>\n",
       "      <td>2361004</td>\n",
       "      <td>True</td>\n",
       "      <td>True</td>\n",
       "      <td>True</td>\n",
       "      <td>True</td>\n",
       "      <td>False</td>\n",
       "      <td>False</td>\n",
       "      <td>False</td>\n",
       "    </tr>\n",
       "    <tr>\n",
       "      <td>...</td>\n",
       "      <td>...</td>\n",
       "      <td>...</td>\n",
       "      <td>...</td>\n",
       "      <td>...</td>\n",
       "      <td>...</td>\n",
       "      <td>...</td>\n",
       "      <td>...</td>\n",
       "    </tr>\n",
       "    <tr>\n",
       "      <td>4275762</td>\n",
       "      <td>True</td>\n",
       "      <td>True</td>\n",
       "      <td>True</td>\n",
       "      <td>True</td>\n",
       "      <td>False</td>\n",
       "      <td>False</td>\n",
       "      <td>False</td>\n",
       "    </tr>\n",
       "    <tr>\n",
       "      <td>3031582</td>\n",
       "      <td>True</td>\n",
       "      <td>True</td>\n",
       "      <td>True</td>\n",
       "      <td>True</td>\n",
       "      <td>True</td>\n",
       "      <td>True</td>\n",
       "      <td>False</td>\n",
       "    </tr>\n",
       "    <tr>\n",
       "      <td>221537</td>\n",
       "      <td>True</td>\n",
       "      <td>True</td>\n",
       "      <td>True</td>\n",
       "      <td>True</td>\n",
       "      <td>False</td>\n",
       "      <td>False</td>\n",
       "      <td>False</td>\n",
       "    </tr>\n",
       "    <tr>\n",
       "      <td>5346242</td>\n",
       "      <td>True</td>\n",
       "      <td>True</td>\n",
       "      <td>True</td>\n",
       "      <td>False</td>\n",
       "      <td>False</td>\n",
       "      <td>False</td>\n",
       "      <td>False</td>\n",
       "    </tr>\n",
       "    <tr>\n",
       "      <td>3636854</td>\n",
       "      <td>True</td>\n",
       "      <td>True</td>\n",
       "      <td>True</td>\n",
       "      <td>False</td>\n",
       "      <td>False</td>\n",
       "      <td>False</td>\n",
       "      <td>False</td>\n",
       "    </tr>\n",
       "  </tbody>\n",
       "</table>\n",
       "<p>14347 rows × 7 columns</p>\n",
       "</div>"
      ],
      "text/plain": [
       "         EXP_SUB_3  EXP_SUB_2  EXP_SUB_1  EXPENSIVE  EXP_ADD_1  EXP_ADD_2  \\\n",
       "4515092       True       True       True       True      False      False   \n",
       "5381806       True       True       True       True      False      False   \n",
       "1717150       True       True      False      False      False      False   \n",
       "1337891       True       True       True       True       True       True   \n",
       "2361004       True       True       True       True      False      False   \n",
       "...            ...        ...        ...        ...        ...        ...   \n",
       "4275762       True       True       True       True      False      False   \n",
       "3031582       True       True       True       True       True       True   \n",
       "221537        True       True       True       True      False      False   \n",
       "5346242       True       True       True      False      False      False   \n",
       "3636854       True       True       True      False      False      False   \n",
       "\n",
       "         EXP_ADD_3  \n",
       "4515092      False  \n",
       "5381806      False  \n",
       "1717150      False  \n",
       "1337891      False  \n",
       "2361004      False  \n",
       "...            ...  \n",
       "4275762      False  \n",
       "3031582      False  \n",
       "221537       False  \n",
       "5346242      False  \n",
       "3636854      False  \n",
       "\n",
       "[14347 rows x 7 columns]"
      ]
     },
     "execution_count": 86,
     "metadata": {},
     "output_type": "execute_result"
    }
   ],
   "source": [
    "y_test"
   ]
  },
  {
   "cell_type": "code",
   "execution_count": 94,
   "metadata": {},
   "outputs": [],
   "source": [
    "results = []\n",
    "for x in y_test.columns:\n",
    "    results.append(y_test[x].values)"
   ]
  },
  {
   "cell_type": "code",
   "execution_count": 95,
   "metadata": {},
   "outputs": [
    {
     "data": {
      "text/plain": [
       "[array([ True,  True,  True, ...,  True,  True,  True]),\n",
       " array([ True,  True,  True, ...,  True,  True,  True]),\n",
       " array([ True,  True, False, ...,  True,  True,  True]),\n",
       " array([ True,  True, False, ...,  True, False, False]),\n",
       " array([False, False, False, ..., False, False, False]),\n",
       " array([False, False, False, ..., False, False, False]),\n",
       " array([False, False, False, ..., False, False, False])]"
      ]
     },
     "execution_count": 95,
     "metadata": {},
     "output_type": "execute_result"
    }
   ],
   "source": [
    "results"
   ]
  },
  {
   "cell_type": "code",
   "execution_count": 96,
   "metadata": {
    "scrolled": true
   },
   "outputs": [],
   "source": [
    "bracket_actual, anomaly_actual, switch_actual = bracket_results(results)"
   ]
  },
  {
   "cell_type": "code",
   "execution_count": 99,
   "metadata": {},
   "outputs": [],
   "source": [
    "divergence = []\n",
    "for x in range(len(bracket_actual)):\n",
    "    divergence.append(bracket_actual[x]-bracket[x])"
   ]
  },
  {
   "cell_type": "code",
   "execution_count": 108,
   "metadata": {},
   "outputs": [],
   "source": [
    "abs_divergence = [abs(num) for num in divergence]"
   ]
  },
  {
   "cell_type": "code",
   "execution_count": 118,
   "metadata": {},
   "outputs": [],
   "source": [
    "correct = 0\n",
    "within_1 = 0\n",
    "for x in abs_divergence:\n",
    "    if x == 0:\n",
    "        correct += 1\n",
    "    if x == 1:\n",
    "        within_1 += 1"
   ]
  },
  {
   "cell_type": "code",
   "execution_count": 119,
   "metadata": {},
   "outputs": [
    {
     "data": {
      "text/plain": [
       "0.6769359447968216"
      ]
     },
     "execution_count": 119,
     "metadata": {},
     "output_type": "execute_result"
    }
   ],
   "source": [
    "correct/len(abs_divergence)"
   ]
  },
  {
   "cell_type": "code",
   "execution_count": 120,
   "metadata": {},
   "outputs": [
    {
     "data": {
      "text/plain": [
       "0.9605492437443368"
      ]
     },
     "execution_count": 120,
     "metadata": {},
     "output_type": "execute_result"
    }
   ],
   "source": [
    "(within_1+correct)/len(abs_divergence)"
   ]
  },
  {
   "cell_type": "code",
   "execution_count": 110,
   "metadata": {},
   "outputs": [
    {
     "data": {
      "text/plain": [
       "0.3733881647731233"
      ]
     },
     "execution_count": 110,
     "metadata": {},
     "output_type": "execute_result"
    }
   ],
   "source": [
    "np.mean(abs_divergence)"
   ]
  },
  {
   "cell_type": "code",
   "execution_count": 111,
   "metadata": {},
   "outputs": [
    {
     "data": {
      "text/plain": [
       "0.7082802679267964"
      ]
     },
     "execution_count": 111,
     "metadata": {},
     "output_type": "execute_result"
    }
   ],
   "source": [
    "np.std(divergence)"
   ]
  },
  {
   "cell_type": "code",
   "execution_count": 112,
   "metadata": {},
   "outputs": [
    {
     "data": {
      "text/plain": [
       "0.00021428571428571427"
      ]
     },
     "execution_count": 112,
     "metadata": {},
     "output_type": "execute_result"
    }
   ],
   "source": [
    "3/14000"
   ]
  },
  {
   "cell_type": "code",
   "execution_count": 113,
   "metadata": {},
   "outputs": [
    {
     "data": {
      "text/plain": [
       "0.6769359447968216"
      ]
     },
     "execution_count": 113,
     "metadata": {},
     "output_type": "execute_result"
    }
   ],
   "source": [
    "accuracy_score(bracket_actual, bracket)"
   ]
  },
  {
   "cell_type": "code",
   "execution_count": 10,
   "metadata": {},
   "outputs": [
    {
     "data": {
      "text/plain": [
       "0.00021428571428571427"
      ]
     },
     "execution_count": 10,
     "metadata": {},
     "output_type": "execute_result"
    }
   ],
   "source": [
    "3/14000"
   ]
  },
  {
   "cell_type": "code",
   "execution_count": 5,
   "metadata": {},
   "outputs": [],
   "source": [
    "features = ['Gross sq. footage', 'ZIP code', 'Year built*', 'Community planning board #',\\\n",
    "           'Building frontage (ft)', 'Year of valuation', 'Land area', 'Lot frontage (ft)',\\\n",
    "           'Zoning code', 'Lot depth (ft)']\n",
    "weights = [.369, .127, .109, .107, .071, .067, .056, .043, .037, .014]"
   ]
  },
  {
   "cell_type": "code",
   "execution_count": 7,
   "metadata": {},
   "outputs": [],
   "source": [
    "features.reverse()\n",
    "weights.reverse()"
   ]
  },
  {
   "cell_type": "code",
   "execution_count": 9,
   "metadata": {},
   "outputs": [
    {
     "data": {
      "text/plain": [
       "Text(0, 0.5, 'Importance')"
      ]
     },
     "execution_count": 9,
     "metadata": {},
     "output_type": "execute_result"
    },
    {
     "data": {
      "image/png": "[encoded data removed]",
      "text/plain": [
       "<Figure size 432x288 with 1 Axes>"
      ]
     },
     "metadata": {
      "needs_background": "light"
     },
     "output_type": "display_data"
    }
   ],
   "source": [
    "plt.barh(features, weights)\n",
    "plt.title('Random Forest Classification feature importance')\n",
    "plt.xlabel('Features')\n",
    "plt.ylabel('Importance')"
   ]
  },
  {
   "cell_type": "code",
   "execution_count": 12,
   "metadata": {},
   "outputs": [
    {
     "data": {
      "text/plain": [
       "Index(['Unnamed: 0', 'Unnamed: 0.1', 'Unnamed: 0.1.1', 'BORO', 'BLOCK', 'LOT',\n",
       "       'SECVOL', 'DISTRICT', 'YEAR4', 'CUR_FV_L', 'CUR_FV_T', 'NEW_FV_L',\n",
       "       'NEW_FV_T', 'FV_CHGDT', 'CURAVL', 'CURAVT', 'CUREXL', 'CUREXT',\n",
       "       'CURAVL_A', 'CURAVT_A', 'CUREXL_A', 'CUREXT_A', 'CHGDT', 'TN_EXT',\n",
       "       'FCHGDT', 'FN_AVL', 'FN_AVT', 'FN_EXL', 'FN_EXT', 'FN_AVL_A',\n",
       "       'FN_AVT_A', 'FN_EXL_A', 'FN_EXT_A', 'ZIP', 'TOT_UNIT', 'RES_UNIT',\n",
       "       'LFRT_DEC', 'LDEP_DEC', 'BFRT_DEC', 'BDEP_DEC', 'STORY', 'LND_AREA',\n",
       "       'GR_SQFT', 'ZONING', 'YRB_FLAG', 'CP_BORO', 'CP_DIST', 'STATUS1',\n",
       "       'EX_INDS', 'EX_COUNT', 'DCHGDT', 'SM_CHGDT', 'CBN_TXCL1', 'CBN_TXCL0',\n",
       "       'CBN_TXCL1B', 'CBN_TXCL1A', 'BLDGCLA', 'BLDGCLB', 'BLDGCLC', 'BLDGCLR',\n",
       "       'BLDGCLV', 'BLDGCLS', 'EXTG', 'EXTEG', 'EXTE', 'YRB_NEW', 'YRB_OLD',\n",
       "       'EXP_SUB_3', 'EXP_SUB_2', 'EXP_SUB_1', 'EXPENSIVE', 'EXP_ADD_1',\n",
       "       'EXP_ADD_2', 'EXP_ADD_3'],\n",
       "      dtype='object')"
      ]
     },
     "execution_count": 12,
     "metadata": {},
     "output_type": "execute_result"
    }
   ],
   "source": [
    "propval.columns"
   ]
  },
  {
   "cell_type": "code",
   "execution_count": 7,
   "metadata": {},
   "outputs": [
    {
     "name": "stdout",
     "output_type": "stream",
     "text": [
      "complete\n"
     ]
    }
   ],
   "source": [
    "print('complete')"
   ]
  },
  {
   "cell_type": "code",
   "execution_count": 9,
   "metadata": {
    "scrolled": true
   },
   "outputs": [],
   "source": [
    "percent_of_mean = []\n",
    "for index, row in propval.iterrows():\n",
    "    percent_of_mean.append((row.FN_AVT_A/boro_means.FN_AVT_A[row.BORO])*100)"
   ]
  },
  {
   "cell_type": "code",
   "execution_count": 20,
   "metadata": {},
   "outputs": [],
   "source": [
    "propval['MEAN_PERCENT'] = percent_of_mean"
   ]
  },
  {
   "cell_type": "code",
   "execution_count": 22,
   "metadata": {},
   "outputs": [
    {
     "data": {
      "text/plain": [
       "Text(0, 0.5, 'Number of properties')"
      ]
     },
     "execution_count": 22,
     "metadata": {},
     "output_type": "execute_result"
    },
    {
     "data": {
      "image/png": "[encoded data removed]",
      "text/plain": [
       "<Figure size 432x288 with 1 Axes>"
      ]
     },
     "metadata": {
      "needs_background": "light"
     },
     "output_type": "display_data"
    }
   ],
   "source": [
    "plt.hist(propval.MEAN_PERCENT, range = (0, 300), bins = 50)\n",
    "plt.title('Property valuation (percent of mean)')\n",
    "plt.xlabel('Percent of mean borough valuation')\n",
    "plt.ylabel('Number of properties')"
   ]
  },
  {
   "cell_type": "code",
   "execution_count": 23,
   "metadata": {},
   "outputs": [],
   "source": [
    "man_data = propval[propval.BORO == 1]"
   ]
  },
  {
   "cell_type": "code",
   "execution_count": 25,
   "metadata": {},
   "outputs": [],
   "source": [
    "zip_man = man_data.groupby(['ZIP']).mean()"
   ]
  },
  {
   "cell_type": "code",
   "execution_count": 32,
   "metadata": {},
   "outputs": [
    {
     "data": {
      "text/plain": [
       "Text(0, 0.5, 'Mean valuation')"
      ]
     },
     "execution_count": 32,
     "metadata": {},
     "output_type": "execute_result"
    },
    {
     "data": {
      "image/png": "[encoded data removed]",
      "text/plain": [
       "<Figure size 432x288 with 1 Axes>"
      ]
     },
     "metadata": {
      "needs_background": "light"
     },
     "output_type": "display_data"
    }
   ],
   "source": [
    "plt.scatter(x = zip_man.index, y = zip_man.FN_AVT_A)\n",
    "plt.xlim(9950, 10150)\n",
    "plt.title('Manhattan mean valuation by ZIP code')\n",
    "plt.xlabel('ZIP code')\n",
    "plt.ylabel('Mean valuation')"
   ]
  },
  {
   "cell_type": "code",
   "execution_count": 36,
   "metadata": {},
   "outputs": [
    {
     "data": {
      "text/plain": [
       "40"
      ]
     },
     "execution_count": 36,
     "metadata": {},
     "output_type": "execute_result"
    }
   ],
   "source": [
    "len(man_data.ZIP.value_counts())"
   ]
  },
  {
   "cell_type": "code",
   "execution_count": null,
   "metadata": {},
   "outputs": [],
   "source": []
  }
 ],
 "metadata": {
  "kernelspec": {
   "display_name": "Python 3",
   "language": "python",
   "name": "python3"
  },
  "language_info": {
   "codemirror_mode": {
    "name": "ipython",
    "version": 3
   },
   "file_extension": ".py",
   "mimetype": "text/x-python",
   "name": "python",
   "nbconvert_exporter": "python",
   "pygments_lexer": "ipython3",
   "version": "3.7.4"
  }
 },
 "nbformat": 4,
 "nbformat_minor": 2
}
