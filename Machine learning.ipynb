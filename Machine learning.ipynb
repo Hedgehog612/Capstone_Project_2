{
 "cells": [
  {
   "cell_type": "code",
   "execution_count": 2,
   "metadata": {},
   "outputs": [],
   "source": [
    "import pandas as pd\n",
    "import numpy as np\n",
    "from sklearn.ensemble import RandomForestClassifier, RandomForestRegressor, ExtraTreesClassifier\n",
    "from sklearn import model_selection, svm, datasets\n",
    "from sklearn.model_selection import cross_val_score, train_test_split\n",
    "from sklearn.metrics import confusion_matrix\n",
    "from sklearn.datasets import make_classification\n",
    "import datetime as dt\n",
    "import importlib as il\n",
    "import matplotlib.pyplot as plt"
   ]
  },
  {
   "cell_type": "code",
   "execution_count": 3,
   "metadata": {},
   "outputs": [
    {
     "data": {
      "text/plain": [
       "['ExtraTreesClassifier',\n",
       " 'RandomForestClassifier',\n",
       " 'RandomForestRegressor',\n",
       " '__builtins__',\n",
       " '__cached__',\n",
       " '__doc__',\n",
       " '__file__',\n",
       " '__loader__',\n",
       " '__name__',\n",
       " '__package__',\n",
       " '__spec__',\n",
       " 'confusion_matrix',\n",
       " 'cross_val_score',\n",
       " 'datasets',\n",
       " 'dt',\n",
       " 'make_classification',\n",
       " 'model_selection',\n",
       " 'np',\n",
       " 'rand_find_depth',\n",
       " 'randfor_class_report',\n",
       " 'randfor_class_talk',\n",
       " 'randfor_reg_report',\n",
       " 'randfor_reg_talk',\n",
       " 'sklearn',\n",
       " 'svm',\n",
       " 'test_multiple_samples',\n",
       " 'train_test_split',\n",
       " 'tree_vis']"
      ]
     },
     "execution_count": 3,
     "metadata": {},
     "output_type": "execute_result"
    }
   ],
   "source": [
    "#My own functions to make random forest modeling easier.\n",
    "import randfor_functions as rf\n",
    "dir(rf)\n",
    "#find optimal depth for a random forest classifier\n",
    "#run random forest classifier and get info\n",
    "#run random forest classifier and print info\n",
    "#run random forest regressor and get info\n",
    "#run random forest regressor and print info\n",
    "#visualize classifier"
   ]
  },
  {
   "cell_type": "code",
   "execution_count": 177,
   "metadata": {},
   "outputs": [
    {
     "data": {
      "text/plain": [
       "<module 'randfor_functions' from 'C:\\\\Users\\\\marcu\\\\Dropbox\\\\Capstone_2\\\\randfor_functions.py'>"
      ]
     },
     "execution_count": 177,
     "metadata": {},
     "output_type": "execute_result"
    }
   ],
   "source": [
    "#Run this to reload the rf module after I make changes\n",
    "il.reload(rf)"
   ]
  },
  {
   "cell_type": "code",
   "execution_count": 4,
   "metadata": {
    "scrolled": true
   },
   "outputs": [
    {
     "name": "stderr",
     "output_type": "stream",
     "text": [
      "C:\\Users\\marcu\\Anaconda3\\lib\\site-packages\\IPython\\core\\interactiveshell.py:3058: DtypeWarning: Columns (13,18,35,58,61,62,63) have mixed types. Specify dtype option on import or set low_memory=False.\n",
      "  interactivity=interactivity, compiler=compiler, result=result)\n"
     ]
    },
    {
     "name": "stdout",
     "output_type": "stream",
     "text": [
      "elapsed time: 0:01:22.633613\n"
     ]
    }
   ],
   "source": [
    "starttime = dt.datetime.now()\n",
    "propval = pd.read_csv('clean_propval.csv')\n",
    "print('elapsed time:', dt.datetime.now()-starttime)"
   ]
  },
  {
   "cell_type": "code",
   "execution_count": null,
   "metadata": {
    "scrolled": true
   },
   "outputs": [],
   "source": [
    "propval.head()"
   ]
  },
  {
   "cell_type": "code",
   "execution_count": null,
   "metadata": {},
   "outputs": [],
   "source": [
    "#Start with runnning what we can"
   ]
  },
  {
   "cell_type": "code",
   "execution_count": null,
   "metadata": {
    "scrolled": false
   },
   "outputs": [],
   "source": [
    "#TODO:Check these\n",
    "#ind_vars = propval[['BORO', 'BLOCK', 'LOT', 'SECVOL', 'YRB', 'LND_AREA', 'STORY',\n",
    "#                   'ZIP', 'YRA1', 'PROTEST0',\n",
    "#                   'PROTEST1', 'PROTEST5', 'PROTEST6', 'PROTEST8', 'PROTEST9',\n",
    "#                   'PROTEST1L', 'PROTEST6L', 'PROTEST6NL', 'PROTEST6E',\n",
    "#                   'PROTEST8L', 'TN_AVT_A']]\n",
    "#ind_vars = propval[['BORO', 'BLOCK', 'LOT', 'SECVOL', 'YRB', 'LND_AREA',\n",
    "#                   'ZIP', 'YRA1', 'PROTEST0', 'TN_AVT_A']]\n",
    "#dep_vars = propval['FN_AVT_A']"
   ]
  },
  {
   "cell_type": "code",
   "execution_count": null,
   "metadata": {},
   "outputs": [],
   "source": [
    "#Due to space issues, we're going to test one borough at a time"
   ]
  },
  {
   "cell_type": "code",
   "execution_count": 6,
   "metadata": {},
   "outputs": [],
   "source": [
    "man_propval = propval[propval.BORO == 1]\n",
    "bron_propval = propval[propval.BORO == 2]\n",
    "broo_propval = propval[propval.BORO == 3]\n",
    "que_propval = propval[propval.BORO == 4]\n",
    "sta_propval = propval[propval.BORO == 5]"
   ]
  },
  {
   "cell_type": "code",
   "execution_count": 44,
   "metadata": {},
   "outputs": [],
   "source": [
    "boro_propval = [man_propval, bron_propval, broo_propval, que_propval, sta_propval]\n",
    "boro_names = ['Manhattan', 'Bronx', 'Brooklyn', 'Queens', 'Staten Island']"
   ]
  },
  {
   "cell_type": "code",
   "execution_count": 8,
   "metadata": {},
   "outputs": [
    {
     "name": "stdout",
     "output_type": "stream",
     "text": [
      "50598\n",
      "631435\n",
      "1738549\n",
      "2331166\n",
      "986727\n"
     ]
    }
   ],
   "source": [
    "for x in boro_propval:\n",
    "    print(len(x))"
   ]
  },
  {
   "cell_type": "code",
   "execution_count": 9,
   "metadata": {
    "scrolled": false
   },
   "outputs": [
    {
     "name": "stderr",
     "output_type": "stream",
     "text": [
      "C:\\Users\\marcu\\Anaconda3\\lib\\site-packages\\ipykernel_launcher.py:3: UserWarning: Pandas doesn't allow columns to be created via a new attribute name - see https://pandas.pydata.org/pandas-docs/stable/indexing.html#attribute-access\n",
      "  This is separate from the ipykernel package so we can avoid doing imports until\n"
     ]
    }
   ],
   "source": [
    "for boro in boro_propval:\n",
    "    boro_mean = np.mean(boro.FN_AVT_A)\n",
    "    boro.EXPENSIVE = boro.FN_AVT_A >= boro_mean"
   ]
  },
  {
   "cell_type": "code",
   "execution_count": 119,
   "metadata": {},
   "outputs": [],
   "source": [
    "propval_mean = np.mean(propval.FN_AVT_A)\n",
    "propval['EXPENSIVE'] = propval['FN_AVT_A'] >= propval_mean"
   ]
  },
  {
   "cell_type": "code",
   "execution_count": 10,
   "metadata": {
    "scrolled": true
   },
   "outputs": [
    {
     "name": "stdout",
     "output_type": "stream",
     "text": [
      "False    32621\n",
      "True     17977\n",
      "Name: FN_AVT_A, dtype: int64\n",
      "False    330598\n",
      "True     300837\n",
      "Name: FN_AVT_A, dtype: int64\n",
      "False    988462\n",
      "True     750087\n",
      "Name: FN_AVT_A, dtype: int64\n",
      "False    1356534\n",
      "True      974632\n",
      "Name: FN_AVT_A, dtype: int64\n",
      "False    548966\n",
      "True     437761\n",
      "Name: FN_AVT_A, dtype: int64\n"
     ]
    }
   ],
   "source": [
    "#Overall the expensive metric looks to be a good classifier. Least even with manhattan data,\n",
    "#but still over 1/3 of the data.\n",
    "for boro in boro_propval:\n",
    "    print(boro.EXPENSIVE.value_counts())"
   ]
  },
  {
   "cell_type": "code",
   "execution_count": null,
   "metadata": {},
   "outputs": [],
   "source": []
  },
  {
   "cell_type": "code",
   "execution_count": 205,
   "metadata": {},
   "outputs": [],
   "source": [
    "ind_names = ['BLOCK', 'LOT', 'SECVOL', 'YRB', 'LND_AREA', 'YRA1', 'PROTEST0']\n",
    "def get_class_vars(data, ind_names):\n",
    "    ind_vars = data[ind_names]\n",
    "    dep_vars = data.EXPENSIVE\n",
    "    return ind_vars, dep_vars\n",
    "\n",
    "def get_reg_vars(data, ind_names):\n",
    "    ind_cla_vars = data[ind_names]\n",
    "    dep_cla_vars = data.FN_AVT_A\n",
    "    return ind_vars, dep_vars"
   ]
  },
  {
   "cell_type": "code",
   "execution_count": 52,
   "metadata": {},
   "outputs": [],
   "source": [
    "ind_vars, dep_vars = get_class_vars(man_propval)"
   ]
  },
  {
   "cell_type": "code",
   "execution_count": 53,
   "metadata": {
    "scrolled": false
   },
   "outputs": [
    {
     "name": "stdout",
     "output_type": "stream",
     "text": [
      "train score: 0.9366765046906292\n",
      "test score: 0.9284584980237154\n",
      "f1 score 0.8995448995448997\n",
      "confusion_matrix:\n",
      "[[7693  453]\n",
      " [ 452 4052]]\n",
      "precision score: 0.8994450610432853\n",
      "recall score: 0.8996447602131439\n",
      "columns: 7\n",
      "rows: 50598\n",
      "total data: 354186\n",
      "feature importances:\n",
      "BLOCK: 0.5152191220269963\n",
      "SECVOL: 0.2594833655162945\n",
      "LND_AREA: 0.11275374906304683\n",
      "YRA1: 0.06382840726531648\n",
      "LOT: 0.03131294058985393\n",
      "YRB: 0.015428964103437748\n",
      "PROTEST0: 0.0019734514350542736\n",
      "elapsed time: 0:00:46.097949\n"
     ]
    }
   ],
   "source": [
    "rf.randfor_class_talk(ind_vars, dep_vars, 1000, 20, None, 100)"
   ]
  },
  {
   "cell_type": "code",
   "execution_count": 54,
   "metadata": {
    "scrolled": false
   },
   "outputs": [],
   "source": [
    "ind_vars, dep_vars = get_reg_vars(man_propval)"
   ]
  },
  {
   "cell_type": "code",
   "execution_count": 55,
   "metadata": {
    "scrolled": true
   },
   "outputs": [
    {
     "name": "stdout",
     "output_type": "stream",
     "text": [
      "r score(train data): 0.8776282371669062\n",
      "r score (test data): 0.8584110278989355\n",
      "feature importances\n",
      "BLOCK: 0.49235889330091576\n",
      "LND_AREA: 0.2471562676556133\n",
      "SECVOL: 0.18613356667969574\n",
      "YRA1: 0.036420522990363496\n",
      "LOT: 0.021897023072822507\n",
      "YRB: 0.01236403047909034\n",
      "PROTEST0: 0.003669695821498877\n",
      "elapsed time: 0:00:59.830646\n"
     ]
    }
   ],
   "source": [
    "rf.randfor_reg_talk(ind_vars, man_propval.FN_AVT_A, 1000, 20, None, 100)"
   ]
  },
  {
   "cell_type": "code",
   "execution_count": null,
   "metadata": {},
   "outputs": [],
   "source": [
    "#According to these results, BLOCK and SECVOL are pretty important. I haven't been able to determine\n",
    "#what SECVOL is, but I suspect it's geographical, so I'm excluding it from the data\n",
    "#in favor of BLOCK. LND_AREA is pretty valuable, but year built is actually less important\n",
    "#than year of alteration. Also, I see that protest and lot have almost no value. The YRB thing may\n",
    "#be because I picked a bad fill for the YRB zeroes, but when they take only 5% of the dataset,\n",
    "#it shouldn't be a big issue."
   ]
  },
  {
   "cell_type": "code",
   "execution_count": null,
   "metadata": {},
   "outputs": [],
   "source": [
    "#Valuable features:\n",
    "#BLOCK, LND_AREA\n",
    "#YRA1"
   ]
  },
  {
   "cell_type": "code",
   "execution_count": null,
   "metadata": {},
   "outputs": [],
   "source": [
    "#Irrelevant features:\n",
    "#SECVOL, ZIP, YEAR4, STORY, PROTEST0, YRB, L_ACRE"
   ]
  },
  {
   "cell_type": "code",
   "execution_count": 78,
   "metadata": {},
   "outputs": [
    {
     "name": "stdout",
     "output_type": "stream",
     "text": [
      "train score: 0.9265046906292822\n",
      "test score: 0.9189723320158103\n",
      "f1 score 0.8870772281590834\n",
      "confusion_matrix:\n",
      "[[7599  518]\n",
      " [ 507 4026]]\n",
      "precision score: 0.8860035211267606\n",
      "recall score: 0.8881535407015222\n",
      "columns: 3\n",
      "rows: 50598\n",
      "total data: 151794\n",
      "feature importances:\n",
      "BLOCK: 0.8054197753238714\n",
      "LND_AREA: 0.12477866877137987\n",
      "YRA1: 0.06980155590474867\n",
      "elapsed time: 0:00:26.361522\n"
     ]
    }
   ],
   "source": [
    "ind_names = ['BLOCK', 'LND_AREA', 'YRA1']\n",
    "ind_vars, dep_vars = get_class_vars(man_propval)\n",
    "rf.randfor_class_talk(ind_vars, dep_vars, 1000, 20, None, 100)"
   ]
  },
  {
   "cell_type": "code",
   "execution_count": 31,
   "metadata": {},
   "outputs": [
    {
     "name": "stdout",
     "output_type": "stream",
     "text": [
      "r score(train data): 0.7780581697390327\n",
      "r score (test data): 0.766040156513421\n",
      "BORO 0.6381318954536392\n",
      "BLOCK 0.26611486524380734\n",
      "LOT 0.09575323930255346\n",
      "SECVOL 0.0\n",
      "elapsed time: 0:00:36.321338\n"
     ]
    }
   ],
   "source": [
    "rf.randfor_reg_talk(ind_vars, man_propval.FN_AVT_A, 1000, 20, None, 100)"
   ]
  },
  {
   "cell_type": "code",
   "execution_count": null,
   "metadata": {},
   "outputs": [],
   "source": []
  },
  {
   "cell_type": "code",
   "execution_count": null,
   "metadata": {},
   "outputs": [],
   "source": [
    "#Secvol is complely useless here, which is interesting. I'm thinking it's probably not worth\n",
    "#including going forward."
   ]
  },
  {
   "cell_type": "code",
   "execution_count": null,
   "metadata": {},
   "outputs": [],
   "source": [
    "#Next: Check what happens when I add in tentative valuation."
   ]
  },
  {
   "cell_type": "code",
   "execution_count": 42,
   "metadata": {},
   "outputs": [
    {
     "name": "stdout",
     "output_type": "stream",
     "text": [
      "train score: 1.0\n",
      "test score: 1.0\n",
      "f1 score 1.0\n",
      "confusion_matrix:\n",
      "[[8089    0]\n",
      " [   0 4561]]\n",
      "precision score: 1.0\n",
      "recall score: 1.0\n",
      "columns: 4\n",
      "rows: 50598\n",
      "total data: 202392\n",
      "feature importances:\n",
      "BORO: 1.0\n",
      "BLOCK: 0.0\n",
      "LOT: 0.0\n",
      "TN_AVT_A: 0.0\n",
      "elapsed time: 0:00:10.119749\n"
     ]
    }
   ],
   "source": [
    "ind_names = ['BORO', 'BLOCK', 'LOT', 'TN_AVT_A']\n",
    "ind_vars, dep_vars = get_class_vars(man_propval)\n",
    "rf.randfor_class_talk(ind_vars, dep_vars, 1000, 20, None, 100)"
   ]
  },
  {
   "cell_type": "code",
   "execution_count": 37,
   "metadata": {
    "scrolled": true
   },
   "outputs": [
    {
     "name": "stdout",
     "output_type": "stream",
     "text": [
      "r score(train data): 0.9938870815449526\n",
      "r score (test data): 0.9901967952493277\n",
      "BORO 0.9999999991312722\n",
      "BLOCK 8.681832425389132e-10\n",
      "LOT 5.44482389288644e-13\n",
      "TN_AVT_A 0.0\n",
      "elapsed time: 0:00:44.432751\n"
     ]
    }
   ],
   "source": [
    "rf.randfor_reg_talk(ind_vars, man_propval.FN_AVT_A, 1000, 20, None, 100)"
   ]
  },
  {
   "cell_type": "code",
   "execution_count": null,
   "metadata": {},
   "outputs": [],
   "source": [
    "#After reviewing 1976 US code supplement 1, page 584, section 10785, it looks like the\n",
    "#tentative valuation becomes final unless contested by a protest within 30 days, so in most cases\n",
    "#this is just the exact final value. Not much point there, but I will note that this seems to\n",
    "#break the feature weighting. Not sure what's going on there."
   ]
  },
  {
   "cell_type": "code",
   "execution_count": null,
   "metadata": {},
   "outputs": [],
   "source": [
    "#So far, location seems to be far and away the most important factor. We'll see if this holds\n",
    "#for the other boroughs."
   ]
  },
  {
   "cell_type": "code",
   "execution_count": 79,
   "metadata": {},
   "outputs": [
    {
     "name": "stdout",
     "output_type": "stream",
     "text": [
      "Manhattan\n",
      "------------------------\n",
      "train score: 0.8958574891957416\n",
      "test score: 0.8979446640316205\n",
      "f1 score 0.8561239273375683\n",
      "confusion_matrix:\n",
      "[[7518  630]\n",
      " [ 661 3841]]\n",
      "precision score: 0.8590919257436815\n",
      "recall score: 0.8531763660595291\n",
      "columns: 3\n",
      "rows: 50598\n",
      "total data: 151794\n",
      "feature importances:\n",
      "BLOCK: 0.8389062598241377\n",
      "LND_AREA: 0.09250631869483918\n",
      "YRA1: 0.06858742148102318\n",
      "elapsed time: 0:00:01.716437\n",
      "------------------------\n",
      "Bronx\n",
      "------------------------\n",
      "train score: 0.7257018936770444\n",
      "test score: 0.7252484812395872\n",
      "f1 score 0.7126273803055801\n",
      "confusion_matrix:\n",
      "[[60710 21797]\n",
      " [21575 53777]]\n",
      "precision score: 0.7115807023579538\n",
      "recall score: 0.7136771419471282\n",
      "columns: 3\n",
      "rows: 631435\n",
      "total data: 1894305\n",
      "feature importances:\n",
      "BLOCK: 0.5640241890290606\n",
      "LND_AREA: 0.4314486029279496\n",
      "YRA1: 0.004527208042989775\n",
      "elapsed time: 0:00:51.044611\n",
      "------------------------\n",
      "Brooklyn\n",
      "------------------------\n",
      "train score: 0.8150456587911291\n",
      "test score: 0.8153681914604798\n",
      "f1 score 0.781105601108547\n",
      "confusion_matrix:\n",
      "[[211211  35886]\n",
      " [ 44362 143179]]\n",
      "precision score: 0.7995923268087007\n",
      "recall score: 0.7634543913064343\n",
      "columns: 3\n",
      "rows: 1738549\n",
      "total data: 5215647\n",
      "feature importances:\n",
      "BLOCK: 0.7015516384753153\n",
      "LND_AREA: 0.280140733724718\n",
      "YRA1: 0.018307627799966742\n",
      "elapsed time: 0:04:28.396823\n",
      "------------------------\n",
      "Queens\n",
      "------------------------\n",
      "train score: 0.8149715106722017\n",
      "test score: 0.8147623852077586\n",
      "f1 score 0.7752141041150883\n",
      "confusion_matrix:\n",
      "[[288686  50506]\n",
      " [ 57449 186151]]\n",
      "precision score: 0.7865856492729985\n",
      "recall score: 0.7641666666666667\n",
      "columns: 3\n",
      "rows: 2331166\n",
      "total data: 6993498\n",
      "feature importances:\n",
      "BLOCK: 0.7352036878298349\n",
      "LND_AREA: 0.2552531218387866\n",
      "YRA1: 0.009543190331378515\n",
      "elapsed time: 0:07:40.688604\n",
      "------------------------\n",
      "Staten Island\n",
      "------------------------\n",
      "train score: 0.8155490544493916\n",
      "test score: 0.8140683146723312\n",
      "f1 score 0.7988121556655086\n",
      "confusion_matrix:\n",
      "[[109761  27800]\n",
      " [ 18066  91055]]\n",
      "precision score: 0.7661015523116402\n",
      "recall score: 0.8344406667827458\n",
      "columns: 3\n",
      "rows: 986727\n",
      "total data: 2960181\n",
      "feature importances:\n",
      "LND_AREA: 0.5535643059119347\n",
      "BLOCK: 0.44027795973371703\n",
      "YRA1: 0.00615773435434817\n",
      "elapsed time: 0:02:01.622958\n",
      "------------------------\n"
     ]
    }
   ],
   "source": [
    "#Going to run a full check to verify that these remain roughly as important across all five boroughs.\n",
    "#Crude forest, but it'll tell me the essentials.\n",
    "ind_names = ['BLOCK', 'LND_AREA', 'YRA1']\n",
    "for boro in range(len(boro_propval)):\n",
    "    print(boro_names[boro])\n",
    "    print('------------------------')\n",
    "    ind_vars, dep_vars = get_class_vars(boro_propval[boro])\n",
    "    rf.randfor_class_talk(ind_vars, dep_vars, 75, 10, None, 500)\n",
    "    print('------------------------')"
   ]
  },
  {
   "cell_type": "code",
   "execution_count": null,
   "metadata": {},
   "outputs": [],
   "source": [
    "#Simplest possible approach: \n",
    "#Assume data is similar"
   ]
  },
  {
   "cell_type": "code",
   "execution_count": null,
   "metadata": {},
   "outputs": [],
   "source": [
    "#Todo: Check corellation coefficient for geographical data\n",
    "#Value leakage: protest based on final valuation?\n",
    "#Convert datetimes to strings, on the fly convert to datetime for running operations"
   ]
  },
  {
   "cell_type": "code",
   "execution_count": null,
   "metadata": {},
   "outputs": [],
   "source": [
    "#Block and land area continue to be relevant, but how much varies. Bronx, in particular,\n",
    "#seems like it needs a better model. Total elapsed time to run this model for five separate \n",
    "#boroughs: ~15 minutes. I'm going to try again with the full propval and see how long this takes."
   ]
  },
  {
   "cell_type": "code",
   "execution_count": 82,
   "metadata": {},
   "outputs": [
    {
     "name": "stdout",
     "output_type": "stream",
     "text": [
      "train score: 0.8453946879263619\n",
      "test score: 0.8393963832906158\n",
      "f1 score 0.7847557301470898\n",
      "confusion_matrix:\n",
      "[[784199  97548]\n",
      " [132857 420015]]\n",
      "precision score: 0.8115243941317289\n",
      "recall score: 0.7596966386433026\n",
      "columns: 3\n",
      "rows: 5738475\n",
      "total data: 17215425\n",
      "feature importances:\n",
      "BLOCK: 0.6425262044754158\n",
      "LND_AREA: 0.3307427377558141\n",
      "YRA1: 0.0267310577687702\n",
      "elapsed time: 6:39:16.351033\n"
     ]
    }
   ],
   "source": [
    "ind_vars, dep_vars = get_class_vars(propval)\n",
    "rf.randfor_class_talk(ind_vars, dep_vars, 1000, 20, None, 100)"
   ]
  },
  {
   "cell_type": "code",
   "execution_count": null,
   "metadata": {},
   "outputs": [],
   "source": []
  },
  {
   "cell_type": "code",
   "execution_count": 121,
   "metadata": {},
   "outputs": [],
   "source": [
    "propval_samples = []\n",
    "for x in range(10):\n",
    "    propval_samples.append(propval.sample(frac = .01, replace = False))"
   ]
  },
  {
   "cell_type": "code",
   "execution_count": 122,
   "metadata": {},
   "outputs": [],
   "source": [
    "ind_names = ['BORO', 'BLOCK', 'LND_AREA', 'YRB']"
   ]
  },
  {
   "cell_type": "code",
   "execution_count": 129,
   "metadata": {},
   "outputs": [],
   "source": [
    "test = {1:'one', 2:'two', 3:'three'}"
   ]
  },
  {
   "cell_type": "code",
   "execution_count": 131,
   "metadata": {},
   "outputs": [
    {
     "name": "stdout",
     "output_type": "stream",
     "text": [
      "1\n",
      "one\n",
      "2\n",
      "two\n",
      "3\n",
      "three\n"
     ]
    }
   ],
   "source": [
    "for n in test:\n",
    "    print(n)\n",
    "    print(test[n])"
   ]
  },
  {
   "cell_type": "code",
   "execution_count": null,
   "metadata": {},
   "outputs": [],
   "source": []
  },
  {
   "cell_type": "code",
   "execution_count": 136,
   "metadata": {},
   "outputs": [
    {
     "name": "stdout",
     "output_type": "stream",
     "text": [
      "test complete\n",
      "test complete\n",
      "test complete\n",
      "test complete\n",
      "test complete\n",
      "test complete\n",
      "test complete\n",
      "test complete\n",
      "test complete\n",
      "test complete\n",
      "train scores mean, std:  0.8526952925321808 ,  0.0010987143317246\n",
      "test scores mean, std:  0.8371854743151879 ,  0.0027844561208039673\n",
      "f1 scores mean, std:  0.7845364236615975 ,  0.003590957928846188\n",
      "feature weights mean, std:\n",
      "LND_AREA :  0.4010715874060331 ,  0.006870920592105572\n",
      "YRB :  0.21710914777524323 ,  0.003921618465457078\n",
      "BORO :  0.2048680324221542 ,  0.002832978517139833\n",
      "BLOCK :  0.1769512323965694 ,  0.006531811438680351\n",
      "elapsed time:  0:10:19.443745\n"
     ]
    }
   ],
   "source": [
    "train_scores = []\n",
    "test_scores = []\n",
    "f1_scores = []\n",
    "feature_weights = {}\n",
    "starttime = dt.datetime.now()\n",
    "for x in range(len(propval_samples)):\n",
    "    ind_vars, dep_vars = get_class_vars(propval_samples[x])\n",
    "    train_score, test_score, f1_score, cm, precision_score, recall_score, importances, indices =\\\n",
    "    rf.randfor_class_report(ind_vars, dep_vars, 1000, 20, None, 100)\n",
    "    train_scores.append(train_score)\n",
    "    test_scores.append(test_score)\n",
    "    f1_scores.append(f1_score)\n",
    "    for f in range(len(indices)):\n",
    "        if indices[f] not in feature_weights:\n",
    "            feature_weights[indices[f]] = [importances[indices[f]]]\n",
    "        else:\n",
    "            feature_weights[indices[f]].append(importances[indices[f]])\n",
    "    print('test complete')\n",
    "print('train scores mean, std: ', np.mean(train_scores), ', ', np.std(train_scores))\n",
    "print('test scores mean, std: ', np.mean(test_scores), ', ', np.std(test_scores))\n",
    "print('f1 scores mean, std: ', np.mean(f1_scores), ', ', np.std(f1_scores))\n",
    "print('feature weights mean, std:')\n",
    "for f in feature_weights:\n",
    "    print(ind_vars.columns[indices[f]], ': ', np.mean(feature_weights[f]), ', ',np.std(feature_weights[f]))\n",
    "print('elapsed time: ', dt.datetime.now()-starttime)"
   ]
  },
  {
   "cell_type": "code",
   "execution_count": 139,
   "metadata": {},
   "outputs": [],
   "source": [
    "ind_names = ['ZIP', 'LND_AREA', 'YRB']"
   ]
  },
  {
   "cell_type": "code",
   "execution_count": 143,
   "metadata": {
    "scrolled": true
   },
   "outputs": [
    {
     "name": "stdout",
     "output_type": "stream",
     "text": [
      "test complete\n",
      "test complete\n",
      "test complete\n",
      "test complete\n",
      "test complete\n",
      "test complete\n",
      "test complete\n",
      "test complete\n",
      "test complete\n",
      "test complete\n",
      "train scores mean, std:  0.8385101538175566 ,  0.001617041977700226\n",
      "test scores mean, std:  0.8236425733602843 ,  0.0021518986147834886\n",
      "f1 scores mean, std:  0.7646996361579047 ,  0.004658471753282114\n",
      "feature weights mean, std:\n",
      "ZIP :  0.5156208572965355 ,  0.004517429985682256\n",
      "LND_AREA :  0.2618801428147548 ,  0.003013750068880934\n",
      "YRB :  0.22249899988870978 ,  0.0040514430835339186\n",
      "elapsed time:  0:07:45.079431\n"
     ]
    }
   ],
   "source": [
    "test_multiple_samples(propval_samples, ind_names, 1000, 20, None, 100)"
   ]
  },
  {
   "cell_type": "code",
   "execution_count": null,
   "metadata": {},
   "outputs": [],
   "source": [
    "#Looks like a random sample will give us pretty good data with minimal variation. Impressive."
   ]
  },
  {
   "cell_type": "code",
   "execution_count": null,
   "metadata": {},
   "outputs": [],
   "source": [
    "#OK: We want to avoid data corellation. BLOCK and BORO overlap because manhattan never goes above\n",
    "#2255 but bronx has almost 6K, brooklyn and staten 8K, Queens 16. ZIP avoids that, but is less\n",
    "#precise.\n",
    "#BLOCK is the most precise but also overlapps. \n",
    "#Splitting the data up by borough and modeling each one independently creates its own, worse problems.\n"
   ]
  },
  {
   "cell_type": "code",
   "execution_count": null,
   "metadata": {},
   "outputs": [],
   "source": [
    "#Trying to keep these tests free of corellation. ZIP has the geographical component.\n",
    "#LND_AREA has the land-area component. YRB has the year constructed. YEAR4 has the year evaluated,\n",
    "#which is a little more dubious to include but still valuable data."
   ]
  },
  {
   "cell_type": "code",
   "execution_count": 159,
   "metadata": {},
   "outputs": [
    {
     "name": "stdout",
     "output_type": "stream",
     "text": [
      "test complete\n",
      "test complete\n",
      "test complete\n",
      "test complete\n",
      "test complete\n",
      "test complete\n",
      "test complete\n",
      "test complete\n",
      "test complete\n",
      "test complete\n",
      "train scores mean, std:  0.8461801198940473 ,  0.0013864844438331865\n",
      "test scores mean, std:  0.8296786784693664 ,  0.0033929705319577946\n",
      "f1 scores mean, std:  0.7728420066640688 ,  0.0055135442166481105\n",
      "feature weights mean, std:\n",
      "ZIP :  0.482559667651494 ,  0.004957850569744491\n",
      "LND_AREA :  0.24640864933086798 ,  0.002878857043893488\n",
      "YRB :  0.20826085920858822 ,  0.004084950746674222\n",
      "YEAR4 :  0.06277082380904987 ,  0.0018634506935102538\n",
      "elapsed time:  0:08:32.680486\n"
     ]
    }
   ],
   "source": [
    "ind_names = ['ZIP', 'LND_AREA', 'YRB', 'YEAR4']\n",
    "propval_samples = []\n",
    "for x in range(10):\n",
    "    propval_samples.append(propval.sample(frac = .01, replace = False))\n",
    "test_multiple_samples(propval_samples, ind_names, 1000, 20, None, 100)"
   ]
  },
  {
   "cell_type": "code",
   "execution_count": null,
   "metadata": {},
   "outputs": [],
   "source": [
    "#Minimal improvement, but adding year does appear to be beneficial."
   ]
  },
  {
   "cell_type": "code",
   "execution_count": null,
   "metadata": {},
   "outputs": [],
   "source": []
  },
  {
   "cell_type": "code",
   "execution_count": 163,
   "metadata": {},
   "outputs": [
    {
     "name": "stdout",
     "output_type": "stream",
     "text": [
      "test complete\n",
      "test complete\n",
      "test complete\n",
      "test complete\n",
      "test complete\n",
      "test complete\n",
      "test complete\n",
      "test complete\n",
      "test complete\n",
      "test complete\n",
      "train scores mean, std:  0.8548399089177007 ,  0.000994741406410473\n",
      "test scores mean, std:  0.8380846169930998 ,  0.0029171339384769226\n",
      "f1 scores mean, std:  0.7850867394929016 ,  0.0027091931171312226\n",
      "feature weights mean, std:\n",
      "ZIP :  0.40837771904944314 ,  0.003875514229868659\n",
      "LND_AREA :  0.2225074682762902 ,  0.00936392017170405\n",
      "YRB :  0.17858362214371926 ,  0.005680889452602274\n",
      "YEAR4 :  0.1282253457176934 ,  0.004093541427995821\n",
      "TOT_UNIT :  0.06230584481285399 ,  0.003144461065554125\n",
      "elapsed time:  0:08:47.433632\n"
     ]
    }
   ],
   "source": [
    "ind_names = ['ZIP', 'LND_AREA', 'YRB', 'YEAR4', 'TOT_UNIT']\n",
    "propval_samples = propval.sample(frac = .01, replace = False)\n",
    "test_multiple_samples(propval_samples, ind_names, 1000, 20, None, 100)"
   ]
  },
  {
   "cell_type": "code",
   "execution_count": null,
   "metadata": {},
   "outputs": [],
   "source": [
    "#TOT_UNIT may have some geopgraphical connotations. The interesting thing is that YEAR4 jumped\n",
    "#in value when we added this."
   ]
  },
  {
   "cell_type": "code",
   "execution_count": null,
   "metadata": {},
   "outputs": [],
   "source": []
  },
  {
   "cell_type": "code",
   "execution_count": 166,
   "metadata": {},
   "outputs": [
    {
     "name": "stdout",
     "output_type": "stream",
     "text": [
      "test complete\n",
      "test complete\n",
      "test complete\n",
      "test complete\n",
      "test complete\n",
      "test complete\n",
      "test complete\n",
      "test complete\n",
      "test complete\n",
      "test complete\n",
      "train scores mean, std:  0.8543380268599842 ,  0.0014129266863105508\n",
      "test scores mean, std:  0.8376036802118911 ,  0.0029285114892480864\n",
      "f1 scores mean, std:  0.7832890870706193 ,  0.0036542459232493055\n",
      "feature weights mean, std:\n",
      "ZIP :  0.40105287955821617 ,  0.008594994302847478\n",
      "LND_AREA :  0.21617776719185242 ,  0.005072005556022113\n",
      "YRB :  0.17878658922072346 ,  0.0024040192016873112\n",
      "YEAR4 :  0.14170118294005368 ,  0.006228748019906632\n",
      "RES_UNIT :  0.062281581089154346 ,  0.0023036834960813058\n",
      "elapsed time:  0:08:54.822935\n"
     ]
    }
   ],
   "source": [
    "ind_names = ['ZIP', 'LND_AREA', 'YRB', 'YEAR4', 'RES_UNIT']\n",
    "propval_samples = []\n",
    "for x in range(10):\n",
    "    propval_samples.append(propval.sample(frac = .01, replace = False))\n",
    "test_multiple_samples(propval_samples, ind_names, 1000, 20, None, 100)"
   ]
  },
  {
   "cell_type": "code",
   "execution_count": null,
   "metadata": {},
   "outputs": [],
   "source": [
    "#RES_UNIT and TOT_UNIT almost completely identical."
   ]
  },
  {
   "cell_type": "code",
   "execution_count": null,
   "metadata": {},
   "outputs": [],
   "source": []
  },
  {
   "cell_type": "code",
   "execution_count": 169,
   "metadata": {},
   "outputs": [
    {
     "name": "stdout",
     "output_type": "stream",
     "text": [
      "test complete\n",
      "test complete\n",
      "test complete\n",
      "test complete\n",
      "test complete\n",
      "test complete\n",
      "test complete\n",
      "test complete\n",
      "test complete\n",
      "test complete\n",
      "train scores mean, std:  0.8219201635763742 ,  0.001584393993606609\n",
      "test scores mean, std:  0.8082107757719383 ,  0.004543862612148498\n",
      "f1 scores mean, std:  0.7399788741105205 ,  0.006865499855129202\n",
      "feature weights mean, std:\n",
      "ZIP :  0.5801200923251771 ,  0.006456949123808431\n",
      "TOT_UNIT :  0.22087215200834223 ,  0.008295443884611061\n",
      "L_ACRE :  0.11986867628493539 ,  0.006060550672037802\n",
      "YEAR4 :  0.07459215588206228 ,  0.0026250594766308206\n",
      "YRB :  0.004546923499482982 ,  0.0008597245441224705\n",
      "elapsed time:  0:06:26.297844\n"
     ]
    }
   ],
   "source": [
    "ind_names = ['ZIP', 'L_ACRE', 'YRB', 'YEAR4', 'TOT_UNIT']\n",
    "propval_samples = []\n",
    "for x in range(10):\n",
    "    propval_samples.append(propval.sample(frac = .01, replace = False))\n",
    "test_multiple_samples(propval_samples, ind_names, 1000, 20, None, 100)"
   ]
  },
  {
   "cell_type": "code",
   "execution_count": null,
   "metadata": {},
   "outputs": [],
   "source": [
    "#L_ACRE underperforms against LND_AREA"
   ]
  },
  {
   "cell_type": "code",
   "execution_count": null,
   "metadata": {},
   "outputs": [],
   "source": []
  },
  {
   "cell_type": "code",
   "execution_count": 207,
   "metadata": {},
   "outputs": [
    {
     "name": "stdout",
     "output_type": "stream",
     "text": [
      "train score: 0.844927738277801\n",
      "test score: 0.8290234892311982\n",
      "f1 score 0.7727230612433986\n",
      "confusion_matrix:\n",
      "[[7724 1071]\n",
      " [1382 4170]]\n",
      "precision score: 0.795649685174585\n",
      "recall score: 0.7510806916426513\n",
      "columns: 4\n",
      "rows: 57385\n",
      "total data: 229540\n",
      "feature importances:\n",
      "ZIP: 0.47988740716416683\n",
      "LND_AREA: 0.25052796020481033\n",
      "YRB: 0.2065285136572892\n",
      "YEAR4: 0.06305611897373373\n",
      "elapsed time: 0:00:50.808684\n"
     ]
    }
   ],
   "source": [
    "ind_names = ['ZIP', 'LND_AREA', 'YRB', 'YEAR4']\n",
    "propval_samples = propval.sample(frac = .01, replace = False)\n",
    "ind_vars, dep_vars = get_class_vars(propval_samples, ind_names)\n",
    "rf.randfor_class_talk(ind_vars, dep_vars, 1000, 20, None, 100)"
   ]
  },
  {
   "cell_type": "code",
   "execution_count": 208,
   "metadata": {},
   "outputs": [
    {
     "name": "stdout",
     "output_type": "stream",
     "text": [
      "train score: 0.8188112830521864\n",
      "test score: 0.7991914685997072\n",
      "f1 score 0.7304705772289269\n",
      "confusion_matrix:\n",
      "[[7562 1236]\n",
      " [1645 3904]]\n",
      "precision score: 0.7595330739299611\n",
      "recall score: 0.7035501892232835\n",
      "columns: 4\n",
      "rows: 57385\n",
      "total data: 229540\n",
      "feature importances:\n",
      "ZIP: 0.5878891238139418\n",
      "YRB: 0.21416658921643789\n",
      "TOT_UNIT: 0.12230218987954736\n",
      "YEAR4: 0.07564209709007302\n",
      "elapsed time: 0:00:36.207392\n"
     ]
    }
   ],
   "source": [
    "ind_names = ['ZIP', 'TOT_UNIT', 'YRB', 'YEAR4']\n",
    "propval_samples = propval.sample(frac = .01, replace = False)\n",
    "ind_vars, dep_vars = get_class_vars(propval_samples, ind_names)\n",
    "rf.randfor_class_talk(ind_vars, dep_vars, 1000, 20, None, 100)"
   ]
  },
  {
   "cell_type": "code",
   "execution_count": 209,
   "metadata": {},
   "outputs": [
    {
     "name": "stdout",
     "output_type": "stream",
     "text": [
      "train score: 0.8565221432222687\n",
      "test score: 0.8408726563044538\n",
      "f1 score 0.7869739665951293\n",
      "confusion_matrix:\n",
      "[[7847  945]\n",
      " [1338 4217]]\n",
      "precision score: 0.8169314219294846\n",
      "recall score: 0.7591359135913591\n",
      "columns: 5\n",
      "rows: 57385\n",
      "total data: 286925\n",
      "feature importances:\n",
      "ZIP: 0.40208515889592245\n",
      "LND_AREA: 0.21868991999882914\n",
      "YRB: 0.18584003756765963\n",
      "TOT_UNIT: 0.13508716763706607\n",
      "YEAR4: 0.05829771590052264\n",
      "elapsed time: 0:00:55.091313\n"
     ]
    }
   ],
   "source": [
    "ind_names = ['ZIP', 'TOT_UNIT', 'YRB', 'YEAR4', 'LND_AREA']\n",
    "propval_samples = propval.sample(frac = .01, replace = False)\n",
    "ind_vars, dep_vars = get_class_vars(propval_samples, ind_names)\n",
    "rf.randfor_class_talk(ind_vars, dep_vars, 1000, 20, None, 100)"
   ]
  },
  {
   "cell_type": "code",
   "execution_count": null,
   "metadata": {},
   "outputs": [],
   "source": []
  },
  {
   "cell_type": "code",
   "execution_count": 210,
   "metadata": {},
   "outputs": [],
   "source": [
    "propval_samples = propval.sample(frac = .01, replace = False)\n",
    "ind_vars = propval_samples[['ZIP', 'LND_AREA', 'YRB', 'YEAR4', 'TOT_UNIT']]\n",
    "dep_var = propval_samples['EXPENSIVE']"
   ]
  },
  {
   "cell_type": "code",
   "execution_count": 211,
   "metadata": {},
   "outputs": [
    {
     "name": "stdout",
     "output_type": "stream",
     "text": [
      "done with test  0\n",
      "done with test  1\n",
      "done with test  2\n",
      "done with test  3\n",
      "done with test  4\n",
      "done with test  5\n",
      "done with test  6\n",
      "done with test  7\n",
      "done with test  8\n",
      "done with test  9\n",
      "done with test  10\n",
      "done with test  11\n",
      "done with test  12\n",
      "done with test  13\n",
      "done with test  14\n",
      "done with test  15\n",
      "done with test  16\n",
      "done with test  17\n",
      "done with test  18\n",
      "done with test  19\n"
     ]
    }
   ],
   "source": [
    "train_data, test_data, rf_data = rf.rand_find_depth(1000, ind_vars, dep_var, 20, 100)"
   ]
  },
  {
   "cell_type": "code",
   "execution_count": 14,
   "metadata": {},
   "outputs": [
    {
     "ename": "NameError",
     "evalue": "name 'train_data' is not defined",
     "output_type": "error",
     "traceback": [
      "\u001b[1;31m---------------------------------------------------------------------------\u001b[0m",
      "\u001b[1;31mNameError\u001b[0m                                 Traceback (most recent call last)",
      "\u001b[1;32m<ipython-input-14-a68ff2e2724e>\u001b[0m in \u001b[0;36m<module>\u001b[1;34m\u001b[0m\n\u001b[1;32m----> 1\u001b[1;33m \u001b[0mplt\u001b[0m\u001b[1;33m.\u001b[0m\u001b[0mplot\u001b[0m\u001b[1;33m(\u001b[0m\u001b[0mtrain_data\u001b[0m\u001b[1;33m,\u001b[0m \u001b[0mls\u001b[0m \u001b[1;33m=\u001b[0m \u001b[1;34m'--'\u001b[0m\u001b[1;33m)\u001b[0m\u001b[1;33m\u001b[0m\u001b[1;33m\u001b[0m\u001b[0m\n\u001b[0m\u001b[0;32m      2\u001b[0m \u001b[0mplt\u001b[0m\u001b[1;33m.\u001b[0m\u001b[0mplot\u001b[0m\u001b[1;33m(\u001b[0m\u001b[0mtest_data\u001b[0m\u001b[1;33m,\u001b[0m \u001b[0mc\u001b[0m \u001b[1;33m=\u001b[0m \u001b[1;34m'black'\u001b[0m\u001b[1;33m)\u001b[0m\u001b[1;33m\u001b[0m\u001b[1;33m\u001b[0m\u001b[0m\n\u001b[0;32m      3\u001b[0m \u001b[0mplt\u001b[0m\u001b[1;33m.\u001b[0m\u001b[0mxlabel\u001b[0m\u001b[1;33m(\u001b[0m\u001b[1;34m'Maximum depth'\u001b[0m\u001b[1;33m)\u001b[0m\u001b[1;33m\u001b[0m\u001b[1;33m\u001b[0m\u001b[0m\n\u001b[0;32m      4\u001b[0m \u001b[0mplt\u001b[0m\u001b[1;33m.\u001b[0m\u001b[0mylabel\u001b[0m\u001b[1;33m(\u001b[0m\u001b[1;34m'Random Forest score'\u001b[0m\u001b[1;33m)\u001b[0m\u001b[1;33m\u001b[0m\u001b[1;33m\u001b[0m\u001b[0m\n\u001b[0;32m      5\u001b[0m \u001b[0mplt\u001b[0m\u001b[1;33m.\u001b[0m\u001b[0mtitle\u001b[0m\u001b[1;33m(\u001b[0m\u001b[1;34m'Random forest score at varying depth'\u001b[0m\u001b[1;33m)\u001b[0m\u001b[1;33m\u001b[0m\u001b[1;33m\u001b[0m\u001b[0m\n",
      "\u001b[1;31mNameError\u001b[0m: name 'train_data' is not defined"
     ]
    }
   ],
   "source": [
    "plt.plot(train_data, ls = '--')\n",
    "plt.plot(test_data, c = 'black')\n",
    "plt.xlabel('Maximum depth')\n",
    "plt.ylabel('Random Forest score')\n",
    "plt.title('Random forest score at varying depth')"
   ]
  },
  {
   "cell_type": "code",
   "execution_count": 5,
   "metadata": {},
   "outputs": [
    {
     "data": {
      "text/plain": [
       "27468900"
      ]
     },
     "execution_count": 5,
     "metadata": {},
     "output_type": "execute_result"
    }
   ],
   "source": [
    "max(propval.FN_AVT_A)"
   ]
  },
  {
   "cell_type": "code",
   "execution_count": 6,
   "metadata": {},
   "outputs": [],
   "source": [
    "manhattan = propval[propval.BORO == 1]"
   ]
  },
  {
   "cell_type": "code",
   "execution_count": 7,
   "metadata": {
    "scrolled": true
   },
   "outputs": [
    {
     "ename": "KeyboardInterrupt",
     "evalue": "",
     "output_type": "error",
     "traceback": [
      "\u001b[1;31m---------------------------------------------------------------------------\u001b[0m",
      "\u001b[1;31mTypeError\u001b[0m                                 Traceback (most recent call last)",
      "\u001b[1;32m~\\Anaconda3\\lib\\site-packages\\pandas\\core\\nanops.py\u001b[0m in \u001b[0;36mf\u001b[1;34m(values, axis, skipna, **kwds)\u001b[0m\n\u001b[0;32m    119\u001b[0m                 \u001b[1;32melse\u001b[0m\u001b[1;33m:\u001b[0m\u001b[1;33m\u001b[0m\u001b[1;33m\u001b[0m\u001b[0m\n\u001b[1;32m--> 120\u001b[1;33m                     \u001b[0mresult\u001b[0m \u001b[1;33m=\u001b[0m \u001b[0malt\u001b[0m\u001b[1;33m(\u001b[0m\u001b[0mvalues\u001b[0m\u001b[1;33m,\u001b[0m \u001b[0maxis\u001b[0m\u001b[1;33m=\u001b[0m\u001b[0maxis\u001b[0m\u001b[1;33m,\u001b[0m \u001b[0mskipna\u001b[0m\u001b[1;33m=\u001b[0m\u001b[0mskipna\u001b[0m\u001b[1;33m,\u001b[0m \u001b[1;33m**\u001b[0m\u001b[0mkwds\u001b[0m\u001b[1;33m)\u001b[0m\u001b[1;33m\u001b[0m\u001b[1;33m\u001b[0m\u001b[0m\n\u001b[0m\u001b[0;32m    121\u001b[0m             \u001b[1;32mexcept\u001b[0m \u001b[0mException\u001b[0m\u001b[1;33m:\u001b[0m\u001b[1;33m\u001b[0m\u001b[1;33m\u001b[0m\u001b[0m\n",
      "\u001b[1;32m~\\Anaconda3\\lib\\site-packages\\pandas\\core\\nanops.py\u001b[0m in \u001b[0;36mnanmean\u001b[1;34m(values, axis, skipna, mask)\u001b[0m\n\u001b[0;32m    550\u001b[0m     \u001b[0mcount\u001b[0m \u001b[1;33m=\u001b[0m \u001b[0m_get_counts\u001b[0m\u001b[1;33m(\u001b[0m\u001b[0mvalues\u001b[0m\u001b[1;33m.\u001b[0m\u001b[0mshape\u001b[0m\u001b[1;33m,\u001b[0m \u001b[0mmask\u001b[0m\u001b[1;33m,\u001b[0m \u001b[0maxis\u001b[0m\u001b[1;33m,\u001b[0m \u001b[0mdtype\u001b[0m\u001b[1;33m=\u001b[0m\u001b[0mdtype_count\u001b[0m\u001b[1;33m)\u001b[0m\u001b[1;33m\u001b[0m\u001b[1;33m\u001b[0m\u001b[0m\n\u001b[1;32m--> 551\u001b[1;33m     \u001b[0mthe_sum\u001b[0m \u001b[1;33m=\u001b[0m \u001b[0m_ensure_numeric\u001b[0m\u001b[1;33m(\u001b[0m\u001b[0mvalues\u001b[0m\u001b[1;33m.\u001b[0m\u001b[0msum\u001b[0m\u001b[1;33m(\u001b[0m\u001b[0maxis\u001b[0m\u001b[1;33m,\u001b[0m \u001b[0mdtype\u001b[0m\u001b[1;33m=\u001b[0m\u001b[0mdtype_sum\u001b[0m\u001b[1;33m)\u001b[0m\u001b[1;33m)\u001b[0m\u001b[1;33m\u001b[0m\u001b[1;33m\u001b[0m\u001b[0m\n\u001b[0m\u001b[0;32m    552\u001b[0m \u001b[1;33m\u001b[0m\u001b[0m\n",
      "\u001b[1;32m~\\Anaconda3\\lib\\site-packages\\numpy\\core\\_methods.py\u001b[0m in \u001b[0;36m_sum\u001b[1;34m(a, axis, dtype, out, keepdims, initial)\u001b[0m\n\u001b[0;32m     35\u001b[0m          initial=_NoValue):\n\u001b[1;32m---> 36\u001b[1;33m     \u001b[1;32mreturn\u001b[0m \u001b[0mumr_sum\u001b[0m\u001b[1;33m(\u001b[0m\u001b[0ma\u001b[0m\u001b[1;33m,\u001b[0m \u001b[0maxis\u001b[0m\u001b[1;33m,\u001b[0m \u001b[0mdtype\u001b[0m\u001b[1;33m,\u001b[0m \u001b[0mout\u001b[0m\u001b[1;33m,\u001b[0m \u001b[0mkeepdims\u001b[0m\u001b[1;33m,\u001b[0m \u001b[0minitial\u001b[0m\u001b[1;33m)\u001b[0m\u001b[1;33m\u001b[0m\u001b[1;33m\u001b[0m\u001b[0m\n\u001b[0m\u001b[0;32m     37\u001b[0m \u001b[1;33m\u001b[0m\u001b[0m\n",
      "\u001b[1;31mTypeError\u001b[0m: unsupported operand type(s) for +: 'int' and 'str'",
      "\nDuring handling of the above exception, another exception occurred:\n",
      "\u001b[1;31mKeyboardInterrupt\u001b[0m                         Traceback (most recent call last)",
      "\u001b[1;32m<ipython-input-7-62da918eeec0>\u001b[0m in \u001b[0;36m<module>\u001b[1;34m\u001b[0m\n\u001b[1;32m----> 1\u001b[1;33m \u001b[0mnp\u001b[0m\u001b[1;33m.\u001b[0m\u001b[0mmean\u001b[0m\u001b[1;33m(\u001b[0m\u001b[0mmanhattan\u001b[0m\u001b[1;33m)\u001b[0m\u001b[1;33m\u001b[0m\u001b[1;33m\u001b[0m\u001b[0m\n\u001b[0m",
      "\u001b[1;32m~\\Anaconda3\\lib\\site-packages\\numpy\\core\\fromnumeric.py\u001b[0m in \u001b[0;36mmean\u001b[1;34m(a, axis, dtype, out, keepdims)\u001b[0m\n\u001b[0;32m   3113\u001b[0m             \u001b[1;32mpass\u001b[0m\u001b[1;33m\u001b[0m\u001b[1;33m\u001b[0m\u001b[0m\n\u001b[0;32m   3114\u001b[0m         \u001b[1;32melse\u001b[0m\u001b[1;33m:\u001b[0m\u001b[1;33m\u001b[0m\u001b[1;33m\u001b[0m\u001b[0m\n\u001b[1;32m-> 3115\u001b[1;33m             \u001b[1;32mreturn\u001b[0m \u001b[0mmean\u001b[0m\u001b[1;33m(\u001b[0m\u001b[0maxis\u001b[0m\u001b[1;33m=\u001b[0m\u001b[0maxis\u001b[0m\u001b[1;33m,\u001b[0m \u001b[0mdtype\u001b[0m\u001b[1;33m=\u001b[0m\u001b[0mdtype\u001b[0m\u001b[1;33m,\u001b[0m \u001b[0mout\u001b[0m\u001b[1;33m=\u001b[0m\u001b[0mout\u001b[0m\u001b[1;33m,\u001b[0m \u001b[1;33m**\u001b[0m\u001b[0mkwargs\u001b[0m\u001b[1;33m)\u001b[0m\u001b[1;33m\u001b[0m\u001b[1;33m\u001b[0m\u001b[0m\n\u001b[0m\u001b[0;32m   3116\u001b[0m \u001b[1;33m\u001b[0m\u001b[0m\n\u001b[0;32m   3117\u001b[0m     return _methods._mean(a, axis=axis, dtype=dtype,\n",
      "\u001b[1;32m~\\Anaconda3\\lib\\site-packages\\pandas\\core\\generic.py\u001b[0m in \u001b[0;36mstat_func\u001b[1;34m(self, axis, skipna, level, numeric_only, **kwargs)\u001b[0m\n\u001b[0;32m  11616\u001b[0m             \u001b[1;32mreturn\u001b[0m \u001b[0mself\u001b[0m\u001b[1;33m.\u001b[0m\u001b[0m_agg_by_level\u001b[0m\u001b[1;33m(\u001b[0m\u001b[0mname\u001b[0m\u001b[1;33m,\u001b[0m \u001b[0maxis\u001b[0m\u001b[1;33m=\u001b[0m\u001b[0maxis\u001b[0m\u001b[1;33m,\u001b[0m \u001b[0mlevel\u001b[0m\u001b[1;33m=\u001b[0m\u001b[0mlevel\u001b[0m\u001b[1;33m,\u001b[0m \u001b[0mskipna\u001b[0m\u001b[1;33m=\u001b[0m\u001b[0mskipna\u001b[0m\u001b[1;33m)\u001b[0m\u001b[1;33m\u001b[0m\u001b[1;33m\u001b[0m\u001b[0m\n\u001b[0;32m  11617\u001b[0m         return self._reduce(\n\u001b[1;32m> 11618\u001b[1;33m             \u001b[0mf\u001b[0m\u001b[1;33m,\u001b[0m \u001b[0mname\u001b[0m\u001b[1;33m,\u001b[0m \u001b[0maxis\u001b[0m\u001b[1;33m=\u001b[0m\u001b[0maxis\u001b[0m\u001b[1;33m,\u001b[0m \u001b[0mskipna\u001b[0m\u001b[1;33m=\u001b[0m\u001b[0mskipna\u001b[0m\u001b[1;33m,\u001b[0m \u001b[0mnumeric_only\u001b[0m\u001b[1;33m=\u001b[0m\u001b[0mnumeric_only\u001b[0m\u001b[1;33m\u001b[0m\u001b[1;33m\u001b[0m\u001b[0m\n\u001b[0m\u001b[0;32m  11619\u001b[0m         )\n\u001b[0;32m  11620\u001b[0m \u001b[1;33m\u001b[0m\u001b[0m\n",
      "\u001b[1;32m~\\Anaconda3\\lib\\site-packages\\pandas\\core\\frame.py\u001b[0m in \u001b[0;36m_reduce\u001b[1;34m(self, op, name, axis, skipna, numeric_only, filter_type, **kwds)\u001b[0m\n\u001b[0;32m   7907\u001b[0m             \u001b[1;32mtry\u001b[0m\u001b[1;33m:\u001b[0m\u001b[1;33m\u001b[0m\u001b[1;33m\u001b[0m\u001b[0m\n\u001b[0;32m   7908\u001b[0m                 \u001b[0mvalues\u001b[0m \u001b[1;33m=\u001b[0m \u001b[0mself\u001b[0m\u001b[1;33m.\u001b[0m\u001b[0mvalues\u001b[0m\u001b[1;33m\u001b[0m\u001b[1;33m\u001b[0m\u001b[0m\n\u001b[1;32m-> 7909\u001b[1;33m                 \u001b[0mresult\u001b[0m \u001b[1;33m=\u001b[0m \u001b[0mf\u001b[0m\u001b[1;33m(\u001b[0m\u001b[0mvalues\u001b[0m\u001b[1;33m)\u001b[0m\u001b[1;33m\u001b[0m\u001b[1;33m\u001b[0m\u001b[0m\n\u001b[0m\u001b[0;32m   7910\u001b[0m \u001b[1;33m\u001b[0m\u001b[0m\n\u001b[0;32m   7911\u001b[0m                 \u001b[1;32mif\u001b[0m \u001b[0mfilter_type\u001b[0m \u001b[1;33m==\u001b[0m \u001b[1;34m\"bool\"\u001b[0m \u001b[1;32mand\u001b[0m \u001b[0mis_object_dtype\u001b[0m\u001b[1;33m(\u001b[0m\u001b[0mvalues\u001b[0m\u001b[1;33m)\u001b[0m \u001b[1;32mand\u001b[0m \u001b[0maxis\u001b[0m \u001b[1;32mis\u001b[0m \u001b[1;32mNone\u001b[0m\u001b[1;33m:\u001b[0m\u001b[1;33m\u001b[0m\u001b[1;33m\u001b[0m\u001b[0m\n",
      "\u001b[1;32m~\\Anaconda3\\lib\\site-packages\\pandas\\core\\frame.py\u001b[0m in \u001b[0;36mf\u001b[1;34m(x)\u001b[0m\n\u001b[0;32m   7891\u001b[0m \u001b[1;33m\u001b[0m\u001b[0m\n\u001b[0;32m   7892\u001b[0m         \u001b[1;32mdef\u001b[0m \u001b[0mf\u001b[0m\u001b[1;33m(\u001b[0m\u001b[0mx\u001b[0m\u001b[1;33m)\u001b[0m\u001b[1;33m:\u001b[0m\u001b[1;33m\u001b[0m\u001b[1;33m\u001b[0m\u001b[0m\n\u001b[1;32m-> 7893\u001b[1;33m             \u001b[1;32mreturn\u001b[0m \u001b[0mop\u001b[0m\u001b[1;33m(\u001b[0m\u001b[0mx\u001b[0m\u001b[1;33m,\u001b[0m \u001b[0maxis\u001b[0m\u001b[1;33m=\u001b[0m\u001b[0maxis\u001b[0m\u001b[1;33m,\u001b[0m \u001b[0mskipna\u001b[0m\u001b[1;33m=\u001b[0m\u001b[0mskipna\u001b[0m\u001b[1;33m,\u001b[0m \u001b[1;33m**\u001b[0m\u001b[0mkwds\u001b[0m\u001b[1;33m)\u001b[0m\u001b[1;33m\u001b[0m\u001b[1;33m\u001b[0m\u001b[0m\n\u001b[0m\u001b[0;32m   7894\u001b[0m \u001b[1;33m\u001b[0m\u001b[0m\n\u001b[0;32m   7895\u001b[0m         \u001b[1;31m# exclude timedelta/datetime unless we are uniform types\u001b[0m\u001b[1;33m\u001b[0m\u001b[1;33m\u001b[0m\u001b[1;33m\u001b[0m\u001b[0m\n",
      "\u001b[1;32m~\\Anaconda3\\lib\\site-packages\\pandas\\core\\nanops.py\u001b[0m in \u001b[0;36m_f\u001b[1;34m(*args, **kwargs)\u001b[0m\n\u001b[0;32m     68\u001b[0m             \u001b[1;32mtry\u001b[0m\u001b[1;33m:\u001b[0m\u001b[1;33m\u001b[0m\u001b[1;33m\u001b[0m\u001b[0m\n\u001b[0;32m     69\u001b[0m                 \u001b[1;32mwith\u001b[0m \u001b[0mnp\u001b[0m\u001b[1;33m.\u001b[0m\u001b[0merrstate\u001b[0m\u001b[1;33m(\u001b[0m\u001b[0minvalid\u001b[0m\u001b[1;33m=\u001b[0m\u001b[1;34m\"ignore\"\u001b[0m\u001b[1;33m)\u001b[0m\u001b[1;33m:\u001b[0m\u001b[1;33m\u001b[0m\u001b[1;33m\u001b[0m\u001b[0m\n\u001b[1;32m---> 70\u001b[1;33m                     \u001b[1;32mreturn\u001b[0m \u001b[0mf\u001b[0m\u001b[1;33m(\u001b[0m\u001b[1;33m*\u001b[0m\u001b[0margs\u001b[0m\u001b[1;33m,\u001b[0m \u001b[1;33m**\u001b[0m\u001b[0mkwargs\u001b[0m\u001b[1;33m)\u001b[0m\u001b[1;33m\u001b[0m\u001b[1;33m\u001b[0m\u001b[0m\n\u001b[0m\u001b[0;32m     71\u001b[0m             \u001b[1;32mexcept\u001b[0m \u001b[0mValueError\u001b[0m \u001b[1;32mas\u001b[0m \u001b[0me\u001b[0m\u001b[1;33m:\u001b[0m\u001b[1;33m\u001b[0m\u001b[1;33m\u001b[0m\u001b[0m\n\u001b[0;32m     72\u001b[0m                 \u001b[1;31m# we want to transform an object array\u001b[0m\u001b[1;33m\u001b[0m\u001b[1;33m\u001b[0m\u001b[1;33m\u001b[0m\u001b[0m\n",
      "\u001b[1;32m~\\Anaconda3\\lib\\site-packages\\pandas\\core\\nanops.py\u001b[0m in \u001b[0;36mf\u001b[1;34m(values, axis, skipna, **kwds)\u001b[0m\n\u001b[0;32m    119\u001b[0m                 \u001b[1;32melse\u001b[0m\u001b[1;33m:\u001b[0m\u001b[1;33m\u001b[0m\u001b[1;33m\u001b[0m\u001b[0m\n\u001b[0;32m    120\u001b[0m                     \u001b[0mresult\u001b[0m \u001b[1;33m=\u001b[0m \u001b[0malt\u001b[0m\u001b[1;33m(\u001b[0m\u001b[0mvalues\u001b[0m\u001b[1;33m,\u001b[0m \u001b[0maxis\u001b[0m\u001b[1;33m=\u001b[0m\u001b[0maxis\u001b[0m\u001b[1;33m,\u001b[0m \u001b[0mskipna\u001b[0m\u001b[1;33m=\u001b[0m\u001b[0mskipna\u001b[0m\u001b[1;33m,\u001b[0m \u001b[1;33m**\u001b[0m\u001b[0mkwds\u001b[0m\u001b[1;33m)\u001b[0m\u001b[1;33m\u001b[0m\u001b[1;33m\u001b[0m\u001b[0m\n\u001b[1;32m--> 121\u001b[1;33m             \u001b[1;32mexcept\u001b[0m \u001b[0mException\u001b[0m\u001b[1;33m:\u001b[0m\u001b[1;33m\u001b[0m\u001b[1;33m\u001b[0m\u001b[0m\n\u001b[0m\u001b[0;32m    122\u001b[0m                 \u001b[1;32mtry\u001b[0m\u001b[1;33m:\u001b[0m\u001b[1;33m\u001b[0m\u001b[1;33m\u001b[0m\u001b[0m\n\u001b[0;32m    123\u001b[0m                     \u001b[0mresult\u001b[0m \u001b[1;33m=\u001b[0m \u001b[0malt\u001b[0m\u001b[1;33m(\u001b[0m\u001b[0mvalues\u001b[0m\u001b[1;33m,\u001b[0m \u001b[0maxis\u001b[0m\u001b[1;33m=\u001b[0m\u001b[0maxis\u001b[0m\u001b[1;33m,\u001b[0m \u001b[0mskipna\u001b[0m\u001b[1;33m=\u001b[0m\u001b[0mskipna\u001b[0m\u001b[1;33m,\u001b[0m \u001b[1;33m**\u001b[0m\u001b[0mkwds\u001b[0m\u001b[1;33m)\u001b[0m\u001b[1;33m\u001b[0m\u001b[1;33m\u001b[0m\u001b[0m\n",
      "\u001b[1;31mKeyboardInterrupt\u001b[0m: "
     ]
    }
   ],
   "source": [
    "np.mean(manhattan)"
   ]
  },
  {
   "cell_type": "code",
   "execution_count": 10,
   "metadata": {},
   "outputs": [
    {
     "data": {
      "text/plain": [
       "148710.814380015"
      ]
     },
     "execution_count": 10,
     "metadata": {},
     "output_type": "execute_result"
    }
   ],
   "source": [
    "np.mean(manhattan.FN_AVT_A)"
   ]
  },
  {
   "cell_type": "code",
   "execution_count": null,
   "metadata": {},
   "outputs": [],
   "source": []
  },
  {
   "cell_type": "code",
   "execution_count": 15,
   "metadata": {},
   "outputs": [
    {
     "data": {
      "text/plain": [
       "(0, 1.5)"
      ]
     },
     "execution_count": 15,
     "metadata": {},
     "output_type": "execute_result"
    },
    {
     "data": {
      "image/png": "[encoded data removed]",
      "text/plain": [
       "<Figure size 432x288 with 1 Axes>"
      ]
     },
     "metadata": {
      "needs_background": "light"
     },
     "output_type": "display_data"
    }
   ],
   "source": [
    "plt.scatter(x = propval.TOT_UNIT, y = propval.LND_AREA)\n",
    "plt.xlabel('Total units')\n",
    "plt.ylabel('Land area')\n",
    "plt.xlim((0, 250))\n",
    "plt.ylim((0, 1.5))"
   ]
  },
  {
   "cell_type": "code",
   "execution_count": null,
   "metadata": {},
   "outputs": [],
   "source": []
  }
 ],
 "metadata": {
  "kernelspec": {
   "display_name": "Python 3",
   "language": "python",
   "name": "python3"
  },
  "language_info": {
   "codemirror_mode": {
    "name": "ipython",
    "version": 3
   },
   "file_extension": ".py",
   "mimetype": "text/x-python",
   "name": "python",
   "nbconvert_exporter": "python",
   "pygments_lexer": "ipython3",
   "version": "3.7.4"
  }
 },
 "nbformat": 4,
 "nbformat_minor": 2
}
